{
 "cells": [
  {
   "cell_type": "code",
   "execution_count": 1,
   "metadata": {
    "_cell_guid": "b1076dfc-b9ad-4769-8c92-a6c4dae69d19",
    "_uuid": "8f2839f25d086af736a60e9eeb907d3b93b6e0e5",
    "execution": {
     "iopub.execute_input": "2021-01-26T06:56:37.126272Z",
     "iopub.status.busy": "2021-01-26T06:56:37.125555Z",
     "iopub.status.idle": "2021-01-26T06:56:37.141873Z",
     "shell.execute_reply": "2021-01-26T06:56:37.142891Z"
    },
    "papermill": {
     "duration": 0.066673,
     "end_time": "2021-01-26T06:56:37.143189",
     "exception": false,
     "start_time": "2021-01-26T06:56:37.076516",
     "status": "completed"
    },
    "tags": []
   },
   "outputs": [
    {
     "name": "stdout",
     "output_type": "stream",
     "text": [
      "/kaggle/input/online-retail-ii-data-set-from-ml-repository/online_retail_II.xlsx\n"
     ]
    }
   ],
   "source": [
    "# This Python 3 environment comes with many helpful analytics libraries installed\n",
    "# It is defined by the kaggle/python Docker image: https://github.com/kaggle/docker-python\n",
    "# For example, here's several helpful packages to load\n",
    "\n",
    "import numpy as np # linear algebra\n",
    "import pandas as pd # data processing, CSV file I/O (e.g. pd.read_csv)\n",
    "\n",
    "# Input data files are available in the read-only \"../input/\" directory\n",
    "# For example, running this (by clicking run or pressing Shift+Enter) will list all files under the input directory\n",
    "\n",
    "import os\n",
    "for dirname, _, filenames in os.walk('/kaggle/input'):\n",
    "    for filename in filenames:\n",
    "        print(os.path.join(dirname, filename))\n",
    "\n",
    "# You can write up to 20GB to the current directory (/kaggle/working/) that gets preserved as output when you create a version using \"Save & Run All\" \n",
    "# You can also write temporary files to /kaggle/temp/, but they won't be saved outside of the current session"
   ]
  },
  {
   "cell_type": "markdown",
   "metadata": {
    "papermill": {
     "duration": 0.040699,
     "end_time": "2021-01-26T06:56:37.225556",
     "exception": false,
     "start_time": "2021-01-26T06:56:37.184857",
     "status": "completed"
    },
    "tags": []
   },
   "source": [
    "In order to maintain a good CRM (Customer Relationship Management), a company should be aware of each customer’s attitude towards the company. The company should know the answers to the following questions:     \n",
    "1. when did the customer last purchased? (Recency)   \n",
    "2. how often does the customer purchase?  (Frequency)  \n",
    "3. how much money did the customer spend?  (Monetary)   \n",
    "\n",
    "The answers to the above questions would make the customer be categorized and after this process, the company would be dealing with tens of segments instead of tens of thousands customers. **RFM** is an acronym that stands for **Recency**, **Frequency** and **Monetary**. In order to assign each customer into the appropriate segment, RFM metrics should be calculated and afterwards RFM scores should be computed.\n"
   ]
  },
  {
   "cell_type": "markdown",
   "metadata": {
    "papermill": {
     "duration": 0.040729,
     "end_time": "2021-01-26T06:56:37.307504",
     "exception": false,
     "start_time": "2021-01-26T06:56:37.266775",
     "status": "completed"
    },
    "tags": []
   },
   "source": [
    "## Getting to know the variables:\n",
    "\n",
    "**InvoiceNo**   : The number of the invoice, unique per each purchase. Refund invoice numbers contain \"C\"  \n",
    "**StockCode**   : Unique code per each item  \n",
    "**Description** : Name of the item  \n",
    "**Quantity**    : The number of items within the invoice  \n",
    "**InvoiceDate** : Date and time of the purchase  \n",
    "**UnitPrice**   : Price of a single item, as of Sterlin  \n",
    "**CustomerID**  : Unique id number per each customer  \n",
    "**Country**     : The country where the customer is living  \n"
   ]
  },
  {
   "cell_type": "markdown",
   "metadata": {
    "papermill": {
     "duration": 0.040396,
     "end_time": "2021-01-26T06:56:37.388915",
     "exception": false,
     "start_time": "2021-01-26T06:56:37.348519",
     "status": "completed"
    },
    "tags": []
   },
   "source": [
    "## install packages and set configurations\n"
   ]
  },
  {
   "cell_type": "code",
   "execution_count": 2,
   "metadata": {
    "execution": {
     "iopub.execute_input": "2021-01-26T06:56:37.473990Z",
     "iopub.status.busy": "2021-01-26T06:56:37.473337Z",
     "iopub.status.idle": "2021-01-26T06:56:37.480073Z",
     "shell.execute_reply": "2021-01-26T06:56:37.480634Z"
    },
    "papermill": {
     "duration": 0.051158,
     "end_time": "2021-01-26T06:56:37.480792",
     "exception": false,
     "start_time": "2021-01-26T06:56:37.429634",
     "status": "completed"
    },
    "tags": []
   },
   "outputs": [],
   "source": [
    "import numpy as np\n",
    "import pandas as pd\n",
    "import datetime as dt\n",
    "\n",
    "pd.set_option('display.max_columns', None)\n",
    "pd.set_option('display.float_format', lambda x: '%.5f' % x)\n",
    "\n",
    "import warnings\n",
    "warnings.filterwarnings(\"ignore\")\n",
    "warnings.simplefilter(action='ignore', category=FutureWarning)"
   ]
  },
  {
   "cell_type": "markdown",
   "metadata": {
    "papermill": {
     "duration": 0.040472,
     "end_time": "2021-01-26T06:56:37.563035",
     "exception": false,
     "start_time": "2021-01-26T06:56:37.522563",
     "status": "completed"
    },
    "tags": []
   },
   "source": [
    "## Read data"
   ]
  },
  {
   "cell_type": "code",
   "execution_count": 3,
   "metadata": {
    "execution": {
     "iopub.execute_input": "2021-01-26T06:56:37.651371Z",
     "iopub.status.busy": "2021-01-26T06:56:37.650620Z",
     "iopub.status.idle": "2021-01-26T06:59:11.738852Z",
     "shell.execute_reply": "2021-01-26T06:59:11.739404Z"
    },
    "papermill": {
     "duration": 154.135226,
     "end_time": "2021-01-26T06:59:11.739573",
     "exception": false,
     "start_time": "2021-01-26T06:56:37.604347",
     "status": "completed"
    },
    "tags": []
   },
   "outputs": [
    {
     "data": {
      "text/html": [
       "<div>\n",
       "<style scoped>\n",
       "    .dataframe tbody tr th:only-of-type {\n",
       "        vertical-align: middle;\n",
       "    }\n",
       "\n",
       "    .dataframe tbody tr th {\n",
       "        vertical-align: top;\n",
       "    }\n",
       "\n",
       "    .dataframe thead th {\n",
       "        text-align: right;\n",
       "    }\n",
       "</style>\n",
       "<table border=\"1\" class=\"dataframe\">\n",
       "  <thead>\n",
       "    <tr style=\"text-align: right;\">\n",
       "      <th></th>\n",
       "      <th>Invoice</th>\n",
       "      <th>StockCode</th>\n",
       "      <th>Description</th>\n",
       "      <th>Quantity</th>\n",
       "      <th>InvoiceDate</th>\n",
       "      <th>Price</th>\n",
       "      <th>Customer ID</th>\n",
       "      <th>Country</th>\n",
       "    </tr>\n",
       "  </thead>\n",
       "  <tbody>\n",
       "    <tr>\n",
       "      <th>0</th>\n",
       "      <td>489434</td>\n",
       "      <td>85048</td>\n",
       "      <td>15CM CHRISTMAS GLASS BALL 20 LIGHTS</td>\n",
       "      <td>12</td>\n",
       "      <td>2009-12-01 07:45:00</td>\n",
       "      <td>6.95000</td>\n",
       "      <td>13085.00000</td>\n",
       "      <td>United Kingdom</td>\n",
       "    </tr>\n",
       "    <tr>\n",
       "      <th>1</th>\n",
       "      <td>489434</td>\n",
       "      <td>79323P</td>\n",
       "      <td>PINK CHERRY LIGHTS</td>\n",
       "      <td>12</td>\n",
       "      <td>2009-12-01 07:45:00</td>\n",
       "      <td>6.75000</td>\n",
       "      <td>13085.00000</td>\n",
       "      <td>United Kingdom</td>\n",
       "    </tr>\n",
       "    <tr>\n",
       "      <th>2</th>\n",
       "      <td>489434</td>\n",
       "      <td>79323W</td>\n",
       "      <td>WHITE CHERRY LIGHTS</td>\n",
       "      <td>12</td>\n",
       "      <td>2009-12-01 07:45:00</td>\n",
       "      <td>6.75000</td>\n",
       "      <td>13085.00000</td>\n",
       "      <td>United Kingdom</td>\n",
       "    </tr>\n",
       "    <tr>\n",
       "      <th>3</th>\n",
       "      <td>489434</td>\n",
       "      <td>22041</td>\n",
       "      <td>RECORD FRAME 7\" SINGLE SIZE</td>\n",
       "      <td>48</td>\n",
       "      <td>2009-12-01 07:45:00</td>\n",
       "      <td>2.10000</td>\n",
       "      <td>13085.00000</td>\n",
       "      <td>United Kingdom</td>\n",
       "    </tr>\n",
       "    <tr>\n",
       "      <th>4</th>\n",
       "      <td>489434</td>\n",
       "      <td>21232</td>\n",
       "      <td>STRAWBERRY CERAMIC TRINKET BOX</td>\n",
       "      <td>24</td>\n",
       "      <td>2009-12-01 07:45:00</td>\n",
       "      <td>1.25000</td>\n",
       "      <td>13085.00000</td>\n",
       "      <td>United Kingdom</td>\n",
       "    </tr>\n",
       "  </tbody>\n",
       "</table>\n",
       "</div>"
      ],
      "text/plain": [
       "  Invoice StockCode                          Description  Quantity  \\\n",
       "0  489434     85048  15CM CHRISTMAS GLASS BALL 20 LIGHTS        12   \n",
       "1  489434    79323P                   PINK CHERRY LIGHTS        12   \n",
       "2  489434    79323W                  WHITE CHERRY LIGHTS        12   \n",
       "3  489434     22041         RECORD FRAME 7\" SINGLE SIZE         48   \n",
       "4  489434     21232       STRAWBERRY CERAMIC TRINKET BOX        24   \n",
       "\n",
       "          InvoiceDate   Price  Customer ID         Country  \n",
       "0 2009-12-01 07:45:00 6.95000  13085.00000  United Kingdom  \n",
       "1 2009-12-01 07:45:00 6.75000  13085.00000  United Kingdom  \n",
       "2 2009-12-01 07:45:00 6.75000  13085.00000  United Kingdom  \n",
       "3 2009-12-01 07:45:00 2.10000  13085.00000  United Kingdom  \n",
       "4 2009-12-01 07:45:00 1.25000  13085.00000  United Kingdom  "
      ]
     },
     "execution_count": 3,
     "metadata": {},
     "output_type": "execute_result"
    }
   ],
   "source": [
    "df_ = pd.read_excel(\"../input/online-retail-ii-data-set-from-ml-repository/online_retail_II.xlsx\", \n",
    "                    sheet_name=\"Year 2009-2010\") \n",
    "df = df_.copy()\n",
    "df.head()\n"
   ]
  },
  {
   "cell_type": "markdown",
   "metadata": {
    "papermill": {
     "duration": 0.041609,
     "end_time": "2021-01-26T06:59:11.823568",
     "exception": false,
     "start_time": "2021-01-26T06:59:11.781959",
     "status": "completed"
    },
    "tags": []
   },
   "source": [
    "## Data Understanding"
   ]
  },
  {
   "cell_type": "code",
   "execution_count": 4,
   "metadata": {
    "execution": {
     "iopub.execute_input": "2021-01-26T06:59:11.916224Z",
     "iopub.status.busy": "2021-01-26T06:59:11.915267Z",
     "iopub.status.idle": "2021-01-26T06:59:12.168546Z",
     "shell.execute_reply": "2021-01-26T06:59:12.167918Z"
    },
    "papermill": {
     "duration": 0.302563,
     "end_time": "2021-01-26T06:59:12.168687",
     "exception": false,
     "start_time": "2021-01-26T06:59:11.866124",
     "status": "completed"
    },
    "tags": []
   },
   "outputs": [
    {
     "name": "stdout",
     "output_type": "stream",
     "text": [
      "<class 'pandas.core.frame.DataFrame'>\n",
      "RangeIndex: 525461 entries, 0 to 525460\n",
      "Data columns (total 8 columns):\n",
      " #   Column       Non-Null Count   Dtype         \n",
      "---  ------       --------------   -----         \n",
      " 0   Invoice      525461 non-null  object        \n",
      " 1   StockCode    525461 non-null  object        \n",
      " 2   Description  522533 non-null  object        \n",
      " 3   Quantity     525461 non-null  int64         \n",
      " 4   InvoiceDate  525461 non-null  datetime64[ns]\n",
      " 5   Price        525461 non-null  float64       \n",
      " 6   Customer ID  417534 non-null  float64       \n",
      " 7   Country      525461 non-null  object        \n",
      "dtypes: datetime64[ns](1), float64(2), int64(1), object(4)\n",
      "memory usage: 32.1+ MB\n"
     ]
    }
   ],
   "source": [
    "df.info()"
   ]
  },
  {
   "cell_type": "markdown",
   "metadata": {
    "papermill": {
     "duration": 0.042204,
     "end_time": "2021-01-26T06:59:12.253203",
     "exception": false,
     "start_time": "2021-01-26T06:59:12.210999",
     "status": "completed"
    },
    "tags": []
   },
   "source": [
    "how many countries in df:"
   ]
  },
  {
   "cell_type": "code",
   "execution_count": 5,
   "metadata": {
    "execution": {
     "iopub.execute_input": "2021-01-26T06:59:12.341753Z",
     "iopub.status.busy": "2021-01-26T06:59:12.341070Z",
     "iopub.status.idle": "2021-01-26T06:59:12.389871Z",
     "shell.execute_reply": "2021-01-26T06:59:12.390446Z"
    },
    "papermill": {
     "duration": 0.095028,
     "end_time": "2021-01-26T06:59:12.390595",
     "exception": false,
     "start_time": "2021-01-26T06:59:12.295567",
     "status": "completed"
    },
    "tags": []
   },
   "outputs": [
    {
     "data": {
      "text/plain": [
       "40"
      ]
     },
     "execution_count": 5,
     "metadata": {},
     "output_type": "execute_result"
    }
   ],
   "source": [
    "\n",
    "df['Country'].nunique()"
   ]
  },
  {
   "cell_type": "markdown",
   "metadata": {
    "papermill": {
     "duration": 0.044208,
     "end_time": "2021-01-26T06:59:12.477557",
     "exception": false,
     "start_time": "2021-01-26T06:59:12.433349",
     "status": "completed"
    },
    "tags": []
   },
   "source": [
    "the names of the countries with the total values:"
   ]
  },
  {
   "cell_type": "code",
   "execution_count": 6,
   "metadata": {
    "execution": {
     "iopub.execute_input": "2021-01-26T06:59:12.567784Z",
     "iopub.status.busy": "2021-01-26T06:59:12.567080Z",
     "iopub.status.idle": "2021-01-26T06:59:12.695228Z",
     "shell.execute_reply": "2021-01-26T06:59:12.695723Z"
    },
    "papermill": {
     "duration": 0.175792,
     "end_time": "2021-01-26T06:59:12.695875",
     "exception": false,
     "start_time": "2021-01-26T06:59:12.520083",
     "status": "completed"
    },
    "tags": []
   },
   "outputs": [
    {
     "data": {
      "text/plain": [
       "United Kingdom          485852\n",
       "EIRE                      9670\n",
       "Germany                   8129\n",
       "France                    5772\n",
       "Netherlands               2769\n",
       "Spain                     1278\n",
       "Switzerland               1187\n",
       "Portugal                  1101\n",
       "Belgium                   1054\n",
       "Channel Islands            906\n",
       "Sweden                     902\n",
       "Italy                      731\n",
       "Australia                  654\n",
       "Cyprus                     554\n",
       "Austria                    537\n",
       "Greece                     517\n",
       "United Arab Emirates       432\n",
       "Denmark                    428\n",
       "Norway                     369\n",
       "Finland                    354\n",
       "Unspecified                310\n",
       "USA                        244\n",
       "Japan                      224\n",
       "Poland                     194\n",
       "Malta                      172\n",
       "Lithuania                  154\n",
       "Singapore                  117\n",
       "RSA                        111\n",
       "Bahrain                    107\n",
       "Canada                      77\n",
       "Hong Kong                   76\n",
       "Thailand                    76\n",
       "Israel                      74\n",
       "Iceland                     71\n",
       "Korea                       63\n",
       "Brazil                      62\n",
       "West Indies                 54\n",
       "Bermuda                     34\n",
       "Nigeria                     32\n",
       "Lebanon                     13\n",
       "Name: Country, dtype: int64"
      ]
     },
     "execution_count": 6,
     "metadata": {},
     "output_type": "execute_result"
    }
   ],
   "source": [
    "df['Country'].value_counts()"
   ]
  },
  {
   "cell_type": "markdown",
   "metadata": {
    "papermill": {
     "duration": 0.043219,
     "end_time": "2021-01-26T06:59:12.783660",
     "exception": false,
     "start_time": "2021-01-26T06:59:12.740441",
     "status": "completed"
    },
    "tags": []
   },
   "source": [
    "the most expensive products:"
   ]
  },
  {
   "cell_type": "code",
   "execution_count": 7,
   "metadata": {
    "execution": {
     "iopub.execute_input": "2021-01-26T06:59:12.875426Z",
     "iopub.status.busy": "2021-01-26T06:59:12.874766Z",
     "iopub.status.idle": "2021-01-26T06:59:13.020942Z",
     "shell.execute_reply": "2021-01-26T06:59:13.020262Z"
    },
    "papermill": {
     "duration": 0.193403,
     "end_time": "2021-01-26T06:59:13.021068",
     "exception": false,
     "start_time": "2021-01-26T06:59:12.827665",
     "status": "completed"
    },
    "tags": []
   },
   "outputs": [
    {
     "data": {
      "text/html": [
       "<div>\n",
       "<style scoped>\n",
       "    .dataframe tbody tr th:only-of-type {\n",
       "        vertical-align: middle;\n",
       "    }\n",
       "\n",
       "    .dataframe tbody tr th {\n",
       "        vertical-align: top;\n",
       "    }\n",
       "\n",
       "    .dataframe thead th {\n",
       "        text-align: right;\n",
       "    }\n",
       "</style>\n",
       "<table border=\"1\" class=\"dataframe\">\n",
       "  <thead>\n",
       "    <tr style=\"text-align: right;\">\n",
       "      <th></th>\n",
       "      <th>Invoice</th>\n",
       "      <th>StockCode</th>\n",
       "      <th>Description</th>\n",
       "      <th>Quantity</th>\n",
       "      <th>InvoiceDate</th>\n",
       "      <th>Price</th>\n",
       "      <th>Customer ID</th>\n",
       "      <th>Country</th>\n",
       "    </tr>\n",
       "  </thead>\n",
       "  <tbody>\n",
       "    <tr>\n",
       "      <th>241824</th>\n",
       "      <td>C512770</td>\n",
       "      <td>M</td>\n",
       "      <td>Manual</td>\n",
       "      <td>-1</td>\n",
       "      <td>2010-06-17 16:52:00</td>\n",
       "      <td>25111.09000</td>\n",
       "      <td>17399.00000</td>\n",
       "      <td>United Kingdom</td>\n",
       "    </tr>\n",
       "    <tr>\n",
       "      <th>241827</th>\n",
       "      <td>512771</td>\n",
       "      <td>M</td>\n",
       "      <td>Manual</td>\n",
       "      <td>1</td>\n",
       "      <td>2010-06-17 16:53:00</td>\n",
       "      <td>25111.09000</td>\n",
       "      <td>nan</td>\n",
       "      <td>United Kingdom</td>\n",
       "    </tr>\n",
       "    <tr>\n",
       "      <th>320581</th>\n",
       "      <td>C520667</td>\n",
       "      <td>BANK CHARGES</td>\n",
       "      <td>Bank Charges</td>\n",
       "      <td>-1</td>\n",
       "      <td>2010-08-27 13:42:00</td>\n",
       "      <td>18910.69000</td>\n",
       "      <td>nan</td>\n",
       "      <td>United Kingdom</td>\n",
       "    </tr>\n",
       "    <tr>\n",
       "      <th>517953</th>\n",
       "      <td>C537630</td>\n",
       "      <td>AMAZONFEE</td>\n",
       "      <td>AMAZON FEE</td>\n",
       "      <td>-1</td>\n",
       "      <td>2010-12-07 15:04:00</td>\n",
       "      <td>13541.33000</td>\n",
       "      <td>nan</td>\n",
       "      <td>United Kingdom</td>\n",
       "    </tr>\n",
       "    <tr>\n",
       "      <th>519294</th>\n",
       "      <td>C537651</td>\n",
       "      <td>AMAZONFEE</td>\n",
       "      <td>AMAZON FEE</td>\n",
       "      <td>-1</td>\n",
       "      <td>2010-12-07 15:49:00</td>\n",
       "      <td>13541.33000</td>\n",
       "      <td>nan</td>\n",
       "      <td>United Kingdom</td>\n",
       "    </tr>\n",
       "  </tbody>\n",
       "</table>\n",
       "</div>"
      ],
      "text/plain": [
       "        Invoice     StockCode   Description  Quantity         InvoiceDate  \\\n",
       "241824  C512770             M        Manual        -1 2010-06-17 16:52:00   \n",
       "241827   512771             M        Manual         1 2010-06-17 16:53:00   \n",
       "320581  C520667  BANK CHARGES  Bank Charges        -1 2010-08-27 13:42:00   \n",
       "517953  C537630     AMAZONFEE    AMAZON FEE        -1 2010-12-07 15:04:00   \n",
       "519294  C537651     AMAZONFEE    AMAZON FEE        -1 2010-12-07 15:49:00   \n",
       "\n",
       "             Price  Customer ID         Country  \n",
       "241824 25111.09000  17399.00000  United Kingdom  \n",
       "241827 25111.09000          nan  United Kingdom  \n",
       "320581 18910.69000          nan  United Kingdom  \n",
       "517953 13541.33000          nan  United Kingdom  \n",
       "519294 13541.33000          nan  United Kingdom  "
      ]
     },
     "execution_count": 7,
     "metadata": {},
     "output_type": "execute_result"
    }
   ],
   "source": [
    "df.sort_values(by='Price', ascending=False).head()"
   ]
  },
  {
   "cell_type": "markdown",
   "metadata": {
    "papermill": {
     "duration": 0.043773,
     "end_time": "2021-01-26T06:59:13.109278",
     "exception": false,
     "start_time": "2021-01-26T06:59:13.065505",
     "status": "completed"
    },
    "tags": []
   },
   "source": [
    "number of unique products:"
   ]
  },
  {
   "cell_type": "code",
   "execution_count": 8,
   "metadata": {
    "execution": {
     "iopub.execute_input": "2021-01-26T06:59:13.237408Z",
     "iopub.status.busy": "2021-01-26T06:59:13.236655Z",
     "iopub.status.idle": "2021-01-26T06:59:13.241172Z",
     "shell.execute_reply": "2021-01-26T06:59:13.240568Z"
    },
    "papermill": {
     "duration": 0.088187,
     "end_time": "2021-01-26T06:59:13.241307",
     "exception": false,
     "start_time": "2021-01-26T06:59:13.153120",
     "status": "completed"
    },
    "tags": []
   },
   "outputs": [
    {
     "data": {
      "text/plain": [
       "4681"
      ]
     },
     "execution_count": 8,
     "metadata": {},
     "output_type": "execute_result"
    }
   ],
   "source": [
    "df['Description'].nunique()"
   ]
  },
  {
   "cell_type": "markdown",
   "metadata": {
    "papermill": {
     "duration": 0.044361,
     "end_time": "2021-01-26T06:59:13.330359",
     "exception": false,
     "start_time": "2021-01-26T06:59:13.285998",
     "status": "completed"
    },
    "tags": []
   },
   "source": [
    "most purchased items:"
   ]
  },
  {
   "cell_type": "code",
   "execution_count": 9,
   "metadata": {
    "collapsed": true,
    "execution": {
     "iopub.execute_input": "2021-01-26T06:59:13.488559Z",
     "iopub.status.busy": "2021-01-26T06:59:13.487731Z",
     "iopub.status.idle": "2021-01-26T06:59:13.854549Z",
     "shell.execute_reply": "2021-01-26T06:59:13.853685Z"
    },
    "papermill": {
     "duration": 0.479632,
     "end_time": "2021-01-26T06:59:13.854691",
     "exception": false,
     "start_time": "2021-01-26T06:59:13.375059",
     "status": "completed"
    },
    "tags": []
   },
   "outputs": [
    {
     "data": {
      "text/html": [
       "<div>\n",
       "<style scoped>\n",
       "    .dataframe tbody tr th:only-of-type {\n",
       "        vertical-align: middle;\n",
       "    }\n",
       "\n",
       "    .dataframe tbody tr th {\n",
       "        vertical-align: top;\n",
       "    }\n",
       "\n",
       "    .dataframe thead th {\n",
       "        text-align: right;\n",
       "    }\n",
       "</style>\n",
       "<table border=\"1\" class=\"dataframe\">\n",
       "  <thead>\n",
       "    <tr style=\"text-align: right;\">\n",
       "      <th></th>\n",
       "      <th>Quantity</th>\n",
       "    </tr>\n",
       "    <tr>\n",
       "      <th>Description</th>\n",
       "      <th></th>\n",
       "    </tr>\n",
       "  </thead>\n",
       "  <tbody>\n",
       "    <tr>\n",
       "      <th>WHITE HANGING HEART T-LIGHT HOLDER</th>\n",
       "      <td>57733</td>\n",
       "    </tr>\n",
       "    <tr>\n",
       "      <th>WORLD WAR 2 GLIDERS ASSTD DESIGNS</th>\n",
       "      <td>54698</td>\n",
       "    </tr>\n",
       "    <tr>\n",
       "      <th>BROCADE RING PURSE</th>\n",
       "      <td>47647</td>\n",
       "    </tr>\n",
       "    <tr>\n",
       "      <th>PACK OF 72 RETRO SPOT CAKE CASES</th>\n",
       "      <td>46106</td>\n",
       "    </tr>\n",
       "    <tr>\n",
       "      <th>ASSORTED COLOUR BIRD ORNAMENT</th>\n",
       "      <td>44925</td>\n",
       "    </tr>\n",
       "  </tbody>\n",
       "</table>\n",
       "</div>"
      ],
      "text/plain": [
       "                                    Quantity\n",
       "Description                                 \n",
       "WHITE HANGING HEART T-LIGHT HOLDER     57733\n",
       "WORLD WAR 2 GLIDERS ASSTD DESIGNS      54698\n",
       "BROCADE RING PURSE                     47647\n",
       "PACK OF 72 RETRO SPOT CAKE CASES       46106\n",
       "ASSORTED COLOUR BIRD ORNAMENT          44925"
      ]
     },
     "execution_count": 9,
     "metadata": {},
     "output_type": "execute_result"
    }
   ],
   "source": [
    "df.groupby(\"Description\").agg({\"Quantity\": lambda x: x.sum()}).sort_values(\"Quantity\", ascending=False).head()"
   ]
  },
  {
   "cell_type": "markdown",
   "metadata": {
    "papermill": {
     "duration": 0.04865,
     "end_time": "2021-01-26T06:59:13.950714",
     "exception": false,
     "start_time": "2021-01-26T06:59:13.902064",
     "status": "completed"
    },
    "tags": []
   },
   "source": [
    "check the number of uniques for StockCode ve Description variables:"
   ]
  },
  {
   "cell_type": "code",
   "execution_count": 10,
   "metadata": {
    "execution": {
     "iopub.execute_input": "2021-01-26T06:59:14.083733Z",
     "iopub.status.busy": "2021-01-26T06:59:14.082773Z",
     "iopub.status.idle": "2021-01-26T06:59:14.122603Z",
     "shell.execute_reply": "2021-01-26T06:59:14.121951Z"
    },
    "papermill": {
     "duration": 0.123995,
     "end_time": "2021-01-26T06:59:14.122725",
     "exception": false,
     "start_time": "2021-01-26T06:59:13.998730",
     "status": "completed"
    },
    "tags": []
   },
   "outputs": [
    {
     "name": "stdout",
     "output_type": "stream",
     "text": [
      "Number of uniques in StockCode: 4632\n",
      "Number of uniques in Description:4681\n"
     ]
    }
   ],
   "source": [
    "print(f\"Number of uniques in StockCode: {df['StockCode'].nunique()}\")\n",
    "print(f\"Number of uniques in Description:{df['Description'].nunique()}\")"
   ]
  },
  {
   "cell_type": "markdown",
   "metadata": {
    "papermill": {
     "duration": 0.04614,
     "end_time": "2021-01-26T06:59:14.214479",
     "exception": false,
     "start_time": "2021-01-26T06:59:14.168339",
     "status": "completed"
    },
    "tags": []
   },
   "source": [
    "the values were expected to be equal, so there must be more than one unique value in Description variable for one unique StockCode. let's check each StockCode value with the corresponding Description values, get every StockCode that has more than one unique Description in a list form (I hid the output due to its number of rows):"
   ]
  },
  {
   "cell_type": "code",
   "execution_count": 11,
   "metadata": {
    "_kg_hide-output": true,
    "execution": {
     "iopub.execute_input": "2021-01-26T06:59:14.371553Z",
     "iopub.status.busy": "2021-01-26T06:59:14.370196Z",
     "iopub.status.idle": "2021-01-26T07:00:09.695913Z",
     "shell.execute_reply": "2021-01-26T07:00:09.694931Z"
    },
    "papermill": {
     "duration": 55.436011,
     "end_time": "2021-01-26T07:00:09.696080",
     "exception": false,
     "start_time": "2021-01-26T06:59:14.260069",
     "status": "completed"
    },
    "tags": []
   },
   "outputs": [
    {
     "name": "stdout",
     "output_type": "stream",
     "text": [
      "urun kodu = 10120 ['DOGGY RUBBER' 'Zebra invcing error']\n",
      "urun kodu = 16011 [' ANIMAL STICKERS' 'ANIMAL STICKERS']\n",
      "urun kodu = 16012 ['FOOD/DRINK SPUNGE STICKERS' 'FOOD/DRINK SPONGE STICKERS']\n",
      "urun kodu = 16235 ['RECYCLED PENCIL WITH RABBIT ERASER' '?']\n",
      "urun kodu = 17033 ['BROCADE PURSE,SMALL ARCH BUTTON' 'sold as 17003?' 'Sold as 17003?' nan]\n",
      "urun kodu = 20615 ['BLUE SPOTTY PASSPORT COVER' 'BLUE POLKADOT PASSPORT COVER']\n",
      "urun kodu = 20652 ['BLUE SPOTTY LUGGAGE TAG ' nan 'BLUE POLKADOT LUGGAGE TAG ']\n",
      "urun kodu = 20658 ['RED SPOTTY LUGGAGE TAG' 'RED RETROSPOT LUGGAGE TAG']\n",
      "urun kodu = 20661 ['BLUE SPOTTY PURSE ' 'BLUE POLKADOT PURSE ']\n",
      "urun kodu = 20665 ['RED SPOTTY PURSE ' 'RED RETROSPOT PURSE ']\n",
      "urun kodu = 20674 ['GREEN SPOTTY BOWL' 'GREEN POLKADOT BOWL']\n",
      "urun kodu = 20675 ['BLUE SPOTTY BOWL' 'BLUE POLKADOT BOWL']\n",
      "urun kodu = 20676 ['RED SPOTTY BOWL' 'RED RETROSPOT BOWL']\n",
      "urun kodu = 20677 ['PINK SPOTTY BOWL' 'PINK POLKADOT BOWL']\n",
      "urun kodu = 20679 ['EDWARDIAN PARASOL RED' nan '?']\n",
      "urun kodu = 20681 ['PINK SPOTTY CHILDS UMBRELLA' 'PINK POLKADOT CHILDRENS UMBRELLA']\n",
      "urun kodu = 20682 ['RED SPOTTY CHILDS UMBRELLA' 'RED RETROSPOT CHILDRENS UMBRELLA']\n",
      "urun kodu = 20685 ['RED SPOTTY COIR DOORMAT' 'DOOR MAT RED SPOT' nan 'DOORMAT RED SPOT'\n",
      " 'DOORMAT RED RETROSPOT']\n",
      "urun kodu = 20692 ['FLORAL ELEPHANT SOFT TOY' '?' nan]\n",
      "urun kodu = 20712 ['JUMBO BAG WOODLAND ANIMALS' 'missing']\n",
      "urun kodu = 20713 ['JUMBO BAG OWLS' 'missing' nan]\n",
      "urun kodu = 20714 ['POSY SHOPPER BAG' 'missing' nan]\n",
      "urun kodu = 20718 ['RED SPOTTY SHOPPER BAG' 'RED RETROSPOT SHOPPER BAG']\n",
      "urun kodu = 20724 ['RED SPOTTY CHARLOTTE BAG' 'RED RETROSPOT CHARLOTTE BAG']\n",
      "urun kodu = 20725 ['LUNCH BAG RED SPOTTY' 'LUNCH BAG RED RETROSPOT']\n",
      "urun kodu = 20738 ['GREEN MINI TAPE MEASURE ' 'counted']\n",
      "urun kodu = 20750 [' RED/WHITE DOT MINI CASES' 'RED/WHITE DOT MINI CASES'\n",
      " 'RED RETROSPOT MINI CASES']\n",
      "urun kodu = 20752 ['RETRO BLUE SPOTTY WASHING UP GLOVES' 'BLUE POLKADOT WASHING UP GLOVES']\n",
      "urun kodu = 20754 ['RETRO RED SPOTTY WASHING UP GLOVES' 'RETROSPOT RED WASHING UP GLOVES']\n",
      "urun kodu = 20786 ['BLACK RETRO BAR STOOL' nan 'Damages']\n",
      "urun kodu = 20787 ['BLUE RETRO BAR STOOL' nan 'damaged']\n",
      "urun kodu = 20798 ['CLEAR MILKSHAKE GLASS' 'show']\n",
      "urun kodu = 20799 ['PINK MILKSHAKE GLASS' nan 'damaged']\n",
      "urun kodu = 20820 ['SILVER LOOKING MIRROR' 'damages']\n",
      "urun kodu = 20821 ['GOLDIE LOOKING MIRROR' 'damages' nan]\n",
      "urun kodu = 20825 ['GOLD WINE GLASS' 'damages' nan]\n",
      "urun kodu = 20830 ['SILVER PHOTO FRAME' 'damages']\n",
      "urun kodu = 20852 ['given away' 'Given away']\n",
      "urun kodu = 20914 ['SET/5 RED SPOTTY LID GLASS BOWLS' 'SET/5 RED RETROSPOT LID GLASS BOWLS'\n",
      " 'damages']\n",
      "urun kodu = 20956 ['PORCELAIN T-LIGHT HOLDERS ASSORTED' '?' nan]\n",
      "urun kodu = 20975 ['12 PENCILS SMALL TUBE RED SPOTTY' '12 PENCILS SMALL TUBE RED RETROSPOT']\n",
      "urun kodu = 20979 ['36 PENCILS TUBE RED SPOTTY' '36 PENCILS TUBE RED RETROSPOT']\n",
      "urun kodu = 20983 ['12 PENCILS TALL TUBE RED SPOTTY' '12 PENCILS TALL TUBE RED RETROSPOT']\n",
      "urun kodu = 21004 ['ROSE DU SUD CHILDS APRON' nan 'ROSE DU SUD CHILDRENS APRON']\n",
      "urun kodu = 21007 ['ETCHED GLASS DROPLET DECORATION' 'damages?' nan]\n",
      "urun kodu = 21018 ['BIRD BOX CHRISTMAS TREE DECORATION' 'checked']\n",
      "urun kodu = 21035 ['SET/2 RED SPOTTY TEA TOWELS ' 'SET/2 RED RETROSPOT TEA TOWELS ']\n",
      "urun kodu = 21039 ['RED SPOTTY SHOPPING BAG' 'RED RETROSPOT SHOPPING BAG']\n",
      "urun kodu = 21041 ['RED SPOTTY OVEN GLOVE DOUBLE' 'missing' nan\n",
      " 'RED RETROSPOT OVEN GLOVE DOUBLE']\n",
      "urun kodu = 21042 ['RED SPOTTY APRON ' 'RED RETROSPOT APRON ']\n",
      "urun kodu = 21051 ['RIBBONS PURSE ' '?']\n",
      "urun kodu = 21080 ['SET/20 RED SPOTTY PAPER NAPKINS ' 'SET/20 RED RETROSPOT PAPER NAPKINS ']\n",
      "urun kodu = 21092 ['SET/6 STRAWBERRY PAPER PLATES' 'phil said so']\n",
      "urun kodu = 21100 ['CHARLIE AND LOLA CHARLOTTE BAG' 'bad quality' 'counted']\n",
      "urun kodu = 21121 ['SET/10 RED SPOTTY PARTY CANDLES' nan 'SET/10 RED POLKADOT PARTY CANDLES']\n",
      "urun kodu = 21122 ['SET/10 PINK SPOTTY PARTY CANDLES' 'SET/10 PINK POLKADOT PARTY CANDLES']\n",
      "urun kodu = 21123 ['SET/10 IVORY SPOTTY PARTY CANDLES' 'SET/10 IVORY POLKADOT PARTY CANDLES']\n",
      "urun kodu = 21124 ['SET/10 BLUE SPOTTY PARTY CANDLES' 'SET/10 BLUE POLKADOT PARTY CANDLES']\n",
      "urun kodu = 21130 ['COLOURFUL STANDING GNOME' 'damaged']\n",
      "urun kodu = 21133 ['PAINTED BIRD ASSORTED CHRISTMAS' 'invcd as 84879?' nan 'checked']\n",
      "urun kodu = 21153 ['RED SPOTTY TABLECLOTH ' 'missing' nan]\n",
      "urun kodu = 21154 ['RED SPOTTY OVEN GLOVE ' '?' 'RED RETROSPOT OVEN GLOVE ']\n",
      "urun kodu = 21155 ['RED SPOTTY PEG BAG' '?' 'RED RETROSPOT PEG BAG']\n",
      "urun kodu = 21156 ['RED SPOTTY CHILDS APRON' 'RETROSPOT CHILDRENS APRON']\n",
      "urun kodu = 21157 ['RED SPOTTY WASHBAG' nan 'RED RETROSPOT WASHBAG']\n",
      "urun kodu = 21181 ['PLEASE ONE PERSON  METAL SIGN' 'PLEASE ONE PERSON METAL SIGN' 'missing'\n",
      " nan]\n",
      "urun kodu = 21185 [' HOME SWEET HOME  BLACKBOARD' 'HOME SWEET HOME  BLACKBOARD' nan]\n",
      "urun kodu = 21210 ['SET OF 72 RETRO SPOT PAPER  DOILIES'\n",
      " 'SET OF 72 RETROSPOT PAPER  DOILIES']\n",
      "urun kodu = 21212 ['PACK OF 72 RETRO SPOT CAKE CASES' 'PACK OF 72 RETROSPOT CAKE CASES']\n",
      "urun kodu = 21214 ['SET OF 72 IVORY PAPER DOILIES' 'Came as green?' nan]\n",
      "urun kodu = 21215 [' IVORY PAPER CUP CAKE CASES ' 'IVORY PAPER CUP CAKE CASES ']\n",
      "urun kodu = 21216 ['SET 3 RED SPOT TIN TEA,COFFEE,SUGAR' nan\n",
      " 'SET 3 RETROSPOT TEA,COFFEE,SUGAR']\n",
      "urun kodu = 21217 ['RED SPOTTY ROUND CAKE TINS' nan 'RED RETROSPOT ROUND CAKE TINS']\n",
      "urun kodu = 21238 ['RED SPOTTY CUP' 'RED RETROSPOT CUP']\n",
      "urun kodu = 21239 ['PINK  SPOTTY CUP' 'PINK  POLKADOT CUP']\n",
      "urun kodu = 21240 ['BLUE  SPOTTY CUP' 'BLUE POLKADOT CUP']\n",
      "urun kodu = 21241 ['GREEN SPOTTY CUP' 'GREEN POLKADOT CUP' nan]\n",
      "urun kodu = 21242 ['RED SPOTTY PLATE ' 'RED RETROSPOT PLATE ']\n",
      "urun kodu = 21243 ['PINK  SPOTTY PLATE ' 'PINK  POLKADOT PLATE ']\n",
      "urun kodu = 21244 ['BLUE  SPOTTY PLATE ' nan 'BLUE POLKADOT PLATE ']\n",
      "urun kodu = 21245 ['GREEN  SPOTTY PLATE ' 'GREEN POLKADOT PLATE ']\n",
      "urun kodu = 21246 ['RED SPOTTY BIG BOWL' 'RED RETROSPOT BIG BOWL']\n",
      "urun kodu = 21249 ['WOODLAND  HEIGHT CHART STICKERS ' 'WOOD ANIMALS HEIGHT CHART STICKERS ']\n",
      "urun kodu = 21275 ['ZINC TOP  2 DOOR WOODEN SHELF ' '?']\n",
      "urun kodu = 21284 ['RETRO SPOT CANDLE  SMALL' 'RETROSPOT CANDLE  SMALL']\n",
      "urun kodu = 21285 ['RETRO SPOT CANDLE  MEDIUM' 'RETROSPOT CANDLE  MEDIUM']\n",
      "urun kodu = 21286 ['RETRO SPOT CANDLE  LARGE' 'RETROSPOT CANDLE  LARGE']\n",
      "urun kodu = 21291 ['SMALL SPOTTY CHOCOLATE GIFT BAG ' 'SMALL POLKADOT CHOCOLATE GIFT BAG ']\n",
      "urun kodu = 21312 ['LARGE CHUNKY GLASS ROMAN BOWL' 'damaged' nan]\n",
      "urun kodu = 21314 ['SMALL GLASS HEART TRINKET POT' '?']\n",
      "urun kodu = 21323 ['HANGING MEDINA LANTERN LARGE' 'damges' nan]\n",
      "urun kodu = 21330 ['WOODLAND ANIMAL  WRITING SET ' '?' nan]\n",
      "urun kodu = 21379 [' CAMPHOR WOOD PORTOBELLO MUSHROOM' 'CAMPHOR WOOD PORTOBELLO MUSHROOM']\n",
      "urun kodu = 21391 ['FRENCH EMROIDR LAVENDER SCENT HEART' 'FRENCH LAVENDER SCENT HEART']\n",
      "urun kodu = 21392 ['RED SPOTTY PUDDING BOWL' 'RED POLKADOT PUDDING BOWL']\n",
      "urun kodu = 21393 ['BLUE  SPOTTY PUDDING BOWL' nan 'BLUE POLKADOT PUDDING BOWL']\n",
      "urun kodu = 21394 ['RED SPOTTY BEAKER ' 'RED POLKADOT BEAKER ']\n",
      "urun kodu = 21395 ['BLUE SPOTTY BEAKER ' 'BLUE POLKADOT BEAKER ']\n",
      "urun kodu = 21397 ['BLUE  SPOTTY EGG CUP ' 'BLUE POLKADOT EGG CUP ']\n",
      "urun kodu = 21398 ['RED  SPOTTY COFFEE  MUG' 'RED POLKADOT COFFEE  MUG']\n",
      "urun kodu = 21399 ['BLUE  SPOTTY  COFFEE MUG' 'BLUE POLKADOT COFFEE MUG']\n",
      "urun kodu = 21431 ['GREEN GINGHAM FLOWER JEWELLERY BOX' 'crushed']\n",
      "urun kodu = 21450 ['DISTRESSED CANDLE STICK WHITE' 'damaged' nan]\n",
      "urun kodu = 21463 ['MIRRORED DISCO BALL ' 'damaged' 'smashed']\n",
      "urun kodu = 21485 ['RED SPOT HEART HOT WATER BOTTLE' 'RETROSPOT HEART HOT WATER BOTTLE']\n",
      "urun kodu = 21493 [' VINTAGE DESIGN GIFT TAGS' 'lost?' nan 'VINTAGE DESIGN GIFT TAGS']\n",
      "urun kodu = 21495 ['SKULLS WRAP' 'SKULLS AND CROSSBONES WRAP']\n",
      "urun kodu = 21498 ['RED SPOTS  WRAP ' nan 'RED RETROSPOT WRAP ']\n",
      "urun kodu = 21499 ['BLUE SPOTS  WRAP' nan 'BLUE POLKADOT WRAP']\n",
      "urun kodu = 21500 ['PINK SPOTS  WRAP ' 'PINK POLKADOT WRAP ']\n",
      "urun kodu = 21523 ['FANCY FONT HOME SWEET HOME DOORMAT'\n",
      " 'DOOR MAT FANCY FONT HOME SWEET HOME'\n",
      " 'DOORMAT FANCY FONT HOME SWEET HOME' 'amendment']\n",
      "urun kodu = 21524 ['SPOTTY  HOME SWEET HOME DOORMAT' 'DOOR MAT SPOTTY HOME SWEET HOME'\n",
      " 'DOORMAT SPOTTY HOME SWEET HOME']\n",
      "urun kodu = 21527 ['RETRO SPOT TRADITIONAL TEAPOT ' nan 'RED RETROSPOT TRADITIONAL TEAPOT ']\n",
      "urun kodu = 21529 ['RETRO SPOT CERAMIC TOASTRACK' 'RED RETROSPOT TOASTRACK' 'damages' nan]\n",
      "urun kodu = 21530 ['DAIRY MAID CERAMIC TOASTRACK' 'DAIRY MAID TOASTRACK']\n",
      "urun kodu = 21531 ['RETRO SPOT SUGAR JAM BOWL' 'RED RETROSPOT SUGAR JAM BOWL']\n",
      "urun kodu = 21532 ['DAIRY MAID SUGAR JAM BOWL' 'damaged' nan]\n",
      "urun kodu = 21533 ['RETRO SPOT LARGE MILK JUG' 'RETROSPOT LARGE MILK JUG']\n",
      "urun kodu = 21535 ['RETRO SPOT SMALL MILK JUG' 'RED RETROSPOT SMALL MILK JUG' nan]\n",
      "urun kodu = 21537 ['RETRO SPOTS PUDDING BOWL' 'RED RETROSPOT PUDDING BOWL']\n",
      "urun kodu = 21539 ['RETRO SPOTS BUTTER DISH' 'RED RETROSPOT BUTTER DISH']\n",
      "urun kodu = 21540 ['DAIRY MAID CERAMIC BUTTER DISH' 'DAIRY MAID BUTTER DISH' 'damages']\n",
      "urun kodu = 21542 ['WOODLAND WATER TRANSFER TATTOOS ' 'missing' nan]\n",
      "urun kodu = 21545 ['CERAMIC BIRDHOUSE BUTTERFLY SMALL' 'damages' nan]\n",
      "urun kodu = 21558 ['SKULL LUNCHBOX WITH CUTLERY ' nan 'SKULL LUNCH BOX WITH CUTLERY ']\n",
      "urun kodu = 21559 ['STRAWBERRY LUNCHBOX WITH CUTLERY' 'STRAWBERRY LUNCH BOX WITH CUTLERY']\n",
      "urun kodu = 21561 ['DINOSAUR LUNCHBOX WITH CUTLERY' 'DINOSAUR LUNCH BOX WITH CUTLERY']\n",
      "urun kodu = 21584 ['RETRO SPOT SMALL TUBE MATCHES' 'RETROSPOT SMALL TUBE MATCHES']\n",
      "urun kodu = 21588 ['RETRO SPOT GIANT  TUBE MATCHES' 'RETROSPOT GIANT TUBE MATCHES']\n",
      "urun kodu = 21592 ['RETRO SPOT  CIGAR BOX MATCHES ' 'RETROSPOT CIGAR BOX MATCHES ']\n",
      "urun kodu = 21620 ['S/4 ROSE    BOTANICAL  CANDLE' 'SET OF 4 ROSE BOTANICAL CANDLES']\n",
      "urun kodu = 21625 ['VINTAGE UNION JACK APRON' '?']\n",
      "urun kodu = 21629 ['SQUARE FLOOR CUSHION VINTAGE PINK ' 'SQUARE FLOOR CUSHION VINTAGE RED']\n",
      "urun kodu = 21652 ['GLASS ETCHED T-LIGHT HOLDER MEDIUM' 'damages' nan]\n",
      "urun kodu = 21653 ['GLASS ETCHED T-LIGHT HOLDER LARGE' '?' nan]\n",
      "urun kodu = 21666 [' RIDGED GLASS T-LIGHT HOLDER' 'RIDGED GLASS T-LIGHT HOLDER']\n",
      "urun kodu = 21671 ['RED SPOT CERAMIC DRAWER KNOB' '?']\n",
      "urun kodu = 21701 ['SET 6 MINI SUSHI SET FRIDGE MAGNETS' 'No Stock']\n",
      "urun kodu = 21702 ['SET 5 MINI GATEAUX  FRIDGE MAGNETS' 'No Stock']\n",
      "urun kodu = 21706 ['FOLDING UMBRELLA , RED/WHITE SPOT' 'FOLDING UMBRELLA RED/WHITE POLKADOT']\n",
      "urun kodu = 21707 ['FOLDING UMBRELLA , BLACK/BLUE  SPOT'\n",
      " 'FOLDING UMBRELLA BLACKBLUE POLKADOT']\n",
      "urun kodu = 21708 ['FOLDING UMBRELLA  CREAM/MULTI  SPOT' 'FOLDING UMBRELLA CREAM POLKADOT']\n",
      "urun kodu = 21709 ['FOLDING UMBRELLA  CHOC/WHITE  SPOT'\n",
      " 'FOLDING UMBRELLA CHOCOLATE POLKADOT']\n",
      "urun kodu = 21710 ['FOLDING UMBRELLA  PINK/WHITE  SPOT'\n",
      " 'FOLDING UMBRELLA PINKWHITE POLKADOT']\n",
      "urun kodu = 21711 ['FOLDING UMBRELLA  WHITE/RED  SPOT' 'FOLDING UMBRELLA WHITE/RED POLKADOT']\n",
      "urun kodu = 21733 ['RED HANGING HEART T-LIGHT HOLDER' '85123a mixed']\n",
      "urun kodu = 21735 ['TWO DOOR CURIO CABINET' 'Damages' 'broken glass']\n",
      "urun kodu = 21746 ['SMALL RED SPOT  WINDMILL' 'SMALL RED RETROSPOT WINDMILL']\n",
      "urun kodu = 21749 ['LARGE RED SPOT WINDMILL' 'LARGE RED RETROSPOT WINDMILL' 'MIA' nan]\n",
      "urun kodu = 21750 [' LARGE SKULL WINDMILL' 'LARGE SKULL WINDMILL']\n",
      "urun kodu = 21752 ['GLASS CAKE STAND MIRRORED BASE' 'lost in space' nan]\n",
      "urun kodu = 21760 [nan 'FRENCH STYLE WALL DRESSER' 'damaged' 'used for show display']\n",
      "urun kodu = 21764 ['VINTAGE WOODEN PLATE RACK' 'display stands']\n",
      "urun kodu = 21770 ['OPEN CLOSED METAL SIGN' nan 'debenhams']\n",
      "urun kodu = 21786 ['RAIN HAT WITH RED SPOTS' 'POLKADOT RAIN HAT ']\n",
      "urun kodu = 21787 [nan 'RAIN PONCHO WITH RED SPOTS' 'RAIN PONCHO RETROSPOT']\n",
      "urun kodu = 21815 [' STAR  T-LIGHT HOLDER ' 'STAR  T-LIGHT HOLDER ' nan]\n",
      "urun kodu = 21843 ['RETRO SPOT CAKE STAND' 'RED RETROSPOT CAKE STAND' 'damaged' 'broken']\n",
      "urun kodu = 21844 ['RETRO SPOT MUG' 'RED RETROSPOT MUG']\n",
      "urun kodu = 21858 ['HIGH SCHOOL MUSICAL 3 TOP TRUMPS ' nan 'dirty']\n",
      "urun kodu = 21877 ['HOME SWEET HOME MUG' 'damages']\n",
      "urun kodu = 21880 ['RED AND WHITE SPOT TAPE' 'RED RETROSPOT TAPE']\n",
      "urun kodu = 21900 ['KEY FOB , SHED' '?' nan 'reverse mistake']\n",
      "urun kodu = 21915 ['RED  HARMONICA IN BOX ' nan 'Mixed with blue']\n",
      "urun kodu = 21929 ['JUMBO BAG PINK VINTAGE PAISLEY' '?' nan]\n",
      "urun kodu = 21936 ['RED/WHITE SPOT PICNIC BAG' 'RED RETROSPOT PICNIC BAG']\n",
      "urun kodu = 21955 ['UNION JACK GUNS & ROSES  DOORMAT' '  DOORMAT UNION JACK GUNS AND ROSES'\n",
      " 'DOOR MAT UNION JACK GUNS AND ROSES' nan\n",
      " 'DOORMAT UNION JACK GUNS AND ROSES']\n",
      "urun kodu = 21967 ['PACK OF 12 SKULL TISSUES' 'MIA' nan]\n",
      "urun kodu = 21980 ['PACK OF 12 RED SPOTTY TISSUES ' 'PACK OF 12 RED RETROSPOT TISSUES ']\n",
      "urun kodu = 21986 ['PACK OF 12 PINK SPOT TISSUES ' 'PACK OF 12 PINK POLKADOT TISSUES']\n",
      "urun kodu = 22029 ['SPACE BOY BIRTHDAY CARD' 'SPACEBOY BIRTHDAY CARD']\n",
      "urun kodu = 22033 ['BOTANICAL ROSE GREETING CARD' 'counted']\n",
      "urun kodu = 22037 ['ROBOT BIRTHDAY CARD' nan 'found again']\n",
      "urun kodu = 22045 ['SPACE BOY GIFT WRAP' 'SPACEBOY GIFT WRAP']\n",
      "urun kodu = 22057 ['CERAMIC PLATE STRAWBERRY DESIGN' 'smashed']\n",
      "urun kodu = 22058 ['CERAMIC LOVE HEARTS DESIGN MUG' 'damaged?' nan]\n",
      "urun kodu = 22059 ['CERAMIC STRWBERRY DESIGN MUG' 'CERAMIC STRAWBERRY DESIGN MUG']\n",
      "urun kodu = 22068 [' BLACK PIRATE TREASURE CHEST' 'BLACK PIRATE TREASURE CHEST']\n",
      "urun kodu = 22069 [' BROWN  PIRATE TREASURE CHEST ' 'BROWN  PIRATE TREASURE CHEST ']\n",
      "urun kodu = 22070 ['SMALL RETRO SPOT MUG IN BOX  RED' 'SMALL RED RETROSPOT MUG IN BOX ']\n",
      "urun kodu = 22071 ['SMALL RETRO SPOT MUG IN BOX  WHITE' 'SMALL WHITE RETROSPOT MUG IN BOX ']\n",
      "urun kodu = 22072 ['TEA CUP AND SAUCER RETRO SPOT' 'RED RETROSPOT TEA CUP AND SAUCER ']\n",
      "urun kodu = 22073 ['RETRO SPOT STORAGE JAR' 'RED RETROSPOT STORAGE JAR']\n",
      "urun kodu = 22077 ['6 RIBBONS RUSTIC CHARM' nan 'found']\n",
      "urun kodu = 22080 ['RIBBON REEL SPOTS DESIGN ' 'RIBBON REEL POLKADOTS ' '?' nan]\n",
      "urun kodu = 22083 ['PAPER CHAIN KIT RETRO SPOT' 'PAPER CHAIN KIT RETROSPOT']\n",
      "urun kodu = 22090 ['PAPER BUNTING RETRO SPOTS' 'PAPER BUNTING RETROSPOT']\n",
      "urun kodu = 22094 ['RED POLKA DOT TISSUE BOX' 'RED RETROSPOT TISSUE BOX']\n",
      "urun kodu = 22119 [' PEACE WOODEN BLOCK LETTERS' 'PEACE WOODEN BLOCK LETTERS']\n",
      "urun kodu = 22130 ['PARTY CONE CHRISTMAS DECORATION ' 'sold in wrong qnty']\n",
      "urun kodu = 22138 ['BAKING SET 9 PIECE RETROSPOT ' 'mouldy' 'damages' nan]\n",
      "urun kodu = 22139 ['RETRO SPOT TEA SET CERAMIC 11 PC ' '11 PC CERAMIC TEA SET POLKADOT' nan\n",
      " 'RETROSPOT TEA SET CERAMIC 11 PC ' 'amazon']\n",
      "urun kodu = 22150 [' 3 STRIPEY MICE FELTCRAFT' '3 STRIPEY MICE FELTCRAFT']\n",
      "urun kodu = 22165 ['DIAMANTE HEART SHAPED WALL MIRROR, ' 'damaged']\n",
      "urun kodu = 22166 ['WALL MIRROR , RECT DIAMANTE, PINK/'\n",
      " 'WALL MIRROR RECTANGLE DIAMANTE PINK']\n",
      "urun kodu = 22167 ['WALL MIRROR , DIAMANTE OVAL SHAPE' 'damaged'\n",
      " ' OVAL WALL MIRROR DIAMANTE ']\n",
      "urun kodu = 22168 ['ORGANISER WOOD, ANTIQUE WHITE ' 'ORGANISER WOOD ANTIQUE WHITE '\n",
      " 'Damages']\n",
      "urun kodu = 22171 ['3 HOOK PHOTO SHELF ANTIQUE WHITE' 'damaged' nan]\n",
      "urun kodu = 22175 ['PINK OWL SOFT TOY' 'PINK OWL DECORATION']\n",
      "urun kodu = 22176 ['BLUE OWL SOFT TOY' 'BLUE OWL DECORATION']\n",
      "urun kodu = 22180 ['RETRO SPOT LAMP' nan 'RETROSPOT LAMP']\n",
      "urun kodu = 22191 ['EAU DE NIL DINER WALL CLOCK' 'IVORY WALL CLOCK' nan\n",
      " 'IVORY DINER WALL CLOCK']\n",
      "urun kodu = 22193 ['RED DINER WALL CLOCK' 'RED WALL CLOCK' nan]\n",
      "urun kodu = 22195 ['HEART MEASURING SPOONS LARGE' 'LARGE HEART MEASURING SPOONS']\n",
      "urun kodu = 22196 ['SMALL HEART MEASURING SPOONS' 'HEART MEASURING SPOONS SMALL']\n",
      "urun kodu = 22197 ['POPCORN HOLDER , SMALL ' nan 'SMALL POPCORN HOLDER']\n",
      "urun kodu = 22198 ['POPCORN HOLDER , LARGE' 'LARGE POPCORN HOLDER ']\n",
      "urun kodu = 22199 ['FRYING PAN RED POLKADOT ' 'FRYING PAN RED RETROSPOT']\n",
      "urun kodu = 22200 ['FRYING PAN PINK POLKADOT ' 'FRYING PAN PINK RETROSPOT'\n",
      " 'FRYING PAN PINK POLKADOT']\n",
      "urun kodu = 22201 ['FRYING PAN BLUE POLKADOT ' 'FRYING PAN BLUE RETROSPOT'\n",
      " 'FRYING PAN BLUE POLKADOT']\n",
      "urun kodu = 22202 ['MILK PAN PINK RETROSPOT' 'MILK PAN PINK POLKADOT']\n",
      "urun kodu = 22204 ['MILK PAN BLUE RETROSPOT' 'MILK PAN BLUE POLKADOT']\n",
      "urun kodu = 22227 ['DECORATION, HANGING HEART+MIRROR ' 'HANGING HEART MIRROR DECORATION ']\n",
      "urun kodu = 22232 ['3 PIECE JIGSAW TOADSTOOLS' 'JIGSAW TOADSTOOLS 3 PIECE']\n",
      "urun kodu = 22236 ['CAKE STAND 3 TIER MAGIC GARDEN' 'Rusty ' nan 'Rust fixed'\n",
      " 'Rusty connections']\n",
      "urun kodu = 22241 ['GARLAND , WOODEN  \" HAPPY EASTER\"' 'GARLAND WOODEN HAPPY EASTER']\n",
      "urun kodu = 22242 ['HOOK, 5 HANGER , MAGIC TOADSTOOL' '5 HOOK HANGER MAGIC TOADSTOOL']\n",
      "urun kodu = 22243 ['HOOK, 5 HANGER ,MAGIC TOADSTOOL RED' nan\n",
      " '5 HOOK HANGER RED MAGIC TOADSTOOL']\n",
      "urun kodu = 22244 ['HOOK, 3 HANGER ,MAGIC GARDEN' nan '3 HOOK HANGER MAGIC GARDEN']\n",
      "urun kodu = 22246 ['GARLAND, MAGIC GARDEN 1.8M' 'MAGIC GARDEN FELT GARLAND ']\n",
      "urun kodu = 22252 ['BIRDCAGE DECORATION MAGIC GARDEN' 'BIRDCAGE DECORATION TEALIGHT HOLDER']\n",
      "urun kodu = 22288 ['DECORATION , HANGING METAL RABBIT' 'HANGING METAL RABBIT DECORATION']\n",
      "urun kodu = 22291 ['SPRING DEC , HANGING CHICK CREAM' 'HANGING CHICK CREAM DECORATION']\n",
      "urun kodu = 22292 ['SPRING DEC , HANGING CHICK  YELLOW' 'HANGING CHICK  YELLOW DECORATION']\n",
      "urun kodu = 22293 ['SPRING DEC , HANGING CHICK  GREEN' 'HANGING CHICK GREEN DECORATION']\n",
      "urun kodu = 22310 ['KNITTED MUG COSY IVORY COLOUR ' 'IVORY KNITTED MUG COSY ']\n",
      "urun kodu = 22321 ['BIRD DECORATION RED SPOT' 'BIRD DECORATION RED RETROSPOT']\n",
      "urun kodu = 22322 ['BIRD DECORATION GREEN  SPOT' 'BIRD DECORATION GREEN POLKADOT']\n",
      "urun kodu = 22323 ['PINK POLKADOT KIDS BAG' 'BAG FOR CHILDREN VINTAGE PINK ' nan]\n",
      "urun kodu = 22324 ['BLUE POLKADOT KIDS BAG' 'BAG FOR CHILDREN VINTAGE BLUE ']\n",
      "urun kodu = 22326 ['ROUND SNACK BOXES ,SET4, WOODLAND '\n",
      " 'ROUND SNACK BOXES SET OF4 WOODLAND ' nan]\n",
      "urun kodu = 22328 ['ROUND SNACK BOXES ,SET 4, FRUITS ' 'ROUND SNACK BOXES SET OF 4 FRUITS '\n",
      " nan]\n",
      "urun kodu = 22329 ['ROUND CONTAINER SET OF 5 RETROSPOT' 'ROUND FOOD CONTAINER S/5 RETROSPOT']\n",
      "urun kodu = 22333 ['RETRO SPORT PARTY BAG + STICKER SET'\n",
      " 'RETRO SPOT PARTY BAG + STICKER SET' 'RETROSPOT PARTY BAG + STICKER SET']\n",
      "urun kodu = 22343 ['PARTY PIZZA DISH RED WHITE SPOT ' 'PARTY PIZZA DISH RED+WHITE SPOT '\n",
      " 'PARTY PIZZA DISH RED RETROSPOT']\n",
      "urun kodu = 22344 ['PARTY PIZZA DISH PINK+WHITE SPOT ' 'PARTY PIZZA DISH PINK WHITE SPOT '\n",
      " 'PARTY PIZZA DISH PINK RETROSPOT' 'PARTY PIZZA DISH PINK POLKADOT']\n",
      "urun kodu = 22345 ['PARTY PIZZA DISH BLUE+WHITE SPOT ' 'PARTY PIZZA DISH BLUE WHITE SPOT '\n",
      " 'PARTY PIZZA DISH BLUE RETROSPOT' 'PARTY PIZZA DISH BLUE POLKADOT']\n",
      "urun kodu = 22346 ['PARTY PIZZA DISH GREEN+WHITE SPOT ' 'PARTY PIZZA DISH GREEN WHITE SPOT '\n",
      " 'PARTY PIZZA DISH GREEN RETROSPOT' 'PARTY PIZZA DISH GREEN POLKADOT']\n",
      "urun kodu = 22347 ['PIZZA SLICE DISH' 'PIZZA DISH SLICE ' nan]\n",
      "urun kodu = 22348 ['TEA BAG PLATE RED SPOTTY ' nan 'TEA BAG PLATE RED RETROSPOT']\n",
      "urun kodu = 22349 ['DOG BOWL , CHASING BALL DESIGN' 'DOG BOWL CHASING BALL DESIGN']\n",
      "urun kodu = 22350 ['CAT BOWL ' 'ILLUSTRATED CAT BOWL ']\n",
      "urun kodu = 22352 ['LUNCHBOX WITH CUTLERY RETROSPOT ' 'LUNCH BOX WITH CUTLERY RETROSPOT ']\n",
      "urun kodu = 22353 ['LUNCHBOX WITH CUTLERY FAIRY CAKES '\n",
      " 'LUNCH BOX WITH CUTLERY FAIRY CAKES ']\n",
      "urun kodu = 22354 ['RETRO SPOT PADDED SEAT CUSHION' 'RETROSPOT PADDED SEAT CUSHION']\n",
      "urun kodu = 22355 ['CHARLOTTE BAG , SUKI DESIGN' 'CHARLOTTE BAG SUKI DESIGN']\n",
      "urun kodu = 22356 ['CHARLOTTE BAG , PINK/WHITE SPOTS' 'CHARLOTTE BAG PINK WITH WHITE SPOTS'\n",
      " 'CHARLOTTE BAG PINK POLKADOT']\n",
      "urun kodu = 22359 ['temp' 'GLASS JAR KINGS CHOICE' 'GLASS JAR, KINGS CHOICE SOAP']\n",
      "urun kodu = 22360 ['GLASS JAR, ENGLISH CONFECTIONERY' 'temp'\n",
      " 'GLASS JAR ENGLISH CONFECTIONERY']\n",
      "urun kodu = 22361 ['temp' 'GLASS JAR DAISY FRESH COTTON WOOL']\n",
      "urun kodu = 22363 ['temp' 'GLASS JAR MARMALADE ']\n",
      "urun kodu = 22365 ['DOORMAT RESPECTABLE HOUSE' 'DOOR MAT RESPECTABLE HOUSE']\n",
      "urun kodu = 22366 ['DOORMAT AIRMAIL ' 'DOOR MAT AIRMAIL ']\n",
      "urun kodu = 22367 ['CHILDS APRON SPACEBOY DESIGN' 'CHILDRENS APRON SPACEBOY DESIGN']\n",
      "urun kodu = 22381 ['TOY TIDY PINK RETROSPOT  ' 'TOY TIDY PINK POLKADOT']\n",
      "urun kodu = 22382 ['LUNCHBAG SPACEBOY DESIGN ' 'LUNCH BAG SPACEBOY DESIGN ']\n",
      "urun kodu = 22383 ['LUNCHBAG SUKI  DESIGN ' 'LUNCH BAG SUKI  DESIGN ']\n",
      "urun kodu = 22384 ['LUNCHBAG PINK RETROSPOT' 'LUNCH BAG PINK RETROSPOT'\n",
      " 'LUNCH BAG PINK POLKADOT' 'LUNCH BAG PINK POLKADOTS']\n",
      "urun kodu = 22386 ['JUMBO BAG PINK WITH WHITE SPOTS' 'JUMBO BAG PINK POLKADOT']\n",
      "urun kodu = 22405 ['MONEY BOX POCKET MONEY DESIGN' 'TIN CAN POCKET MONEY DESIGN']\n",
      "urun kodu = 22406 ['MONEY BOX KINGS CHOICE DESIGN' 'TIN CAN KINGS CHOICE DESIGN']\n",
      "urun kodu = 22408 ['MONEY BOX CONFECTIONERY DESIGN' 'TIN CAN CONFECTIONERY DESIGN']\n",
      "urun kodu = 22409 ['MONEY BOX BISCUITS DESIGN' 'TIN CAN BISCUITS DESIGN']\n",
      "urun kodu = 22410 ['MONEY BOX HOUSEKEEPING DESIGN' 'TIN CAN HOUSEKEEPING DESIGN']\n",
      "urun kodu = 22414 ['DOORMAT NEIGHBOURHOOD WITCH ' 'DOOR MAT NEIGHBOURHOOD WITCH ']\n",
      "urun kodu = 22416 ['36 DOILIES SPACEBOY DESIGN ' 'SET OF 36 DOILIES SPACEBOY DESIGN ']\n",
      "urun kodu = 22418 ['10 COLOUR SPACEBOY PEN' 'PEN, 10 COLOURS - SPACEBOY']\n",
      "urun kodu = 22423 ['REGENCY CAKESTAND 3 TIER' 'smashed' 'damaged' nan\n",
      " 'broken, uneven bottom' 'wonky bottom/broken' 'faulty']\n",
      "urun kodu = 22425 ['ENAMEL COLLANDER CREAM' 'ENAMEL COLANDER CREAM']\n",
      "urun kodu = 22432 [nan 'WATERING CAN PINK BUNNY' 'WATERING CAN GREEN DINOSAUR']\n",
      "urun kodu = 22433 ['my error - connor' 'WATERING CAN GREEN DINOSAUR'\n",
      " 'WATERING CAN PINK BUNNY']\n",
      "urun kodu = 22445 ['PENCIL CASE LIFE IS BEAUTIFUL' 'PENCIL CASE GINGHAM FOREST']\n",
      "urun kodu = 22446 ['PIN CUSHION RUSSIAN DOLL PINK' 'PIN CUSHION BABUSHKA PINK']\n",
      "urun kodu = 22447 ['PIN CUSHION RUSSIAN DOLL BLUE' 'PIN CUSHION BABUSHKA BLUE']\n",
      "urun kodu = 22448 ['PIN CUSHION RUSSIAN DOLL RED' 'PIN CUSHION BABUSHKA RED']\n",
      "urun kodu = 22449 ['SILK PURSE RUSSIAN DOLL PINK' 'SILK PURSE BABUSHKA PINK']\n",
      "urun kodu = 22450 ['SILK PURSE RUSSIAN DOLL BLUE' 'SILK PURSE BABUSHKA BLUE' nan]\n",
      "urun kodu = 22451 ['SILK PURSE RUSSIAN DOLL RED' 'SILK PURSE BABUSHKA RED' nan]\n",
      "urun kodu = 22452 ['MEASURING TAPE RUSSIAN DOLL PINK' 'MEASURING TAPE BABUSHKA PINK']\n",
      "urun kodu = 22453 ['MEASURING TAPE RUSSIAN DOLL BLUE' 'MEASURING TAPE BABUSHKA BLUE']\n",
      "urun kodu = 22454 ['MEASURING TAPE RUSSIAN DOLL RED' 'MEASURING TAPE BABUSHKA RED' nan]\n",
      "urun kodu = 22467 ['GUMBALL COAT RACK' nan 22719]\n",
      "urun kodu = 22469 ['HEART OF WICKER SMALL' 'missing' nan]\n",
      "urun kodu = 22470 ['HEART OF WICKER LARGE' 'crushed' nan]\n",
      "urun kodu = 22472 ['TV DINNER TRAY DOLLY GIRL' 'TRAY FOR TV DINNER , DOLLY GIRL']\n",
      "urun kodu = 22474 ['SPACEBOY TV DINNER TRAY' 'TRAY FOR TV DINNER ,SPACEBOY']\n",
      "urun kodu = 22487 ['WHITE WOOD GARDEN PLANT LADDER' 'damages' nan]\n",
      "urun kodu = 22492 ['MINI PAINT SET VINTAGE ' 'MINI PAINT SET VINTAGE  BOY+ GIRL']\n",
      "urun kodu = 22493 ['PAINT YOUR OWN CANVAS SET' ' PAINT YOUR OWN CANVAS SET']\n",
      "urun kodu = 22499 ['WOODEN UNION JACK BUNTING' '?']\n",
      "urun kodu = 22501 ['mailout' 'PICNIC BASKET WICKER LARGE']\n",
      "urun kodu = 22502 ['mailout' 'PICNIC BASKET WICKER SMALL'\n",
      " 'Donated to The Food Chain charity']\n",
      "urun kodu = 22510 ['DOORSTOP RUSSIAN DOLL GINGHAM' 'GINGHAM BABUSHKA DOORSTOP']\n",
      "urun kodu = 22511 ['DOORSTOP RUSSIAN DOLL RETROSPOT' 'RETROSPOT BABUSHKA DOORSTOP']\n",
      "urun kodu = 22529 ['MAGIC DRAWING SLATE GO TO THE FAIR ' 'MAGIC SLATE GO TO THE FAIR ']\n",
      "urun kodu = 22530 ['MAGIC DRAWING SLATE DOLLY GIRL ' 'MAGIC SLATE DOLLY GIRL ']\n",
      "urun kodu = 22531 ['MAGIC DRAWING SLATE CIRCUS PARADE  ' 'MAGIC SLATE CIRCUS PARADE  ']\n",
      "urun kodu = 22532 ['MAGIC DRAWING SLATE LEAP FROG ' 'MAGIC SLATE LEAP FROG ']\n",
      "urun kodu = 22533 ['MAGIC DRAWING SLATE BAKE A CAKE ' 'MAGIC SLATE BAKE A CAKE ']\n",
      "urun kodu = 22534 ['MAGIC DRAWING SLATE SPACEBOY ' 'MAGIC SLATE SPACEBOY ' nan]\n",
      "urun kodu = 22535 ['MAGIC DRAWING SLATE BUNNIES ' 'MAGIC SLATE BUNNIES AT HOME ']\n",
      "urun kodu = 22536 ['MAGIC DRAWING SLATE PURDEY' 'MAGIC DRAWING SLATE FIDO'\n",
      " 'MAGIC SLATE FIDO']\n",
      "urun kodu = 22537 ['MAGIC DRAWING SLATE DINOSAUR' 'MAGIC SLATE DINOSAUR']\n",
      "urun kodu = 22545 ['MINI JIGSAW BUNNIES' 'MINI JIGSAW BUNNIES AT HOME']\n",
      "urun kodu = 22546 ['MINI JIGSAW FIDO' 'MINI JIGSAW PURDEY']\n",
      "urun kodu = 22555 ['PLASTERS IN TIN STRONGMAN' 'PLASTERS IN TIN MR STRONG ']\n",
      "urun kodu = 22558 [nan 'CLOTHES PEGS RETROSPOT PACK 24 ' 'non colour fast']\n",
      "urun kodu = 22559 ['SEASIDE FRISBEE ' 'SEASIDE FLYING DISC']\n",
      "urun kodu = 22565 ['FELTCRAFT HAIRBANDS PINK + WHITE ' 'FELTCRAFT HAIRBANDS PINK AND WHITE ']\n",
      "urun kodu = 22566 ['FELTCRAFT HAIRBAND S/2, PINK/PURPLE'\n",
      " 'FELTCRAFT HAIRBAND PINK AND PURPLE']\n",
      "urun kodu = 22577 ['WOODEN HEART CHRISTMAS SCANDINAVIAN' 'WOODEN HEART CHRISTMAS SCANDISPOT']\n",
      "urun kodu = 22578 ['WOODEN STAR CHRISTMAS SCANDINAVIAN' 'WOODEN STAR CHRISTMAS SCANDISPOT']\n",
      "urun kodu = 22579 ['WOODEN TREE CHRISTMAS SCANDINAVIAN' 'WOODEN TREE CHRISTMAS SCANDISPOT']\n",
      "urun kodu = 22587 ['FELTCRAFT HAIRBAND, S/2, RED/BLUE' 'FELTCRAFT HAIRBAND RED AND BLUE']\n",
      "urun kodu = 22588 ['CARDHOLDER GINGHAM HEART' 'CARD HOLDER GINGHAM HEART']\n",
      "urun kodu = 22604 [nan 'SET OF 4 NAPKIN CHARMS CUTLERY' 'SET OF 4 NAPKIN CHARM CUTLERY']\n",
      "urun kodu = 22607 ['WOODEN ROUNDERS GARDEN SET ' 'donated to the Food Chain charity.'\n",
      " 'damages' nan]\n",
      "urun kodu = 22619 ['SET OF 6 SOLDIER SKITTLES' ' SET Of 6 SOLDIER SKITTLES']\n",
      "urun kodu = 22621 ['TRADITIONAL KNITTING NANCY' nan '?']\n",
      "urun kodu = 22631 ['CIRCUS PARADE LUNCHBOX ' 'CIRCUS PARADE LUNCH BOX ']\n",
      "urun kodu = 22632 ['HAND WARMER RED POLKA DOT' 'HAND WARMER RED RETROSPOT']\n",
      "urun kodu = 22641 [nan 'SET OF 4 NAPKIN CHARMS INSTRUMENT'\n",
      " 'SET OF 4 NAPKIN CHARMS INSTUMENT   ']\n",
      "urun kodu = 22645 ['CERAMIC HEART FAIRY CAKE MONEY BANK' 'CERAMIC HEART CAKE MONEY BANK']\n",
      "urun kodu = 22649 ['STRAWBERRY FAIRY CAKE TEAPOT' 'STRAWBERRY CAKE TEAPOT']\n",
      "urun kodu = 22659 ['LUNCHBOX I LOVE LONDON' 'LUNCH BOX I LOVE LONDON']\n",
      "urun kodu = 22667 ['RECIPE BOX RETRO SPOT DESIGN' 'RECIPE BOX RETROSPOT ']\n",
      "urun kodu = 22676 ['FRENCH BLUE METAL DOOR SIGN, 1' 'FRENCH BLUE METAL DOOR SIGN 1']\n",
      "urun kodu = 22677 ['FRENCH BLUE METAL DOOR SIGN, 2' 'FRENCH BLUE METAL DOOR SIGN 2']\n",
      "urun kodu = 22678 ['FRENCH BLUE METAL DOOR SIGN, 3' 'FRENCH BLUE METAL DOOR SIGN 3']\n",
      "urun kodu = 22679 ['FRENCH BLUE METAL DOOR SIGN, 4' 'FRENCH BLUE METAL DOOR SIGN 4']\n",
      "urun kodu = 22680 ['FRENCH BLUE METAL DOOR SIGN, 5' 'FRENCH BLUE METAL DOOR SIGN 5']\n",
      "urun kodu = 22681 ['FRENCH BLUE METAL DOOR SIGN, 6' 'FRENCH BLUE METAL DOOR SIGN 6']\n",
      "urun kodu = 22682 ['FRENCH BLUE METAL DOOR SIGN, 7' 'FRENCH BLUE METAL DOOR SIGN 7']\n",
      "urun kodu = 22683 ['FRENCH BLUE METAL DOOR SIGN, 8' 'FRENCH BLUE METAL DOOR SIGN 8']\n",
      "urun kodu = 22684 ['FRENCH BLUE METAL DOOR SIGN, 9' 'FRENCH BLUE METAL DOOR SIGN 9']\n",
      "urun kodu = 22685 ['FRENCH BLUE METAL DOOR SIGN, 0' 'FRENCH BLUE METAL DOOR SIGN 0']\n",
      "urun kodu = 22686 ['FRENCH BLUE METAL DOOR SIGN, No' 'FRENCH BLUE METAL DOOR SIGN No']\n",
      "urun kodu = 22687 ['DOORMAT CHRISTMAS VILLAGE' nan 'amazon adjustment']\n",
      "urun kodu = 22689 ['DOORMAT MERRY CHRISTMAS RED ' '?' nan]\n",
      "urun kodu = 22697 ['GREEN REGENCY TEACUP AND SAUCER' 'TEACUP AND SAUCER REGENCY GREEN']\n",
      "urun kodu = 22698 ['PINK REGENCY TEACUP AND SAUCER' 'TEACUP AND SAUCER REGENCY PINK' nan]\n",
      "urun kodu = 22699 ['ROSES REGENCY TEACUP AND SAUCER ' 'TEACUP AND SAUCER REGENCY ROSES']\n",
      "urun kodu = 22719 [nan 'GUMBALL COATHOOK., BLACK & WHITE ' 'GUMBALL MONOCHROME COAT RACK'\n",
      " 22467]\n",
      "urun kodu = 22731 ['3D CHRISTMAS STAMPS STICKERS ' '3D STICKERS CHRISTMAS STAMPS']\n",
      "urun kodu = 22732 ['3D VINTAGE CHRISTMAS STICKERS ' '3D STICKERS VINTAGE CHRISTMAS']\n",
      "urun kodu = 22733 ['3D STICKERS TRADITIONAL CHRISTMAS ' '3D TRADITIONAL CHRISTMAS STICKERS']\n",
      "urun kodu = 22734 ['SET OF 6 RIBBONS VINTAGE CHRISTMAS'\n",
      " 'Carton qnty was 216 not 144 as stat' nan 'amazon adjustment' 'amendment'\n",
      " 'amazon']\n",
      "urun kodu = 22736 ['RIBBON REEL, MAKING SNOWMEN ' 'RIBBON REEL MAKING SNOWMEN ']\n",
      "urun kodu = 22739 ['RIBBON REEL, XMAS SOCK/BAUBLE' 'RIBBON REEL CHRISTMAS SOCK BAUBLE']\n",
      "urun kodu = 22740 ['POLKA DOT PEN' 'POLKADOT PEN' 'POLKADOT PENS']\n",
      "urun kodu = 22771 ['CLEAR DRAWER KNOB ACRYLIC EDWARDIAN'\n",
      " 'DRAWER KNOB ACRYLIC EDWARDIAN CLEAR']\n",
      "urun kodu = 22772 ['PINK DRAWER KNOB ACRYLIC EDWARDIAN' 'DRAWER KNOB ACRYLIC EDWARDIAN PINK']\n",
      "urun kodu = 22773 ['GREEN DRAWER KNOB ACRYLIC EDWARDIAN'\n",
      " 'DRAWER KNOB ACRYLIC EDWARDIAN GREEN']\n",
      "urun kodu = 22775 ['PURPLE DRAWERKNOB ACRYLIC EDWARDIAN'\n",
      " 'DRAWERKNOB ACRYLIC EDWARDIAN PURPLE']\n",
      "urun kodu = 22776 ['SWEETHEART CAKESTAND 3 TIER' 'CAKESTAND, 3 TIER, LOVEHEART']\n",
      "urun kodu = 22777 ['GLASS CLOCHE LARGE' 'GLASS BELL JAR LARGE']\n",
      "urun kodu = 22778 ['GLASS CLOCHE SMALL' 'GLASS BELL JAR SMALL']\n",
      "urun kodu = 22784 ['Incorrectly entered. should be 2279' 'LANTERN CREAM GAZEBO ']\n",
      "urun kodu = 22785 ['CUSHION COVER PINK UNION FLAG' 'broken zips'\n",
      " 'SQUARECUSHION COVER PINK UNION FLAG']\n",
      "urun kodu = 22786 ['PILLOWCUSHION COVER PINK UNION JACK' 'broken zips'\n",
      " 'CUSHION COVER PINK UNION JACK']\n",
      "urun kodu = 22827 ['GIANT SEVENTEEN DRAWER SIDEBOARD' 'RUSTIC  SEVENTEEN DRAWER SIDEBOARD']\n",
      "urun kodu = 22829 ['BROCANTE SHELF WITH HOOKS' 'SWEETHEART WIRE WALL TIDY']\n",
      "urun kodu = 22832 ['SWEETHEART WIRE WALL TIDY' 'BROCANTE SHELF WITH HOOKS']\n",
      "urun kodu = 22834 ['HAND WARMER BABUSHKA DESIGN' 'MINI HAND WARMER BABUSHKA DESIGN']\n",
      "urun kodu = 22837 ['HOT WATER BOTTLE BABUSHKA ' 'HOT WATER BOTTLE BABUSHKA LARGE']\n",
      "urun kodu = 22838 ['3 TIER CAKE TIN RED AND CREAM' 'CAKE TIN, 3 TIER RED/IVORY']\n",
      "urun kodu = 22839 ['CAKE TIN, 3 TIER MINT/IVORY' '3 TIER CAKE TIN GREEN AND CREAM']\n",
      "urun kodu = 22840 ['ROUND CAKE TIN VINTAGE RED' 'CAKE TIN, ROUND, VINTAGE RED,CREAM']\n",
      "urun kodu = 22841 ['ROUND CAKE TIN VINTAGE GREEN' 'CAKE TIN, ROUND, VINTAGE MINT,IVORY']\n",
      "urun kodu = 22842 ['BISCUIT TIN VINTAGE RED' 'BISCUIT TIN, RED,IVORY, VINTAGE']\n",
      "urun kodu = 22843 ['BISCUIT TIN VINTAGE GREEN' 'BISCUIT TIN, MINT,IVORY, VINTAGE']\n",
      "urun kodu = 22844 ['VINTAGE CREAM DOG FOOD CONTAINER' 'VINTAGE DOG FOOD CONTAINER'\n",
      " 'DOG FOOD CONTAINER , VINTAGE']\n",
      "urun kodu = 22845 ['VINTAGE CREAM CAT FOOD CONTAINER' 'CAT FOOD CONTAINER , VINTAGE'\n",
      " 'VINTAGE CAT FOOD CONTAINER']\n",
      "urun kodu = 22846 ['BREAD BIN DINER STYLE RED ' 'BREAD BIN, DINER STYLE, RED ']\n",
      "urun kodu = 22847 ['BREAD BIN, DINER STYLE, IVORY' 'BREAD BIN DINER STYLE IVORY']\n",
      "urun kodu = 22848 ['BREAD BIN DINER STYLE PINK' 'BREAD BIN, DINER STYLE, PINK']\n",
      "urun kodu = 22849 ['BREAD BIN, DINER STYLE, MINT' 'BREAD BIN DINER STYLE MINT']\n",
      "urun kodu = 22852 ['ENAMEL DOG BOWL CREAM' 'DOG BOWL VINTAGE CREAM'\n",
      " 'DOG BOWL, ENAMEL , CREAM COLOUR']\n",
      "urun kodu = 22853 ['ENAMEL CAT BOWL CREAM' 'CAT BOWL VINTAGE CREAM'\n",
      " 'CAT BOWL, ENAMEL , CREAM COLOUR']\n",
      "urun kodu = 22864 ['Found' 'MUG AND COASTER SET RED CIRCLES' nan]\n",
      "urun kodu = 22868 ['NUMBER TILE COTTAGE GARDEN, 0 ' 'NUMBER TILE COTTAGE GARDEN 0 ']\n",
      "urun kodu = 22869 ['NUMBER TILE COTTAGE GARDEN, 1' 'NUMBER TILE COTTAGE GARDEN 1']\n",
      "urun kodu = 22870 ['NUMBER TILE COTTAGE GARDEN, 2' 'NUMBER TILE COTTAGE GARDEN 2']\n",
      "urun kodu = 22871 ['NUMBER TILE COTTAGE GARDEN, 3 ' 'NUMBER TILE COTTAGE GARDEN 3 ']\n",
      "urun kodu = 22872 ['NUMBER TILE COTTAGE GARDEN, 4' 'NUMBER TILE COTTAGE GARDEN 4']\n",
      "urun kodu = 22873 ['NUMBER TILE COTTAGE GARDEN, 5' 'NUMBER TILE COTTAGE GARDEN 5']\n",
      "urun kodu = 22874 ['NUMBER TILE COTTAGE GARDEN, 6' 'NUMBER TILE COTTAGE GARDEN 6']\n",
      "urun kodu = 22875 ['NUMBER TILE COTTAGE GARDEN, 7' 'NUMBER TILE COTTAGE GARDEN 7']\n",
      "urun kodu = 22876 ['NUMBER TILE COTTAGE GARDEN, 8' 'NUMBER TILE COTTAGE GARDEN 8']\n",
      "urun kodu = 22877 ['NUMBER TILE COTTAGE GARDEN, 9' 'NUMBER TILE COTTAGE GARDEN 9']\n",
      "urun kodu = 22878 ['NUMBER TILE COTTAGE GARDEN, No' 'NUMBER TILE COTTAGE GARDEN No']\n",
      "urun kodu = 22879 ['NUMBER TILE VINTAGE FONT 0' 'NUMBER TILE VINTAGE FONT, 0']\n",
      "urun kodu = 22880 ['NUMBER TILE VINTAGE FONT, 1' 'NUMBER TILE VINTAGE FONT 1']\n",
      "urun kodu = 22881 ['NUMBER TILE VINTAGE FONT, 2' 'NUMBER TILE VINTAGE FONT 2']\n",
      "urun kodu = 22882 ['NUMBER TILE VINTAGE FONT 3' 'NUMBER TILE VINTAGE FONT, 3']\n",
      "urun kodu = 22883 ['NUMBER TILE VINTAGE FONT 4' 'NUMBER TILE VINTAGE FONT, 4']\n",
      "urun kodu = 22884 ['NUMBER TILE VINTAGE FONT 5' 'NUMBER TILE VINTAGE FONT, 5']\n",
      "urun kodu = 22885 ['NUMBER TILE VINTAGE FONT 6 ' 'NUMBER TILE VINTAGE FONT, 6 ']\n",
      "urun kodu = 22886 ['NUMBER TILE VINTAGE FONT, 7' 'NUMBER TILE VINTAGE FONT 7']\n",
      "urun kodu = 22887 ['NUMBER TILE VINTAGE FONT 8' 'NUMBER TILE VINTAGE FONT, 8']\n",
      "urun kodu = 22889 ['NUMBER TILE VINTAGE FONT, No ' 'NUMBER TILE VINTAGE FONT No ']\n",
      "urun kodu = 22892 ['SALT AND PEPPER SHAKERS TOADSTOOLS' 'SET OF SALT AND PEPPER TOADSTOOLS']\n",
      "urun kodu = 22896 [nan 'PEG BAG APPLE DESIGN' 'PEG BAG APPLES DESIGN']\n",
      "urun kodu = 22897 [nan 'OVEN MITT APPLE DESIGN' 'OVEN MITT APPLES DESIGN']\n",
      "urun kodu = 22898 [nan 'CHILDRENS APRON APPLE DESIGN' 'CHILDRENS APRON APPLES DESIGN']\n",
      "urun kodu = 22899 ['CHILDRENS APRON DOLLY GIRL ' \"CHILDREN'S APRON DOLLY GIRL \"]\n",
      "urun kodu = 22902 ['dotcom email' 'dotcom' 'TOTE BAG I LOVE LONDON']\n",
      "urun kodu = 22903 ['CALENDAR FAMILY FAVORITES' 'CALENDAR FAMILY FAVOURITES']\n",
      "urun kodu = 22937 ['BAKING MOULD CHOCOLATE CUPCAKES' 'BAKING MOULD CHOCOLATE CUP CAKES']\n",
      "urun kodu = 22950 [nan '36 DOILIES VINTAGE CHRISTMAS' 'SET OF 36 DOILIES VINTAGE CHRISTMAS']\n",
      "urun kodu = 22951 ['72 CAKE CASES DOLLY GIRL DESIGN' '60 CAKE CASES DOLLY GIRL DESIGN']\n",
      "urun kodu = 22952 [nan '72 CAKE CASES VINTAGE CHRISTMAS'\n",
      " 'SET 72 CAKE CASES VINTAGE CHRISTMAS' '60 CAKE CASES VINTAGE CHRISTMAS']\n",
      "urun kodu = 22953 ['BIRTHDAY PARTY CORDON BARRIER TAPE' 'BIRTHDAY BANNER TAPE']\n",
      "urun kodu = 22954 ['HEN PARTY CORDON BARRIER TAPE' 'HEN PARTY BANNER TAPE']\n",
      "urun kodu = 22959 ['WRAP CHRISTMAS VILLAGE' 'WRAPPING PAPER, XMAS VILLAGE' nan]\n",
      "urun kodu = 22960 ['mailout addition' nan 'JAM MAKING SET WITH JARS']\n",
      "urun kodu = 22961 ['JAM MAKING SET PRINTED' nan 'mailout']\n",
      "urun kodu = 22962 ['Mailout' nan 'JAM JAR WITH PINK LID']\n",
      "urun kodu = 22963 ['JAM JAR WITH BLUE LID' nan 'Mailout' 'JAM JAR WITH GREEN LID']\n",
      "urun kodu = 22965 ['3 TRADITIONAl BISCUIT CUTTERS  SET' '3 TRADITIONAL COOKIE CUTTERS  SET']\n",
      "urun kodu = 22972 [\"CHILDREN'S SPACEBOY MUG\" 'CHILDRENS SPACEBOY MUG']\n",
      "urun kodu = 22973 ['CHILDRENS CIRCUS PARADE MUG' \"CHILDREN'S CIRCUS PARADE MUG\"]\n",
      "urun kodu = 22983 ['CARD, BILLBOARD FONT' 'CARD BILLBOARD FONT']\n",
      "urun kodu = 22984 ['CARD, GINGHAM ROSE ' 'CARD GINGHAM ROSE ']\n",
      "urun kodu = 35015 ['JACOBS LADDER SMALL' 'wet damages']\n",
      "urun kodu = 35400 ['WOODEN BOX ADVENT CALENDAR ' 'damages' nan]\n",
      "urun kodu = 35955 ['SMALL FOLKART CHRISTMAS TREE DEC' 'cant find']\n",
      "urun kodu = 35962 ['12 ASS ZINC CHRISTMAS DECORATIONS' nan\n",
      " 'SET/12 ZINC CHRISTMAS DECORATIONS']\n",
      "urun kodu = 35963 ['FOLKART ZINC CLIP ON ANGEL WINGS' 'checked']\n",
      "urun kodu = 35972 ['DAISY FOLKART HEART DECORATION' nan 'check']\n",
      "urun kodu = 37330 ['SPOTS MUG' 'BIG POLKADOT MUG' nan]\n",
      "urun kodu = 37342 ['SPOTTY COFFEE CUP & SAUCER' 'POLKADOT COFFEE CUP & SAUCER PINK']\n",
      "urun kodu = 37343 ['SPOTS DESIGN MUG W PINK INSIDE' 'POLKADOT MUG PINK ' nan]\n",
      "urun kodu = 37410 ['BLACK AND WHITE PAISLEY FLOWER MUG' 'damages' nan]\n",
      "urun kodu = 37448 ['CERAMIC CAKE DESIGN SPOTTED MUG' 'damages' nan]\n",
      "urun kodu = 37450 ['CERAMIC CAKE BOWL + HANGING CAKES' 'missing' nan]\n",
      "urun kodu = 37471 ['MULTICOLOUR DOTS PLATE' nan 'MULTICOLOUR POLKADOT PLATE']\n",
      "urun kodu = 37503 ['TEA TIME CAKE STAND IN GIFT BOX' 'damaged' nan]\n",
      "urun kodu = 40001 [' WHITE BAMBOO RIBS LAMPSHADE' 'WHITE BAMBOO RIBS LAMPSHADE']\n",
      "urun kodu = 40003 ['WHITE BAMBOO RIBS LAMPSHADE' '?']\n",
      "urun kodu = 45016 ['DECORATIVE NET CANOPY LEOPARD' 'ebay sales' nan]\n",
      "urun kodu = 47420 ['ASSORTED COLOUR SUCTION CUP HOOK' '?']\n",
      "urun kodu = 47505 ['MINATURE COLOURED GARDENING SET' 'Damp and rusty' nan]\n",
      "urun kodu = 47566 ['PARTY BUNTING' '?' nan]\n",
      "urun kodu = 47568 ['ENGLISH ROSE DESIGN PEG BAG' '?' nan]\n",
      "urun kodu = 48103 ['DOOR MAT KISS MY.......' 'DOORMAT KISS MY.......' nan]\n",
      "urun kodu = 48111 ['DOOR MAT 3 SMILEY CATS' 'DOORMAT 3 SMILEY CATS']\n",
      "urun kodu = 48116 ['DOOR MAT MULTICOLOUR STRIPE' 'DOORMAT MULTICOLOUR STRIPE' nan]\n",
      "urun kodu = 48129 ['DOOR MAT TOPIARY' 'DOORMAT TOPIARY']\n",
      "urun kodu = 48138 ['DOOR MAT UNION FLAG' 'DOORMAT UNION FLAG']\n",
      "urun kodu = 48184 ['DOOR MAT ENGLISH ROSE ' 'DOORMAT ENGLISH ROSE ' nan]\n",
      "urun kodu = 48185 ['DOOR MAT FAIRY CAKE' 'DOORMAT FAIRY CAKE']\n",
      "urun kodu = 48187 ['DOOR MAT NEW ENGLAND' 'DOORMAT NEW ENGLAND' nan]\n",
      "urun kodu = 48188 ['DOOR MAT WELCOME PUPPIES' 'DOORMAT WELCOME PUPPIES' '?' nan]\n",
      "urun kodu = 48189 ['DOOR MAT FRIENDSHIP ' 'DOORMAT FRIENDSHIP ']\n",
      "urun kodu = 48194 ['DOORMAT HEARTS' 'DOOR MAT HEARTS']\n",
      "urun kodu = 48195 ['DOOR MAT GREEN PAISLEY ' nan 'DOORMAT GREEN PAISLEY ']\n",
      "urun kodu = 48197 ['DOOR MAT BIRD ON THE WIRE' 'DOORMAT BIRD ON THE WIRE' nan]\n",
      "urun kodu = 51008 ['AFGHAN SLIPPER SOCK PAIR' 'wet' nan]\n",
      "urun kodu = 71459 ['HANGING JAM JAR T-LIGHT HOLDER' 'dotcom']\n",
      "urun kodu = 71477 ['short' 'COLOUR GLASS. STAR T-LIGHT HOLDER' nan 'Wet, rusty-thrown away']\n",
      "urun kodu = 72232 ['FENG SHUI PILLAR CANDLE' 'wet cartons']\n",
      "urun kodu = 72586 ['S/6 HALLOWEEN GHOST T LIGHTS, 5CM H' 'SET OF 6 HALLOWEEN GHOST T-LIGHTS'\n",
      " 'code mix up 72597']\n",
      "urun kodu = 72741 ['GRAND CHOCOLATECANDLE' 'dotcom']\n",
      "urun kodu = 72756 ['FAIRY CAKE CANDLES' ' FAIRY CAKE CANDLES' nan]\n",
      "urun kodu = 72812 ['LARGE ZINC/GLASS CANDLEHOLDER' 'LARGE ZINC GLASS CANDLEHOLDER']\n",
      "urun kodu = 72814 ['SET/3 CHRISTMAS BRIAR CANDLES' 'SET OF 3 CHRISTMAS BRIAR CANDLES' nan]\n",
      "urun kodu = 72817 ['SET/2 CHRISTMAS DECOUPAGE CANDLES' 'SET OF 2 CHRISTMAS DECOUPAGE CANDLE']\n",
      "urun kodu = 77081 ['FLOWER WINDMILL' 'missing' nan]\n",
      "urun kodu = 79000 ['MOROCCAN TEA GLASS' 'Dotcom' 'wet/smashed/unsellable' 'damaged']\n",
      "urun kodu = 79140 ['ASS WINDPROOF MARIJUANA LIGHTERS' nan 'gone']\n",
      "urun kodu = 79320 [' FLAMINGO LIGHTS' 'FLAMINGO LIGHTS' nan]\n",
      "urun kodu = 82552 ['WASHROOM METAL SIGN' '?' nan]\n",
      "urun kodu = 82581 ['TOILET METAL SIGN' '?']\n",
      "urun kodu = 82582 ['AREA PATROLLED METAL SIGN' '?' 'missings' nan]\n",
      "urun kodu = 82583 ['HOT BATHS METAL SIGN' '?']\n",
      "urun kodu = 82597 ['BOMBS AWAY METAL SIGN' '?' nan]\n",
      "urun kodu = 82605 ['OLD DOC.RUSSEL METAL SIGN' 'OLD DOC RUSSEL METAL SIGN']\n",
      "urun kodu = 84016 ['FLAG OF ST GEORGE CAR FLAG' 'ebay sales' 'invoice 506647'\n",
      " 'Ebay sales by the box.']\n",
      "urun kodu = 84270 ['ASSTD DESIGN BUBBLE GUM RING' '?' 'Damaged' nan]\n",
      "urun kodu = 84347 ['ROTATING SILVER ANGELS T-LIGHT HLDR' 21494 nan]\n",
      "urun kodu = 84356 ['POMPOM CURTAIN' 'damaged']\n",
      "urun kodu = 84367 ['LA STREGA CANVAS PICTURE ' 'crushed']\n",
      "urun kodu = 84454 ['WOBBLING METAL CHICKEN EASTER' 'missing' nan]\n",
      "urun kodu = 84578 ['ELEPHANT TOY WITH BLUE T-SHIRT' 'damages']\n",
      "urun kodu = 84617 [' NEW BAROQUE BLACK BOXES' 'NEW BAROQUE BLACK BOXES']\n",
      "urun kodu = 84670 ['JAPANESE CROCHETED ANIMAL' 'missing' nan]\n",
      "urun kodu = 84680 ['CLASSICAL ROSE URN' 'damages?' nan]\n",
      "urun kodu = 84691 ['PACK 20 DOLLY PEGS' 'damages' nan]\n",
      "urun kodu = 84807 ['RED POPPY ARTIFICIAL FLOWER' 'display' 'damages']\n",
      "urun kodu = 84839 ['SWEETHEART KEY CABINET' 'damaged' nan]\n",
      "urun kodu = 84855 ['BLOKEY SILVER TOOL SET' 'MIA' nan]\n",
      "urun kodu = 84869 ['CANDY BUTTON PHOTO ALBUM' 'damages']\n",
      "urun kodu = 84879 ['ASSORTED COLOUR BIRD ORNAMENT' 'Dotcom multiples']\n",
      "urun kodu = 84905 ['PINK BUTTERFLY C/COVER ' 'PINK BUTTERFLY CUSHION COVER ']\n",
      "urun kodu = 84907 ['PINK/YELLOW PATCH CUSHION COVER' 'PINK YELLOW PATCH CUSHION COVER' nan]\n",
      "urun kodu = 84918 ['CREAM C/COVER W YELLOW/GREEN FLOWER' 'CREAM CUSHION COVER WITH FLOWERS'\n",
      " 'damages' nan]\n",
      "urun kodu = 84919 ['L BLUE C/COVER W PINK/YELLOW FLOWER' 'BLUE CUSHION COVER WITH FLOWER']\n",
      "urun kodu = 84934 ['ASSTD DESIGN POP ART SLIM PEN' 'missing' nan]\n",
      "urun kodu = 84937 ['KASHMIR FOLKART TUMBLERS' 'Amazon sold as set' 'Dotcom sold as set' nan]\n",
      "urun kodu = 84944 ['SET OF 6 KASHMIR FOLKART BAUBLES' '?sold individually?']\n",
      "urun kodu = 84945 ['MULTI COLOUR SILVER T-LIGHT HOLDER' nan 'dotcom']\n",
      "urun kodu = 84950 ['ASSORTED COLOUR T-LIGHT HOLDER' 'dotcom']\n",
      "urun kodu = 84969 ['ASSORTED COLOUR SET 6 TEASPOONS' 'BOX OF 6 ASSORTED COLOUR TEASPOONS']\n",
      "urun kodu = 84978 ['HANGING HEART JAR T-LIGHT HOLDER' 'damages']\n",
      "urun kodu = 84990 ['60 GOLD AND SILVER FAIRY CAKE CASES' nan '?']\n",
      "urun kodu = 85060 ['WOOD FAN WITH FLOWER DESIGN' 'damaged/dirty' 'damaged']\n",
      "urun kodu = 85063 ['CREAM SWEETHEART MAGAZINE RACK' 'damaged']\n",
      "urun kodu = 85065 ['CREAM SWEETHEART TRAYS' 'damaged' nan]\n",
      "urun kodu = 85070 [nan 'ANT WHITE SWEETHEART TABLE W 3 DRAW' 'for show']\n",
      "urun kodu = 85078 ['SCANDINAVIAN 3 HEARTS NAPKIN RING' 'missing' nan]\n",
      "urun kodu = 85080 ['PADDED RED HEART DECORATION' 'checked' nan]\n",
      "urun kodu = 85081 ['PADDED HOLLY CHRISTMAS DECORATION ' 'checked']\n",
      "urun kodu = 85084 ['HOLLY TOP CHRISTMAS STOCKING' nan 'Damages']\n",
      "urun kodu = 85103 [' SILVER T-LIGHT SETTING' 'SILVER T-LIGHT SETTING']\n",
      "urun kodu = 85112 ['S/3 TEAR DROP CUT GLASS DECORATION' 'damaged' nan]\n",
      "urun kodu = 85142 ['JARDIN ETCHED GLASS GINGER JAR' '?????']\n",
      "urun kodu = 85150 ['LADIES & GENTLEMEN METAL SIGN' '?' nan]\n",
      "urun kodu = 85161 ['ACRYLIC GEOMETRIC LAMP' 'damaged']\n",
      "urun kodu = 85165 ['CANDY PINK FRENCH BOUDOIR CLOCK' nan 'damages']\n",
      "urun kodu = 85215 ['ASSORTED CHEESE FRIDGE MAGNETS' 'sold as set/6 on dotcom' nan]\n",
      "urun kodu = 85216 ['ASSORTED CAKES FRIDGE MAGNETS' 'DOTCOM SETS' nan]\n",
      "urun kodu = 85217 ['ASSORTED ICE CREAM FRIDGE MAGNETS' 'Dotcom multiple' nan]\n",
      "urun kodu = 85218 ['S/5 MINI ICE CREAM FRIDGE MAGNETS' 'No Stock']\n",
      "urun kodu = 85221 ['ASSORTED COLOUR SILK COIN PURSE' '?' nan]\n",
      "urun kodu = 85224 ['ASSORTED COLOUR SILK GLASSES CASE' '?' nan]\n",
      "urun kodu = 85227 ['SET/6 3D KIT CARDS FOR KIDS' 'SET OF 6 3D KIT CARDS FOR KIDS']\n",
      "urun kodu = 90208 ['PAIR OF ENAMEL FLOWER CLUSTER SLIDE' 'PAIR OF PINK FLOWER CLUSTER SLIDE']\n",
      "urun kodu = 15056N ['EDWARDIAN PARASOL NATURAL' 'wedding co returns?']\n",
      "urun kodu = 15058B ['PINK WHITE SPOTS GARDEN PARASOL' 'PINK POLKADOT GARDEN PARASOL']\n",
      "urun kodu = 16151A ['FLOWER DES BLUE HANDBAG/ORANG HANDL' nan 'found']\n",
      "urun kodu = 16161U ['WRAP,SUKI AND FRIENDS' 'WRAP SUKI AND FRIENDS']\n",
      "urun kodu = 16168S ['FUNKY MONKEY GIFT BAG SMALL' 'missing' nan]\n",
      "urun kodu = 16169C ['WRAP BLUE REINDEER' 'damages']\n",
      "urun kodu = 16245A [nan 'PINK MINI STATIONERY SET W CASE' 'damaged']\n",
      "urun kodu = 17013C ['ORIGAMI LAVENDER INCENSE IN TUBE' 'missing' nan]\n",
      "urun kodu = 17027A ['INCENSE BAZAAR CANNABIS' 'MISSING' nan]\n",
      "urun kodu = 17108D ['FLOWER FAIRY SUMMER BOUQUET SACHET' 'missing?' nan]\n",
      "urun kodu = 17109B ['FLOWER FAIRY INCENSE LAVENDER' nan 'found']\n",
      "urun kodu = 17129C ['SKY BLUE COLOUR GLASS GEMS IN BAG' nan 'wrong invc']\n",
      "urun kodu = 17129D ['CLEAR COLOUR GLASS GEMS IN BAG' 'missing (wrongly coded?)' nan]\n",
      "urun kodu = 17129F ['DEEP BLUE GLASS GEMS IN BAG' nan '17129c' 'BLUE GLASS GEMS IN BAG']\n",
      "urun kodu = 18094C ['WHITE/BLUE RECT CERAMIC OIL BURNER' 'WHITE AND BLUE CERAMIC OIL BURNER']\n",
      "urun kodu = 35001G ['HAND OPEN SHAPE GOLD' 'damages' nan]\n",
      "urun kodu = 35001W ['HAND OPEN SHAPE DECO.WHITE' 'broken' 'damages']\n",
      "urun kodu = 35004B ['SET OF 3 BLACK FLYING DUCKS' '?']\n",
      "urun kodu = 35600D ['PINK AND WHITE CHRISTMAS TREE 180CM' 'damages']\n",
      "urun kodu = 35603C ['SET/16 WHITE SHINY & MATT BAUBLES' 'checked']\n",
      "urun kodu = 35607B ['BLACK FEATHER CHRISTMAS DECORATION' nan 'checked']\n",
      "urun kodu = 35611B ['BLACK ASSORTED DROPLET DECORATION' 'damaged']\n",
      "urun kodu = 35816B ['ACRYLIC JEWEL ANGEL,BLUE' 'damaged']\n",
      "urun kodu = 35821B ['JEWELLED DECORATION,BLUE' 'gone']\n",
      "urun kodu = 35824C ['HANGING FLOWERS+MIRROR,CLEAR' 'damaged']\n",
      "urun kodu = 35824P ['HANGING FLOWERS+MIRROR,PINK' 'damages']\n",
      "urun kodu = 35833G ['4 GOLD FLOCK CHRISTMAS BALLS' nan 'damages']\n",
      "urun kodu = 35838B ['S/6 SILVER ORNAMENETAL CANDLE' 'missing' nan]\n",
      "urun kodu = 35980C [nan 'REDWHITE STRIPE SCANDINAVIAN HEART ' 'checked']\n",
      "urun kodu = 37479B ['CUBIC MUG FLOCK BLUE ON BROWN' nan 'tk maxx mix up with pink']\n",
      "urun kodu = 37479P ['CUBIC MUG FLOCK PINK ON BROWN' 'damages']\n",
      "urun kodu = 37482P ['CUBIC MUG PINK POLKA DOT' 'CUBIC MUG PINK POLKADOT']\n",
      "urun kodu = 45008C ['DECORATIVE NET CANOPY CREAM' nan 'dirty, torn, thrown away.']\n",
      "urun kodu = 46000M ['POLYESTER FILLER PAD 45x45cm' nan 'Dotcom' 'Dotcom sales']\n",
      "urun kodu = 46000R ['POLYESTER FILLER PAD 45x30cm' 'dotcom sales' 'entry error']\n",
      "urun kodu = 46000S ['POLYESTER FILLER PAD 40x40cm' nan 'Dotcom sales']\n",
      "urun kodu = 46000U ['POLYESTER FILLER PAD 30CMx30CM' nan 'dotcom']\n",
      "urun kodu = 47566B ['TEA TIME PARTY BUNTING' 'missing' nan 'correct previous adjustment'\n",
      " 'stock credited from royal yacht inc']\n",
      "urun kodu = 47567B ['TEA TIME KITCHEN APRON' 'missing' nan]\n",
      "urun kodu = 47587A ['PINK FAIRY CAKE COASTER' \"12'S SOLD AS 1?\" nan]\n",
      "urun kodu = 47591A [\"CAROUSEL DES CHILD'S APRON\" 'CAROUSEL CHILDRENS APRON']\n",
      "urun kodu = 47591B [\"SCOTTIES DES CHILD'S APRON\" 'SCOTTIES CHILDRENS APRON']\n",
      "urun kodu = 47591C [\"BLUE FAIRY CAKE CHILD'S APRON\" 'missing' nan\n",
      " 'BLUE FAIRY CAKE CHILDRENS APRON']\n",
      "urun kodu = 47591D [\"PINK FAIRY CAKE CHILD'S APRON\" 'PINK FAIRY CAKE CHILDRENS APRON']\n",
      "urun kodu = 47592A [\"CAROUSEL DES CHILD'S OVERALL\" 'CAROUSEL CHILDRENS OVERALL' nan]\n",
      "urun kodu = 47592B [\"SCOTTIES DESIGN CHILD'S OVERALL\" nan 'SCOTTIE DOGS CHILDRENS OVERALL']\n",
      "urun kodu = 47593A ['CAROUSEL DESIGN BABY BIB' 'CAROUSEL PONIES BABY BIB']\n",
      "urun kodu = 47593B ['SCOTTIES DESIGN BABY BIB' 'SCOTTIE DOGS BABY BIB']\n",
      "urun kodu = 48173C ['DOOR MAT BLACK FLOCK ' 'MIA' 'DOORMAT BLACK FLOCK ' 'damaged']\n",
      "urun kodu = 48173c ['DOOR MAT BLACK FLOCK ' 'DOORMAT BLACK FLOCK ']\n",
      "urun kodu = 72225C ['LAVENDER SCENT CAKE CANDLE' '?']\n",
      "urun kodu = 72225D ['VANILLA SCENT CAKE CANDLE ' '?' nan]\n",
      "urun kodu = 72739B ['WHITE CHOCOLATE SCENT CANDLE' 'discoloured' nan]\n",
      "urun kodu = 72739C ['DARK CHOCOLATE SCENTCANDLE' 'discoloured' nan]\n",
      "urun kodu = 72750A ['F.FAIRY S/3 CANDLE/GLASS,LILY/VALLY'\n",
      " 'FLOWER FAIRY SET OF 3 LILY CANDLES' 'damages']\n",
      "urun kodu = 72750B ['F.FAIRY S/3 CANDLE/GLASS,LAVENDER' 'FLOWER FAIRY SET 3 CANDLES LAVENDER'\n",
      " nan]\n",
      "urun kodu = 72754A ['FLOWER FAIRY POTPOURRI CUSHION LILY' 'damaged']\n",
      "urun kodu = 72755D ['FLOWER FAIRY OIL BURNER SET SUMMER' 'missing' nan]\n",
      "urun kodu = 72800B ['S/4 PURPLE DINNER CANDLE BLK FLOCK' ' 4 PURPLE FLOCK DINNER CANDLES']\n",
      "urun kodu = 72800C ['S/4 PINK DINNER CANDLE SILVER FLOCK' '4 PINK DINNER CANDLE SILVER FLOCK']\n",
      "urun kodu = 72800D ['S/4 BLUE DINNER CANDLE SILVER FLOCK'\n",
      " '4 BLUE DINNER CANDLES SILVER FLOCK']\n",
      "urun kodu = 72801C ['S/4 ROSE PINK DINNER CANDLES' '4 ROSE PINK DINNER CANDLES']\n",
      "urun kodu = 72801D ['S/4 SKY BLUE DINNER CANDLES' '4 SKY BLUE DINNER CANDLES']\n",
      "urun kodu = 72801E ['S/4 FESTIVE GREEN DINNER CANDLES' '4 FESTIVE GREEN DINNER CANDLES' nan]\n",
      "urun kodu = 72801G ['S/4 BURGUNDY WINE DINNER CANDLES' '4 BURGUNDY WINE DINNER CANDLES' nan]\n",
      "urun kodu = 72801c ['S/4 ROSE PINK DINNER CANDLES' '4 ROSE PINK DINNER CANDLES']\n",
      "urun kodu = 72801d ['S/4 SKY BLUE DINNER CANDLES' '4 SKY BLUE DINNER CANDLES']\n",
      "urun kodu = 72801e ['S/4 FESTIVE GREEN DINNER CANDLES' '4 FESTIVE GREEN DINNER CANDLES']\n",
      "urun kodu = 72801g ['S/4 BURGUNDY WINE DINNER CANDLES' '4 BURGUNDY WINE DINNER CANDLES']\n",
      "urun kodu = 75149N ['STRING CRYSTALS NATURAL' 'missing' nan]\n",
      "urun kodu = 79030A ['TUMBLER, ENGLISH ROSE' 'smashed' nan]\n",
      "urun kodu = 79302M ['ART LIGHTS,FUNK MONKEY' 'crushed']\n",
      "urun kodu = 79323GR ['GREEN CHERRY LIGHTS' 'sold as gold' nan]\n",
      "urun kodu = 79323S [' SILVER CHERRY LIGHTS' 'SILVER CHERRY LIGHTS' nan]\n",
      "urun kodu = 79323W [' WHITE CHERRY LIGHTS' 'WHITE CHERRY LIGHTS' nan]\n",
      "urun kodu = 82494L ['WOODEN FRAME ANTIQUE WHITE ' 'MISSING' nan]\n",
      "urun kodu = 82607A ['GLASS BONBON JAR PARFUME AUX FLEURE' 'damages' nan]\n",
      "urun kodu = 82607C ['GLASS BONBON JAR. SUPERFINES' 'damages']\n",
      "urun kodu = 84078A ['SET/4 WHITE RETRO STORAGE CUBES ' 'damages etc' 'show display']\n",
      "urun kodu = 84279P [' CHERRY BLOSSOM  DECORATIVE FLASK' 'CHERRY BLOSSOM  DECORATIVE FLASK']\n",
      "urun kodu = 84405A ['S/3 PINK COL METAL BASKET W HANDLE' 'damaged']\n",
      "urun kodu = 84406B ['CREAM CUPID HEARTS COAT HANGER' 'damaged']\n",
      "urun kodu = 84414B ['FUSCHIA/GREEN STRIPE WOOLLY BLANKET' 'damaged']\n",
      "urun kodu = 84450B ['YELLOW RABBIT SAT EASTER' 'PINK/YELLOW RABBIT SAT EASTER' nan]\n",
      "urun kodu = 84508A ['CAMOFLAGE DESIGN TEDDY' 'wet ctn' 'CAMOUFLAGE DESIGN TEDDY']\n",
      "urun kodu = 84509A ['ENGLISH ROSE PLACEMATS' 'SET OF 4 ENGLISH ROSE PLACEMATS']\n",
      "urun kodu = 84509B ['FAIRY CAKE PLACEMATS' 'SET OF 4 FAIRY CAKE PLACEMATS']\n",
      "urun kodu = 84509C ['DOTTY PLACEMATS ' 'SET OF 4 DOTTY PLACEMATS '\n",
      " 'SET OF 4 POLKADOT PLACEMATS ']\n",
      "urun kodu = 84509E ['CAROUSEL PLACEMATS ' 'SET OF 4 CAROUSEL PLACEMATS ']\n",
      "urun kodu = 84509F ['NEW ENGLAND PLACEMATS' 'SET OF 4 NEW ENGLAND PLACEMATS' nan]\n",
      "urun kodu = 84509G ['FAIRY CAKE PLACEMATS ' 'SET OF 4 FAIRY CAKE PLACEMATS ']\n",
      "urun kodu = 84509a ['ENGLISH ROSE PLACEMATS' 'SET OF 4 ENGLISH ROSE PLACEMATS']\n",
      "urun kodu = 84509c ['DOTTY PLACEMATS ' 'SET OF 4 DOTTY PLACEMATS '\n",
      " 'SET OF 4 POLKADOT PLACEMATS ']\n",
      "urun kodu = 84510C ['SET OF 4 POLKADOTS COASTERS' 'SET OF 4 POLKADOT COASTERS']\n",
      "urun kodu = 84510c ['SET OF 4 POLKADOTS COASTERS' 'SET OF 4 POLKADOT COASTERS']\n",
      "urun kodu = 84613A ['PINK NEW BAROQUE FLOCK CANDLESTICK' 'poor quality']\n",
      "urun kodu = 84625B ['BLCK NEW BAROQUE CANDLESTICK CANDLE' 'Damaged']\n",
      "urun kodu = 84709A [nan 'SILVER OVAL JEWELLED MIRROR' 'Damaged']\n",
      "urun kodu = 84750A ['PINK SMALL GLASS CAKE STAND' 'damages' nan]\n",
      "urun kodu = 84782A ['PINK 3 TIER GLASS PLATE STAND' 'damages, lost bits etc' nan]\n",
      "urun kodu = 84782B ['BLACK 3 TIER GLASS PLATE STAND' 'damages, lost bits etc']\n",
      "urun kodu = 84795A ['PASTEL STRIPE HAMMOCK ' nan 'coding mix up']\n",
      "urun kodu = 84795C ['OCEAN STRIPE HAMMOCK ' nan 'sold as D?']\n",
      "urun kodu = 84795D ['SEASIDE STRIPE HAMMOCK' 'missing' nan]\n",
      "urun kodu = 84797B ['BLUE SAVANNAH PICNIC HAMPER FOR 4' nan\n",
      " 'Donated to The Food Chain charity']\n",
      "urun kodu = 84858A ['NATURAL RIVIERA HANDBAG' 'wet and rotting' nan]\n",
      "urun kodu = 84858B ['BLUE RIVIERA HANDBAG' 'wet & rotting' nan]\n",
      "urun kodu = 84899E ['YELLOW + BROWN BEAR FELT PURSE KIT' 'YELLOW BROWN BEAR FELT PURSE KIT'\n",
      " nan]\n",
      "urun kodu = 84924D ['LA PALMIERA METAL SIGN CALENDAR' nan 'eurobargain invc/credit']\n",
      "urun kodu = 84925D ['LA PALMIERA WALL THERMOMETER' nan 'incorrect credit']\n",
      "urun kodu = 84925F ['PSYCHEDELIC WALL THERMOMETER' nan '?']\n",
      "urun kodu = 84932C ['SMALL ORIENTAL BLUE FOLDING STOOL' '?']\n",
      "urun kodu = 84932D ['SMALL ORIENTAL RED FOLDING STOOL' 'damages' nan]\n",
      "urun kodu = 84951A ['S/4 PISTACHIO LOVEBIRD COASTERS' 'SET OF 4 PISTACHIO LOVEBIRD COASTER']\n",
      "urun kodu = 84951B ['S/4 BLACK LOVEBIRD COASTERS' 'SET OF 4 BLACK LOVEBIRD COASTERS']\n",
      "urun kodu = 84951b ['S/4 BLACK LOVEBIRD COASTERS' 'SET OF 4 BLACK LOVEBIRD COASTERS']\n",
      "urun kodu = 84966A ['PINK KASHMIRI BOXED MIRROR' 'Sold as C']\n",
      "urun kodu = 84966C [nan 'GREEN KASHMIRI BOXED MIRROR' 'Sold as A/B']\n",
      "urun kodu = 84968A ['S/16 VINTAGE ROSE CUTLERY' 'SET OF 16 VINTAGE ROSE CUTLERY']\n",
      "urun kodu = 84968B ['S/16 VINTAGE IVORY CUTLERY' 'rust,missing sets etc'\n",
      " 'SET OF 16 VINTAGE IVORY CUTLERY' nan]\n",
      "urun kodu = 84968C ['S/16 VINTAGE PISTACHIO CUTLERY' 'SET OF 16 VINTAGE PISTACHIO CUTLERY']\n",
      "urun kodu = 84968D ['S/16 VINTAGE RED CUTLERY' '?' nan 'SET OF 16 VINTAGE RED CUTLERY']\n",
      "urun kodu = 84968E ['S/16 VINTAGE BLACK CUTLERY' 'SET OF 16 VINTAGE BLACK CUTLERY' 'check']\n",
      "urun kodu = 84968F ['S/16 VINTAGE SKY BLUE CUTLERY' 'SET OF 16 VINTAGE SKY BLUE CUTLERY'\n",
      " 'check']\n",
      "urun kodu = 84968a ['S/16 VINTAGE ROSE CUTLERY' 'SET OF 16 VINTAGE ROSE CUTLERY']\n",
      "urun kodu = 84968b ['S/16 VINTAGE IVORY CUTLERY' 'SET OF 16 VINTAGE IVORY CUTLERY']\n",
      "urun kodu = 84968e ['S/16 VINTAGE BLACK CUTLERY' 'SET OF 16 VINTAGE BLACK CUTLERY']\n",
      "urun kodu = 84971S ['SMALL HEART FLOWERS HOOK ' '?']\n",
      "urun kodu = 84984A ['GREEN PEONY DES C/COVER' 'GREEN PEONY CUSHION COVER']\n",
      "urun kodu = 84984B ['RED PEONY DES C/COVER ' 'RED PEONY CUSHION COVER ' nan]\n",
      "urun kodu = 84984C ['ORIENTAL BLUE C/COVER ' 'ORIENTAL BLUE CUSHION COVER ' nan]\n",
      "urun kodu = 84984D ['ORIENTAL RED C/COVER ' 'ORIENTAL RED CUSHION COVER ']\n",
      "urun kodu = 84997A ['GREEN 3 PIECE MINI DOTS CUTLERY SET' nan\n",
      " 'GREEN 3 PIECE POLKADOT CUTLERY SET']\n",
      "urun kodu = 84997B ['RED 3 PIECE MINI DOTS CUTLERY SET' 'RED 3 PIECE RETROSPOT CUTLERY SET']\n",
      "urun kodu = 84997C ['BLUE 3 PIECE MINI DOTS CUTLERY SET' 'BLUE 3 PIECE POLKADOT CUTLERY SET']\n",
      "urun kodu = 84997D ['PINK 3 PIECE MINI DOTS CUTLERY SET' nan\n",
      " 'PINK 3 PIECE POLKADOT CUTLERY SET']\n",
      "urun kodu = 84997a ['GREEN 3 PIECE MINI DOTS CUTLERY SET'\n",
      " 'GREEN 3 PIECE POLKADOT CUTLERY SET']\n",
      "urun kodu = 84997b ['RED 3 PIECE MINI DOTS CUTLERY SET' 'RED 3 PIECE RETROSPOT CUTLERY SET']\n",
      "urun kodu = 84997c ['BLUE 3 PIECE MINI DOTS CUTLERY SET' 'BLUE 3 PIECE POLKADOT CUTLERY SET']\n",
      "urun kodu = 84997d ['PINK 3 PIECE MINI DOTS CUTLERY SET' 'PINK 3 PIECE POLKADOT CUTLERY SET']\n",
      "urun kodu = 85014A ['BLACK/BLUE DOTS RUFFLED UMBRELLA' 'BLACK/BLUE POLKADOT UMBRELLA']\n",
      "urun kodu = 85014B ['RED/WHITE DOTS RUFFLED UMBRELLA' 'RED RETROSPOT UMBRELLA']\n",
      "urun kodu = 85014a ['BLACK/BLUE DOTS RUFFLED UMBRELLA' 'BLACK/BLUE POLKADOT UMBRELLA']\n",
      "urun kodu = 85014b ['RED/WHITE DOTS RUFFLED UMBRELLA' 'RED RETROSPOT UMBRELLA']\n",
      "urun kodu = 85017A ['ENVELOPE 50 ROMANTIC IMAGES' 'wrong ctn size' nan]\n",
      "urun kodu = 85017C ['ENVELOPE 50 CURIOUS IMAGES' '?']\n",
      "urun kodu = 85099B ['JUMBO BAG RED WHITE SPOTTY ' 'RED RETROSPOT JUMBO BAG '\n",
      " 'JUMBO BAG RED RETROSPOT' 'missing']\n",
      "urun kodu = 85123A ['WHITE HANGING HEART T-LIGHT HOLDER' '21733 mixed']\n",
      "urun kodu = 85124A ['PINK JUICY FRUIT PHOTO FRAME' 'damaged' nan]\n",
      "urun kodu = 85131D ['BEADED CRYSTAL HEART PINK\\\\ON STICK'\n",
      " 'BEADED CRYSTAL HEART PINK ON STICK']\n",
      "urun kodu = 85162A ['SILVER RETRODISC LAMPSHADE' '?']\n",
      "urun kodu = 85185D ['FROG SOCK PUPPET' 'stock take']\n",
      "urun kodu = 85232A ['SET/3 POLKA DOT STACKING TINS' 'SET/3 POLKADOT STACKING TINS' nan]\n",
      "urun kodu = 85232B ['SET/3 RUSSIAN DOLL STACKING TINS' 'SET OF 3 BABUSHKA STACKING TINS'\n",
      " 'wrong code' nan]\n",
      "urun kodu = 85232b ['SET/3 RUSSIAN DOLL STACKING TINS' 'SET OF 3 BABUSHKA STACKING TINS']\n",
      "urun kodu = ADJUST ['Adjustment by john on 26/01/2010 16'\n",
      " 'Adjustment by john on 26/01/2010 17'\n",
      " 'Adjustment by Peter on 24/05/2010 1']\n",
      "urun kodu = BANK CHARGES [' Bank Charges' 'Bank Charges']\n",
      "urun kodu = DCGSSBOY [nan 'update' 'BOYS PARTY BAG']\n",
      "urun kodu = DCGSSGIRL [nan 'update' 'GIRLS PARTY BAG']\n"
     ]
    }
   ],
   "source": [
    "a =df.groupby('StockCode').agg({'Description': \"nunique\"})\n",
    "a.reset_index(inplace=True)\n",
    "a.head()\n",
    "b = list(a.loc[a['Description'] > 1, 'StockCode'])   \n",
    "\n",
    "for urun_kodu in b:\n",
    "    print(f\"urun kodu = {urun_kodu} {df.loc[df['StockCode'] == urun_kodu, 'Description'].unique()}\")"
   ]
  },
  {
   "cell_type": "markdown",
   "metadata": {
    "papermill": {
     "duration": 0.105592,
     "end_time": "2021-01-26T07:00:09.907691",
     "exception": false,
     "start_time": "2021-01-26T07:00:09.802099",
     "status": "completed"
    },
    "tags": []
   },
   "source": [
    "as an example derived from the above list, both the Descriptions: 'PINK SPOTTY BOWL' and 'PINK POLKADOT BOWL' have the same StockCode: 20677. This means that there are duplicates in Description variable (possibly due to manuel entries or merge) so it would be better to use StockCode."
   ]
  },
  {
   "cell_type": "code",
   "execution_count": 12,
   "metadata": {
    "execution": {
     "iopub.execute_input": "2021-01-26T07:00:10.230932Z",
     "iopub.status.busy": "2021-01-26T07:00:10.229898Z",
     "iopub.status.idle": "2021-01-26T07:00:10.237715Z",
     "shell.execute_reply": "2021-01-26T07:00:10.236980Z"
    },
    "papermill": {
     "duration": 0.225581,
     "end_time": "2021-01-26T07:00:10.237834",
     "exception": false,
     "start_time": "2021-01-26T07:00:10.012253",
     "status": "completed"
    },
    "tags": []
   },
   "outputs": [
    {
     "data": {
      "text/plain": [
       "array(['PINK SPOTTY BOWL', 'PINK POLKADOT BOWL'], dtype=object)"
      ]
     },
     "execution_count": 12,
     "metadata": {},
     "output_type": "execute_result"
    }
   ],
   "source": [
    "df.loc[df['StockCode'] == 20677, 'Description'].unique() "
   ]
  },
  {
   "cell_type": "markdown",
   "metadata": {
    "papermill": {
     "duration": 0.107453,
     "end_time": "2021-01-26T07:00:10.450370",
     "exception": false,
     "start_time": "2021-01-26T07:00:10.342917",
     "status": "completed"
    },
    "tags": []
   },
   "source": [
    "## Data Preperation"
   ]
  },
  {
   "cell_type": "markdown",
   "metadata": {
    "papermill": {
     "duration": 0.107355,
     "end_time": "2021-01-26T07:00:10.665796",
     "exception": false,
     "start_time": "2021-01-26T07:00:10.558441",
     "status": "completed"
    },
    "tags": []
   },
   "source": [
    "drop na values"
   ]
  },
  {
   "cell_type": "code",
   "execution_count": 13,
   "metadata": {
    "execution": {
     "iopub.execute_input": "2021-01-26T07:00:10.887285Z",
     "iopub.status.busy": "2021-01-26T07:00:10.886199Z",
     "iopub.status.idle": "2021-01-26T07:00:11.161591Z",
     "shell.execute_reply": "2021-01-26T07:00:11.160769Z"
    },
    "papermill": {
     "duration": 0.38832,
     "end_time": "2021-01-26T07:00:11.161722",
     "exception": false,
     "start_time": "2021-01-26T07:00:10.773402",
     "status": "completed"
    },
    "tags": []
   },
   "outputs": [],
   "source": [
    "df.dropna(inplace=True)"
   ]
  },
  {
   "cell_type": "code",
   "execution_count": 14,
   "metadata": {
    "execution": {
     "iopub.execute_input": "2021-01-26T07:00:11.385855Z",
     "iopub.status.busy": "2021-01-26T07:00:11.385070Z",
     "iopub.status.idle": "2021-01-26T07:00:11.579113Z",
     "shell.execute_reply": "2021-01-26T07:00:11.578397Z"
    },
    "papermill": {
     "duration": 0.307779,
     "end_time": "2021-01-26T07:00:11.579266",
     "exception": false,
     "start_time": "2021-01-26T07:00:11.271487",
     "status": "completed"
    },
    "tags": []
   },
   "outputs": [
    {
     "name": "stdout",
     "output_type": "stream",
     "text": [
      "<class 'pandas.core.frame.DataFrame'>\n",
      "Int64Index: 417534 entries, 0 to 525460\n",
      "Data columns (total 8 columns):\n",
      " #   Column       Non-Null Count   Dtype         \n",
      "---  ------       --------------   -----         \n",
      " 0   Invoice      417534 non-null  object        \n",
      " 1   StockCode    417534 non-null  object        \n",
      " 2   Description  417534 non-null  object        \n",
      " 3   Quantity     417534 non-null  int64         \n",
      " 4   InvoiceDate  417534 non-null  datetime64[ns]\n",
      " 5   Price        417534 non-null  float64       \n",
      " 6   Customer ID  417534 non-null  float64       \n",
      " 7   Country      417534 non-null  object        \n",
      "dtypes: datetime64[ns](1), float64(2), int64(1), object(4)\n",
      "memory usage: 28.7+ MB\n"
     ]
    }
   ],
   "source": [
    "df.info()"
   ]
  },
  {
   "cell_type": "code",
   "execution_count": 15,
   "metadata": {
    "execution": {
     "iopub.execute_input": "2021-01-26T07:00:11.804003Z",
     "iopub.status.busy": "2021-01-26T07:00:11.803294Z",
     "iopub.status.idle": "2021-01-26T07:00:11.875751Z",
     "shell.execute_reply": "2021-01-26T07:00:11.875017Z"
    },
    "papermill": {
     "duration": 0.189273,
     "end_time": "2021-01-26T07:00:11.875878",
     "exception": false,
     "start_time": "2021-01-26T07:00:11.686605",
     "status": "completed"
    },
    "tags": []
   },
   "outputs": [
    {
     "data": {
      "text/html": [
       "<div>\n",
       "<style scoped>\n",
       "    .dataframe tbody tr th:only-of-type {\n",
       "        vertical-align: middle;\n",
       "    }\n",
       "\n",
       "    .dataframe tbody tr th {\n",
       "        vertical-align: top;\n",
       "    }\n",
       "\n",
       "    .dataframe thead th {\n",
       "        text-align: right;\n",
       "    }\n",
       "</style>\n",
       "<table border=\"1\" class=\"dataframe\">\n",
       "  <thead>\n",
       "    <tr style=\"text-align: right;\">\n",
       "      <th></th>\n",
       "      <th>count</th>\n",
       "      <th>mean</th>\n",
       "      <th>std</th>\n",
       "      <th>min</th>\n",
       "      <th>1%</th>\n",
       "      <th>5%</th>\n",
       "      <th>10%</th>\n",
       "      <th>25%</th>\n",
       "      <th>50%</th>\n",
       "      <th>75%</th>\n",
       "      <th>90%</th>\n",
       "      <th>95%</th>\n",
       "      <th>99%</th>\n",
       "      <th>max</th>\n",
       "    </tr>\n",
       "  </thead>\n",
       "  <tbody>\n",
       "    <tr>\n",
       "      <th>Quantity</th>\n",
       "      <td>417534.00000</td>\n",
       "      <td>12.75881</td>\n",
       "      <td>101.22042</td>\n",
       "      <td>-9360.00000</td>\n",
       "      <td>-2.00000</td>\n",
       "      <td>1.00000</td>\n",
       "      <td>1.00000</td>\n",
       "      <td>2.00000</td>\n",
       "      <td>4.00000</td>\n",
       "      <td>12.00000</td>\n",
       "      <td>24.00000</td>\n",
       "      <td>36.00000</td>\n",
       "      <td>144.00000</td>\n",
       "      <td>19152.00000</td>\n",
       "    </tr>\n",
       "    <tr>\n",
       "      <th>Price</th>\n",
       "      <td>417534.00000</td>\n",
       "      <td>3.88755</td>\n",
       "      <td>71.13180</td>\n",
       "      <td>0.00000</td>\n",
       "      <td>0.29000</td>\n",
       "      <td>0.42000</td>\n",
       "      <td>0.65000</td>\n",
       "      <td>1.25000</td>\n",
       "      <td>1.95000</td>\n",
       "      <td>3.75000</td>\n",
       "      <td>6.75000</td>\n",
       "      <td>8.50000</td>\n",
       "      <td>14.95000</td>\n",
       "      <td>25111.09000</td>\n",
       "    </tr>\n",
       "    <tr>\n",
       "      <th>Customer ID</th>\n",
       "      <td>417534.00000</td>\n",
       "      <td>15360.64548</td>\n",
       "      <td>1680.81132</td>\n",
       "      <td>12346.00000</td>\n",
       "      <td>12435.00000</td>\n",
       "      <td>12725.00000</td>\n",
       "      <td>13042.00000</td>\n",
       "      <td>13983.00000</td>\n",
       "      <td>15311.00000</td>\n",
       "      <td>16799.00000</td>\n",
       "      <td>17706.00000</td>\n",
       "      <td>17913.00000</td>\n",
       "      <td>18196.00000</td>\n",
       "      <td>18287.00000</td>\n",
       "    </tr>\n",
       "  </tbody>\n",
       "</table>\n",
       "</div>"
      ],
      "text/plain": [
       "                   count        mean        std         min          1%  \\\n",
       "Quantity    417534.00000    12.75881  101.22042 -9360.00000    -2.00000   \n",
       "Price       417534.00000     3.88755   71.13180     0.00000     0.29000   \n",
       "Customer ID 417534.00000 15360.64548 1680.81132 12346.00000 12435.00000   \n",
       "\n",
       "                     5%         10%         25%         50%         75%  \\\n",
       "Quantity        1.00000     1.00000     2.00000     4.00000    12.00000   \n",
       "Price           0.42000     0.65000     1.25000     1.95000     3.75000   \n",
       "Customer ID 12725.00000 13042.00000 13983.00000 15311.00000 16799.00000   \n",
       "\n",
       "                    90%         95%         99%         max  \n",
       "Quantity       24.00000    36.00000   144.00000 19152.00000  \n",
       "Price           6.75000     8.50000    14.95000 25111.09000  \n",
       "Customer ID 17706.00000 17913.00000 18196.00000 18287.00000  "
      ]
     },
     "execution_count": 15,
     "metadata": {},
     "output_type": "execute_result"
    }
   ],
   "source": [
    "df.describe([0.01, 0.05, 0.10, 0.25, 0.50, 0.75, 0.90, 0.95, 0.99]).T"
   ]
  },
  {
   "cell_type": "markdown",
   "metadata": {
    "papermill": {
     "duration": 0.108011,
     "end_time": "2021-01-26T07:00:12.091542",
     "exception": false,
     "start_time": "2021-01-26T07:00:11.983531",
     "status": "completed"
    },
    "tags": []
   },
   "source": [
    "there are negative values on Quantity variable, this is caused by the refund invoices (Invoices containing the letter \"C\"), reassign df without refund invoices"
   ]
  },
  {
   "cell_type": "code",
   "execution_count": 16,
   "metadata": {
    "execution": {
     "iopub.execute_input": "2021-01-26T07:00:12.356414Z",
     "iopub.status.busy": "2021-01-26T07:00:12.355658Z",
     "iopub.status.idle": "2021-01-26T07:00:13.053802Z",
     "shell.execute_reply": "2021-01-26T07:00:13.053259Z"
    },
    "papermill": {
     "duration": 0.856936,
     "end_time": "2021-01-26T07:00:13.053923",
     "exception": false,
     "start_time": "2021-01-26T07:00:12.196987",
     "status": "completed"
    },
    "tags": []
   },
   "outputs": [],
   "source": [
    "df = df[~df[\"Invoice\"].str.contains(\"C\", na=False)]"
   ]
  },
  {
   "cell_type": "code",
   "execution_count": 17,
   "metadata": {
    "execution": {
     "iopub.execute_input": "2021-01-26T07:00:13.283613Z",
     "iopub.status.busy": "2021-01-26T07:00:13.282766Z",
     "iopub.status.idle": "2021-01-26T07:00:13.352546Z",
     "shell.execute_reply": "2021-01-26T07:00:13.351835Z"
    },
    "papermill": {
     "duration": 0.189083,
     "end_time": "2021-01-26T07:00:13.352698",
     "exception": false,
     "start_time": "2021-01-26T07:00:13.163615",
     "status": "completed"
    },
    "tags": []
   },
   "outputs": [
    {
     "data": {
      "text/html": [
       "<div>\n",
       "<style scoped>\n",
       "    .dataframe tbody tr th:only-of-type {\n",
       "        vertical-align: middle;\n",
       "    }\n",
       "\n",
       "    .dataframe tbody tr th {\n",
       "        vertical-align: top;\n",
       "    }\n",
       "\n",
       "    .dataframe thead th {\n",
       "        text-align: right;\n",
       "    }\n",
       "</style>\n",
       "<table border=\"1\" class=\"dataframe\">\n",
       "  <thead>\n",
       "    <tr style=\"text-align: right;\">\n",
       "      <th></th>\n",
       "      <th>count</th>\n",
       "      <th>mean</th>\n",
       "      <th>std</th>\n",
       "      <th>min</th>\n",
       "      <th>1%</th>\n",
       "      <th>5%</th>\n",
       "      <th>10%</th>\n",
       "      <th>25%</th>\n",
       "      <th>50%</th>\n",
       "      <th>75%</th>\n",
       "      <th>90%</th>\n",
       "      <th>95%</th>\n",
       "      <th>99%</th>\n",
       "      <th>max</th>\n",
       "    </tr>\n",
       "  </thead>\n",
       "  <tbody>\n",
       "    <tr>\n",
       "      <th>Quantity</th>\n",
       "      <td>407695.00000</td>\n",
       "      <td>13.58669</td>\n",
       "      <td>96.84223</td>\n",
       "      <td>1.00000</td>\n",
       "      <td>1.00000</td>\n",
       "      <td>1.00000</td>\n",
       "      <td>1.00000</td>\n",
       "      <td>2.00000</td>\n",
       "      <td>5.00000</td>\n",
       "      <td>12.00000</td>\n",
       "      <td>24.00000</td>\n",
       "      <td>36.00000</td>\n",
       "      <td>144.00000</td>\n",
       "      <td>19152.00000</td>\n",
       "    </tr>\n",
       "    <tr>\n",
       "      <th>Price</th>\n",
       "      <td>407695.00000</td>\n",
       "      <td>3.29419</td>\n",
       "      <td>34.75666</td>\n",
       "      <td>0.00000</td>\n",
       "      <td>0.29000</td>\n",
       "      <td>0.42000</td>\n",
       "      <td>0.65000</td>\n",
       "      <td>1.25000</td>\n",
       "      <td>1.95000</td>\n",
       "      <td>3.75000</td>\n",
       "      <td>6.75000</td>\n",
       "      <td>8.50000</td>\n",
       "      <td>14.95000</td>\n",
       "      <td>10953.50000</td>\n",
       "    </tr>\n",
       "    <tr>\n",
       "      <th>Customer ID</th>\n",
       "      <td>407695.00000</td>\n",
       "      <td>15368.50411</td>\n",
       "      <td>1679.79570</td>\n",
       "      <td>12346.00000</td>\n",
       "      <td>12435.00000</td>\n",
       "      <td>12731.00000</td>\n",
       "      <td>13044.00000</td>\n",
       "      <td>13997.00000</td>\n",
       "      <td>15321.00000</td>\n",
       "      <td>16812.00000</td>\n",
       "      <td>17706.00000</td>\n",
       "      <td>17913.00000</td>\n",
       "      <td>18196.00000</td>\n",
       "      <td>18287.00000</td>\n",
       "    </tr>\n",
       "  </tbody>\n",
       "</table>\n",
       "</div>"
      ],
      "text/plain": [
       "                   count        mean        std         min          1%  \\\n",
       "Quantity    407695.00000    13.58669   96.84223     1.00000     1.00000   \n",
       "Price       407695.00000     3.29419   34.75666     0.00000     0.29000   \n",
       "Customer ID 407695.00000 15368.50411 1679.79570 12346.00000 12435.00000   \n",
       "\n",
       "                     5%         10%         25%         50%         75%  \\\n",
       "Quantity        1.00000     1.00000     2.00000     5.00000    12.00000   \n",
       "Price           0.42000     0.65000     1.25000     1.95000     3.75000   \n",
       "Customer ID 12731.00000 13044.00000 13997.00000 15321.00000 16812.00000   \n",
       "\n",
       "                    90%         95%         99%         max  \n",
       "Quantity       24.00000    36.00000   144.00000 19152.00000  \n",
       "Price           6.75000     8.50000    14.95000 10953.50000  \n",
       "Customer ID 17706.00000 17913.00000 18196.00000 18287.00000  "
      ]
     },
     "execution_count": 17,
     "metadata": {},
     "output_type": "execute_result"
    }
   ],
   "source": [
    "df.describe([0.01, 0.05, 0.10, 0.25, 0.50, 0.75, 0.90, 0.95, 0.99]).T"
   ]
  },
  {
   "cell_type": "markdown",
   "metadata": {
    "papermill": {
     "duration": 0.110103,
     "end_time": "2021-01-26T07:00:13.577703",
     "exception": false,
     "start_time": "2021-01-26T07:00:13.467600",
     "status": "completed"
    },
    "tags": []
   },
   "source": [
    "negative values are excluded. We are not removing outliers (such as the max value on Quantity and Price variables) because we will be scoring the dataset."
   ]
  },
  {
   "cell_type": "code",
   "execution_count": 18,
   "metadata": {
    "execution": {
     "iopub.execute_input": "2021-01-26T07:00:13.805981Z",
     "iopub.status.busy": "2021-01-26T07:00:13.805232Z",
     "iopub.status.idle": "2021-01-26T07:00:13.809312Z",
     "shell.execute_reply": "2021-01-26T07:00:13.808576Z"
    },
    "papermill": {
     "duration": 0.121382,
     "end_time": "2021-01-26T07:00:13.809459",
     "exception": false,
     "start_time": "2021-01-26T07:00:13.688077",
     "status": "completed"
    },
    "tags": []
   },
   "outputs": [],
   "source": [
    "df['TotalPrice'] = df['Quantity'] * df['Price']"
   ]
  },
  {
   "cell_type": "code",
   "execution_count": 19,
   "metadata": {
    "execution": {
     "iopub.execute_input": "2021-01-26T07:00:14.037553Z",
     "iopub.status.busy": "2021-01-26T07:00:14.036842Z",
     "iopub.status.idle": "2021-01-26T07:00:14.051811Z",
     "shell.execute_reply": "2021-01-26T07:00:14.052363Z"
    },
    "papermill": {
     "duration": 0.131195,
     "end_time": "2021-01-26T07:00:14.052506",
     "exception": false,
     "start_time": "2021-01-26T07:00:13.921311",
     "status": "completed"
    },
    "tags": []
   },
   "outputs": [
    {
     "data": {
      "text/html": [
       "<div>\n",
       "<style scoped>\n",
       "    .dataframe tbody tr th:only-of-type {\n",
       "        vertical-align: middle;\n",
       "    }\n",
       "\n",
       "    .dataframe tbody tr th {\n",
       "        vertical-align: top;\n",
       "    }\n",
       "\n",
       "    .dataframe thead th {\n",
       "        text-align: right;\n",
       "    }\n",
       "</style>\n",
       "<table border=\"1\" class=\"dataframe\">\n",
       "  <thead>\n",
       "    <tr style=\"text-align: right;\">\n",
       "      <th></th>\n",
       "      <th>Invoice</th>\n",
       "      <th>StockCode</th>\n",
       "      <th>Description</th>\n",
       "      <th>Quantity</th>\n",
       "      <th>InvoiceDate</th>\n",
       "      <th>Price</th>\n",
       "      <th>Customer ID</th>\n",
       "      <th>Country</th>\n",
       "      <th>TotalPrice</th>\n",
       "    </tr>\n",
       "  </thead>\n",
       "  <tbody>\n",
       "    <tr>\n",
       "      <th>0</th>\n",
       "      <td>489434</td>\n",
       "      <td>85048</td>\n",
       "      <td>15CM CHRISTMAS GLASS BALL 20 LIGHTS</td>\n",
       "      <td>12</td>\n",
       "      <td>2009-12-01 07:45:00</td>\n",
       "      <td>6.95000</td>\n",
       "      <td>13085.00000</td>\n",
       "      <td>United Kingdom</td>\n",
       "      <td>83.40000</td>\n",
       "    </tr>\n",
       "    <tr>\n",
       "      <th>1</th>\n",
       "      <td>489434</td>\n",
       "      <td>79323P</td>\n",
       "      <td>PINK CHERRY LIGHTS</td>\n",
       "      <td>12</td>\n",
       "      <td>2009-12-01 07:45:00</td>\n",
       "      <td>6.75000</td>\n",
       "      <td>13085.00000</td>\n",
       "      <td>United Kingdom</td>\n",
       "      <td>81.00000</td>\n",
       "    </tr>\n",
       "    <tr>\n",
       "      <th>2</th>\n",
       "      <td>489434</td>\n",
       "      <td>79323W</td>\n",
       "      <td>WHITE CHERRY LIGHTS</td>\n",
       "      <td>12</td>\n",
       "      <td>2009-12-01 07:45:00</td>\n",
       "      <td>6.75000</td>\n",
       "      <td>13085.00000</td>\n",
       "      <td>United Kingdom</td>\n",
       "      <td>81.00000</td>\n",
       "    </tr>\n",
       "    <tr>\n",
       "      <th>3</th>\n",
       "      <td>489434</td>\n",
       "      <td>22041</td>\n",
       "      <td>RECORD FRAME 7\" SINGLE SIZE</td>\n",
       "      <td>48</td>\n",
       "      <td>2009-12-01 07:45:00</td>\n",
       "      <td>2.10000</td>\n",
       "      <td>13085.00000</td>\n",
       "      <td>United Kingdom</td>\n",
       "      <td>100.80000</td>\n",
       "    </tr>\n",
       "    <tr>\n",
       "      <th>4</th>\n",
       "      <td>489434</td>\n",
       "      <td>21232</td>\n",
       "      <td>STRAWBERRY CERAMIC TRINKET BOX</td>\n",
       "      <td>24</td>\n",
       "      <td>2009-12-01 07:45:00</td>\n",
       "      <td>1.25000</td>\n",
       "      <td>13085.00000</td>\n",
       "      <td>United Kingdom</td>\n",
       "      <td>30.00000</td>\n",
       "    </tr>\n",
       "  </tbody>\n",
       "</table>\n",
       "</div>"
      ],
      "text/plain": [
       "  Invoice StockCode                          Description  Quantity  \\\n",
       "0  489434     85048  15CM CHRISTMAS GLASS BALL 20 LIGHTS        12   \n",
       "1  489434    79323P                   PINK CHERRY LIGHTS        12   \n",
       "2  489434    79323W                  WHITE CHERRY LIGHTS        12   \n",
       "3  489434     22041         RECORD FRAME 7\" SINGLE SIZE         48   \n",
       "4  489434     21232       STRAWBERRY CERAMIC TRINKET BOX        24   \n",
       "\n",
       "          InvoiceDate   Price  Customer ID         Country  TotalPrice  \n",
       "0 2009-12-01 07:45:00 6.95000  13085.00000  United Kingdom    83.40000  \n",
       "1 2009-12-01 07:45:00 6.75000  13085.00000  United Kingdom    81.00000  \n",
       "2 2009-12-01 07:45:00 6.75000  13085.00000  United Kingdom    81.00000  \n",
       "3 2009-12-01 07:45:00 2.10000  13085.00000  United Kingdom   100.80000  \n",
       "4 2009-12-01 07:45:00 1.25000  13085.00000  United Kingdom    30.00000  "
      ]
     },
     "execution_count": 19,
     "metadata": {},
     "output_type": "execute_result"
    }
   ],
   "source": [
    "df.head()"
   ]
  },
  {
   "cell_type": "markdown",
   "metadata": {
    "papermill": {
     "duration": 0.110352,
     "end_time": "2021-01-26T07:00:14.273804",
     "exception": false,
     "start_time": "2021-01-26T07:00:14.163452",
     "status": "completed"
    },
    "tags": []
   },
   "source": [
    "## RFM Metrics"
   ]
  },
  {
   "cell_type": "markdown",
   "metadata": {
    "papermill": {
     "duration": 0.111059,
     "end_time": "2021-01-26T07:00:14.496985",
     "exception": false,
     "start_time": "2021-01-26T07:00:14.385926",
     "status": "completed"
    },
    "tags": []
   },
   "source": [
    "the last date of purchase:"
   ]
  },
  {
   "cell_type": "code",
   "execution_count": 20,
   "metadata": {
    "execution": {
     "iopub.execute_input": "2021-01-26T07:00:14.721996Z",
     "iopub.status.busy": "2021-01-26T07:00:14.721305Z",
     "iopub.status.idle": "2021-01-26T07:00:14.729438Z",
     "shell.execute_reply": "2021-01-26T07:00:14.728725Z"
    },
    "papermill": {
     "duration": 0.122043,
     "end_time": "2021-01-26T07:00:14.729554",
     "exception": false,
     "start_time": "2021-01-26T07:00:14.607511",
     "status": "completed"
    },
    "tags": []
   },
   "outputs": [
    {
     "data": {
      "text/plain": [
       "Timestamp('2010-12-09 20:01:00')"
      ]
     },
     "execution_count": 20,
     "metadata": {},
     "output_type": "execute_result"
    }
   ],
   "source": [
    "df['InvoiceDate'].max()"
   ]
  },
  {
   "cell_type": "markdown",
   "metadata": {
    "papermill": {
     "duration": 0.116557,
     "end_time": "2021-01-26T07:00:14.975641",
     "exception": false,
     "start_time": "2021-01-26T07:00:14.859084",
     "status": "completed"
    },
    "tags": []
   },
   "source": [
    "assign \"today's date\" as 2 days after the last date of purchase to make sure that none of the Recency values become zero"
   ]
  },
  {
   "cell_type": "code",
   "execution_count": 21,
   "metadata": {
    "execution": {
     "iopub.execute_input": "2021-01-26T07:00:15.219304Z",
     "iopub.status.busy": "2021-01-26T07:00:15.218258Z",
     "iopub.status.idle": "2021-01-26T07:00:15.226954Z",
     "shell.execute_reply": "2021-01-26T07:00:15.227565Z"
    },
    "papermill": {
     "duration": 0.123686,
     "end_time": "2021-01-26T07:00:15.227713",
     "exception": false,
     "start_time": "2021-01-26T07:00:15.104027",
     "status": "completed"
    },
    "tags": []
   },
   "outputs": [
    {
     "data": {
      "text/plain": [
       "Timestamp('2010-12-11 20:01:00')"
      ]
     },
     "execution_count": 21,
     "metadata": {},
     "output_type": "execute_result"
    }
   ],
   "source": [
    "today_date = df['InvoiceDate'].max() + dt.timedelta(days=2)\n",
    "today_date"
   ]
  },
  {
   "cell_type": "markdown",
   "metadata": {
    "papermill": {
     "duration": 0.109135,
     "end_time": "2021-01-26T07:00:15.446964",
     "exception": false,
     "start_time": "2021-01-26T07:00:15.337829",
     "status": "completed"
    },
    "tags": []
   },
   "source": [
    "create a new df called rfm in order to calculate Recency, Frequency and Monetary values.  \n",
    "df is grouped by customers and:   \n",
    "\n",
    "* the number of days between today_date and the last purchase date of this customer is **Recency**  \n",
    "* the number of unique invoices of this customer is **Frequency**  \n",
    "* the sum of TotalPrice is this customer's **Monetary**  \n"
   ]
  },
  {
   "cell_type": "code",
   "execution_count": 22,
   "metadata": {
    "execution": {
     "iopub.execute_input": "2021-01-26T07:00:15.672307Z",
     "iopub.status.busy": "2021-01-26T07:00:15.671290Z",
     "iopub.status.idle": "2021-01-26T07:00:17.000376Z",
     "shell.execute_reply": "2021-01-26T07:00:16.999788Z"
    },
    "papermill": {
     "duration": 1.441773,
     "end_time": "2021-01-26T07:00:17.000517",
     "exception": false,
     "start_time": "2021-01-26T07:00:15.558744",
     "status": "completed"
    },
    "tags": []
   },
   "outputs": [],
   "source": [
    "rfm = df.groupby('Customer ID').agg({'InvoiceDate': lambda date: (today_date - date.max()).days,\n",
    "                                    'Invoice': lambda inv: inv.nunique(),\n",
    "                                    'TotalPrice': lambda price: price.sum()})"
   ]
  },
  {
   "cell_type": "code",
   "execution_count": 23,
   "metadata": {
    "execution": {
     "iopub.execute_input": "2021-01-26T07:00:17.234300Z",
     "iopub.status.busy": "2021-01-26T07:00:17.233204Z",
     "iopub.status.idle": "2021-01-26T07:00:17.237893Z",
     "shell.execute_reply": "2021-01-26T07:00:17.237243Z"
    },
    "papermill": {
     "duration": 0.124105,
     "end_time": "2021-01-26T07:00:17.238009",
     "exception": false,
     "start_time": "2021-01-26T07:00:17.113904",
     "status": "completed"
    },
    "tags": []
   },
   "outputs": [
    {
     "data": {
      "text/html": [
       "<div>\n",
       "<style scoped>\n",
       "    .dataframe tbody tr th:only-of-type {\n",
       "        vertical-align: middle;\n",
       "    }\n",
       "\n",
       "    .dataframe tbody tr th {\n",
       "        vertical-align: top;\n",
       "    }\n",
       "\n",
       "    .dataframe thead th {\n",
       "        text-align: right;\n",
       "    }\n",
       "</style>\n",
       "<table border=\"1\" class=\"dataframe\">\n",
       "  <thead>\n",
       "    <tr style=\"text-align: right;\">\n",
       "      <th></th>\n",
       "      <th>InvoiceDate</th>\n",
       "      <th>Invoice</th>\n",
       "      <th>TotalPrice</th>\n",
       "    </tr>\n",
       "    <tr>\n",
       "      <th>Customer ID</th>\n",
       "      <th></th>\n",
       "      <th></th>\n",
       "      <th></th>\n",
       "    </tr>\n",
       "  </thead>\n",
       "  <tbody>\n",
       "    <tr>\n",
       "      <th>12346.00000</th>\n",
       "      <td>166</td>\n",
       "      <td>11</td>\n",
       "      <td>372.86000</td>\n",
       "    </tr>\n",
       "    <tr>\n",
       "      <th>12347.00000</th>\n",
       "      <td>4</td>\n",
       "      <td>2</td>\n",
       "      <td>1323.32000</td>\n",
       "    </tr>\n",
       "    <tr>\n",
       "      <th>12348.00000</th>\n",
       "      <td>75</td>\n",
       "      <td>1</td>\n",
       "      <td>222.16000</td>\n",
       "    </tr>\n",
       "    <tr>\n",
       "      <th>12349.00000</th>\n",
       "      <td>44</td>\n",
       "      <td>3</td>\n",
       "      <td>2671.14000</td>\n",
       "    </tr>\n",
       "    <tr>\n",
       "      <th>12351.00000</th>\n",
       "      <td>12</td>\n",
       "      <td>1</td>\n",
       "      <td>300.93000</td>\n",
       "    </tr>\n",
       "  </tbody>\n",
       "</table>\n",
       "</div>"
      ],
      "text/plain": [
       "             InvoiceDate  Invoice  TotalPrice\n",
       "Customer ID                                  \n",
       "12346.00000          166       11   372.86000\n",
       "12347.00000            4        2  1323.32000\n",
       "12348.00000           75        1   222.16000\n",
       "12349.00000           44        3  2671.14000\n",
       "12351.00000           12        1   300.93000"
      ]
     },
     "execution_count": 23,
     "metadata": {},
     "output_type": "execute_result"
    }
   ],
   "source": [
    "rfm.head()"
   ]
  },
  {
   "cell_type": "markdown",
   "metadata": {
    "papermill": {
     "duration": 0.110932,
     "end_time": "2021-01-26T07:00:17.460649",
     "exception": false,
     "start_time": "2021-01-26T07:00:17.349717",
     "status": "completed"
    },
    "tags": []
   },
   "source": [
    "renaming rfm columns:"
   ]
  },
  {
   "cell_type": "code",
   "execution_count": 24,
   "metadata": {
    "execution": {
     "iopub.execute_input": "2021-01-26T07:00:17.693808Z",
     "iopub.status.busy": "2021-01-26T07:00:17.692716Z",
     "iopub.status.idle": "2021-01-26T07:00:17.697363Z",
     "shell.execute_reply": "2021-01-26T07:00:17.696740Z"
    },
    "papermill": {
     "duration": 0.126376,
     "end_time": "2021-01-26T07:00:17.697477",
     "exception": false,
     "start_time": "2021-01-26T07:00:17.571101",
     "status": "completed"
    },
    "tags": []
   },
   "outputs": [
    {
     "data": {
      "text/html": [
       "<div>\n",
       "<style scoped>\n",
       "    .dataframe tbody tr th:only-of-type {\n",
       "        vertical-align: middle;\n",
       "    }\n",
       "\n",
       "    .dataframe tbody tr th {\n",
       "        vertical-align: top;\n",
       "    }\n",
       "\n",
       "    .dataframe thead th {\n",
       "        text-align: right;\n",
       "    }\n",
       "</style>\n",
       "<table border=\"1\" class=\"dataframe\">\n",
       "  <thead>\n",
       "    <tr style=\"text-align: right;\">\n",
       "      <th></th>\n",
       "      <th>Recency</th>\n",
       "      <th>Frequency</th>\n",
       "      <th>Monetary</th>\n",
       "    </tr>\n",
       "    <tr>\n",
       "      <th>Customer ID</th>\n",
       "      <th></th>\n",
       "      <th></th>\n",
       "      <th></th>\n",
       "    </tr>\n",
       "  </thead>\n",
       "  <tbody>\n",
       "    <tr>\n",
       "      <th>12346.00000</th>\n",
       "      <td>166</td>\n",
       "      <td>11</td>\n",
       "      <td>372.86000</td>\n",
       "    </tr>\n",
       "    <tr>\n",
       "      <th>12347.00000</th>\n",
       "      <td>4</td>\n",
       "      <td>2</td>\n",
       "      <td>1323.32000</td>\n",
       "    </tr>\n",
       "    <tr>\n",
       "      <th>12348.00000</th>\n",
       "      <td>75</td>\n",
       "      <td>1</td>\n",
       "      <td>222.16000</td>\n",
       "    </tr>\n",
       "    <tr>\n",
       "      <th>12349.00000</th>\n",
       "      <td>44</td>\n",
       "      <td>3</td>\n",
       "      <td>2671.14000</td>\n",
       "    </tr>\n",
       "    <tr>\n",
       "      <th>12351.00000</th>\n",
       "      <td>12</td>\n",
       "      <td>1</td>\n",
       "      <td>300.93000</td>\n",
       "    </tr>\n",
       "  </tbody>\n",
       "</table>\n",
       "</div>"
      ],
      "text/plain": [
       "             Recency  Frequency   Monetary\n",
       "Customer ID                               \n",
       "12346.00000      166         11  372.86000\n",
       "12347.00000        4          2 1323.32000\n",
       "12348.00000       75          1  222.16000\n",
       "12349.00000       44          3 2671.14000\n",
       "12351.00000       12          1  300.93000"
      ]
     },
     "execution_count": 24,
     "metadata": {},
     "output_type": "execute_result"
    }
   ],
   "source": [
    "rfm.columns = ['Recency', 'Frequency', 'Monetary']\n",
    "rfm.head()"
   ]
  },
  {
   "cell_type": "markdown",
   "metadata": {
    "papermill": {
     "duration": 0.115439,
     "end_time": "2021-01-26T07:00:17.924732",
     "exception": false,
     "start_time": "2021-01-26T07:00:17.809293",
     "status": "completed"
    },
    "tags": []
   },
   "source": [
    "check if there are any zeros in rfm:"
   ]
  },
  {
   "cell_type": "code",
   "execution_count": 25,
   "metadata": {
    "execution": {
     "iopub.execute_input": "2021-01-26T07:00:18.162858Z",
     "iopub.status.busy": "2021-01-26T07:00:18.159816Z",
     "iopub.status.idle": "2021-01-26T07:00:18.184530Z",
     "shell.execute_reply": "2021-01-26T07:00:18.183836Z"
    },
    "papermill": {
     "duration": 0.145916,
     "end_time": "2021-01-26T07:00:18.184659",
     "exception": false,
     "start_time": "2021-01-26T07:00:18.038743",
     "status": "completed"
    },
    "tags": []
   },
   "outputs": [
    {
     "data": {
      "text/html": [
       "<div>\n",
       "<style scoped>\n",
       "    .dataframe tbody tr th:only-of-type {\n",
       "        vertical-align: middle;\n",
       "    }\n",
       "\n",
       "    .dataframe tbody tr th {\n",
       "        vertical-align: top;\n",
       "    }\n",
       "\n",
       "    .dataframe thead th {\n",
       "        text-align: right;\n",
       "    }\n",
       "</style>\n",
       "<table border=\"1\" class=\"dataframe\">\n",
       "  <thead>\n",
       "    <tr style=\"text-align: right;\">\n",
       "      <th></th>\n",
       "      <th>count</th>\n",
       "      <th>mean</th>\n",
       "      <th>std</th>\n",
       "      <th>min</th>\n",
       "      <th>1%</th>\n",
       "      <th>5%</th>\n",
       "      <th>10%</th>\n",
       "      <th>25%</th>\n",
       "      <th>50%</th>\n",
       "      <th>75%</th>\n",
       "      <th>90%</th>\n",
       "      <th>95%</th>\n",
       "      <th>99%</th>\n",
       "      <th>max</th>\n",
       "    </tr>\n",
       "  </thead>\n",
       "  <tbody>\n",
       "    <tr>\n",
       "      <th>Recency</th>\n",
       "      <td>4314.00000</td>\n",
       "      <td>92.26912</td>\n",
       "      <td>96.94348</td>\n",
       "      <td>2.00000</td>\n",
       "      <td>2.00000</td>\n",
       "      <td>4.00000</td>\n",
       "      <td>9.00000</td>\n",
       "      <td>19.00000</td>\n",
       "      <td>54.00000</td>\n",
       "      <td>137.00000</td>\n",
       "      <td>256.00000</td>\n",
       "      <td>305.00000</td>\n",
       "      <td>369.00000</td>\n",
       "      <td>375.00000</td>\n",
       "    </tr>\n",
       "    <tr>\n",
       "      <th>Frequency</th>\n",
       "      <td>4314.00000</td>\n",
       "      <td>4.45410</td>\n",
       "      <td>8.16866</td>\n",
       "      <td>1.00000</td>\n",
       "      <td>1.00000</td>\n",
       "      <td>1.00000</td>\n",
       "      <td>1.00000</td>\n",
       "      <td>1.00000</td>\n",
       "      <td>2.00000</td>\n",
       "      <td>5.00000</td>\n",
       "      <td>9.00000</td>\n",
       "      <td>13.00000</td>\n",
       "      <td>31.00000</td>\n",
       "      <td>205.00000</td>\n",
       "    </tr>\n",
       "    <tr>\n",
       "      <th>Monetary</th>\n",
       "      <td>4314.00000</td>\n",
       "      <td>2047.28866</td>\n",
       "      <td>8912.52324</td>\n",
       "      <td>0.00000</td>\n",
       "      <td>39.95650</td>\n",
       "      <td>110.43650</td>\n",
       "      <td>155.48500</td>\n",
       "      <td>307.95000</td>\n",
       "      <td>705.55000</td>\n",
       "      <td>1722.80250</td>\n",
       "      <td>3796.59500</td>\n",
       "      <td>6235.12050</td>\n",
       "      <td>20136.78250</td>\n",
       "      <td>349164.35000</td>\n",
       "    </tr>\n",
       "  </tbody>\n",
       "</table>\n",
       "</div>"
      ],
      "text/plain": [
       "               count       mean        std     min       1%        5%  \\\n",
       "Recency   4314.00000   92.26912   96.94348 2.00000  2.00000   4.00000   \n",
       "Frequency 4314.00000    4.45410    8.16866 1.00000  1.00000   1.00000   \n",
       "Monetary  4314.00000 2047.28866 8912.52324 0.00000 39.95650 110.43650   \n",
       "\n",
       "                10%       25%       50%        75%        90%        95%  \\\n",
       "Recency     9.00000  19.00000  54.00000  137.00000  256.00000  305.00000   \n",
       "Frequency   1.00000   1.00000   2.00000    5.00000    9.00000   13.00000   \n",
       "Monetary  155.48500 307.95000 705.55000 1722.80250 3796.59500 6235.12050   \n",
       "\n",
       "                  99%          max  \n",
       "Recency     369.00000    375.00000  \n",
       "Frequency    31.00000    205.00000  \n",
       "Monetary  20136.78250 349164.35000  "
      ]
     },
     "execution_count": 25,
     "metadata": {},
     "output_type": "execute_result"
    }
   ],
   "source": [
    "rfm.describe([0.01, 0.05, 0.10, 0.25, 0.50, 0.75, 0.90, 0.95, 0.99]).T"
   ]
  },
  {
   "cell_type": "markdown",
   "metadata": {
    "papermill": {
     "duration": 0.112187,
     "end_time": "2021-01-26T07:00:18.409803",
     "exception": false,
     "start_time": "2021-01-26T07:00:18.297616",
     "status": "completed"
    },
    "tags": []
   },
   "source": [
    "## RFM Scores"
   ]
  },
  {
   "cell_type": "markdown",
   "metadata": {
    "papermill": {
     "duration": 0.113109,
     "end_time": "2021-01-26T07:00:18.637021",
     "exception": false,
     "start_time": "2021-01-26T07:00:18.523912",
     "status": "completed"
    },
    "tags": []
   },
   "source": [
    "* the min number of Recency metric means that this customer has just purchased, so the highest score (5) should be given to the lower number of Recency.  \n",
    "* the max number of Frequency and Monetary metrics mean that the customer is purchasing frequently and spending more money, so the highest score (5) should be given to the highest Frequency and Monetary values."
   ]
  },
  {
   "cell_type": "code",
   "execution_count": 26,
   "metadata": {
    "execution": {
     "iopub.execute_input": "2021-01-26T07:00:18.874952Z",
     "iopub.status.busy": "2021-01-26T07:00:18.874223Z",
     "iopub.status.idle": "2021-01-26T07:00:18.893049Z",
     "shell.execute_reply": "2021-01-26T07:00:18.892386Z"
    },
    "papermill": {
     "duration": 0.14182,
     "end_time": "2021-01-26T07:00:18.893195",
     "exception": false,
     "start_time": "2021-01-26T07:00:18.751375",
     "status": "completed"
    },
    "tags": []
   },
   "outputs": [],
   "source": [
    "rfm[\"RecencyScore\"] = pd.qcut(rfm['Recency'], 5, labels=[5, 4, 3, 2, 1])\n",
    "\n",
    "rfm[\"FrequencyScore\"] = pd.qcut(rfm['Frequency'].rank(method=\"first\"), 5, labels=[1, 2, 3, 4, 5])\n",
    "\n",
    "rfm[\"MonetaryScore\"] = pd.qcut(rfm['Monetary'], 5, labels=[1, 2, 3, 4, 5])"
   ]
  },
  {
   "cell_type": "code",
   "execution_count": 27,
   "metadata": {
    "execution": {
     "iopub.execute_input": "2021-01-26T07:00:19.148728Z",
     "iopub.status.busy": "2021-01-26T07:00:19.142179Z",
     "iopub.status.idle": "2021-01-26T07:00:19.170922Z",
     "shell.execute_reply": "2021-01-26T07:00:19.170218Z"
    },
    "papermill": {
     "duration": 0.160012,
     "end_time": "2021-01-26T07:00:19.171042",
     "exception": false,
     "start_time": "2021-01-26T07:00:19.011030",
     "status": "completed"
    },
    "tags": []
   },
   "outputs": [
    {
     "data": {
      "text/html": [
       "<div>\n",
       "<style scoped>\n",
       "    .dataframe tbody tr th:only-of-type {\n",
       "        vertical-align: middle;\n",
       "    }\n",
       "\n",
       "    .dataframe tbody tr th {\n",
       "        vertical-align: top;\n",
       "    }\n",
       "\n",
       "    .dataframe thead th {\n",
       "        text-align: right;\n",
       "    }\n",
       "</style>\n",
       "<table border=\"1\" class=\"dataframe\">\n",
       "  <thead>\n",
       "    <tr style=\"text-align: right;\">\n",
       "      <th></th>\n",
       "      <th>Recency</th>\n",
       "      <th>Frequency</th>\n",
       "      <th>Monetary</th>\n",
       "      <th>RecencyScore</th>\n",
       "      <th>FrequencyScore</th>\n",
       "      <th>MonetaryScore</th>\n",
       "      <th>RFM_SCORE</th>\n",
       "    </tr>\n",
       "    <tr>\n",
       "      <th>Customer ID</th>\n",
       "      <th></th>\n",
       "      <th></th>\n",
       "      <th></th>\n",
       "      <th></th>\n",
       "      <th></th>\n",
       "      <th></th>\n",
       "      <th></th>\n",
       "    </tr>\n",
       "  </thead>\n",
       "  <tbody>\n",
       "    <tr>\n",
       "      <th>12346.00000</th>\n",
       "      <td>166</td>\n",
       "      <td>11</td>\n",
       "      <td>372.86000</td>\n",
       "      <td>2</td>\n",
       "      <td>5</td>\n",
       "      <td>2</td>\n",
       "      <td>252</td>\n",
       "    </tr>\n",
       "    <tr>\n",
       "      <th>12347.00000</th>\n",
       "      <td>4</td>\n",
       "      <td>2</td>\n",
       "      <td>1323.32000</td>\n",
       "      <td>5</td>\n",
       "      <td>2</td>\n",
       "      <td>4</td>\n",
       "      <td>524</td>\n",
       "    </tr>\n",
       "    <tr>\n",
       "      <th>12348.00000</th>\n",
       "      <td>75</td>\n",
       "      <td>1</td>\n",
       "      <td>222.16000</td>\n",
       "      <td>2</td>\n",
       "      <td>1</td>\n",
       "      <td>1</td>\n",
       "      <td>211</td>\n",
       "    </tr>\n",
       "    <tr>\n",
       "      <th>12349.00000</th>\n",
       "      <td>44</td>\n",
       "      <td>3</td>\n",
       "      <td>2671.14000</td>\n",
       "      <td>3</td>\n",
       "      <td>3</td>\n",
       "      <td>5</td>\n",
       "      <td>335</td>\n",
       "    </tr>\n",
       "    <tr>\n",
       "      <th>12351.00000</th>\n",
       "      <td>12</td>\n",
       "      <td>1</td>\n",
       "      <td>300.93000</td>\n",
       "      <td>5</td>\n",
       "      <td>1</td>\n",
       "      <td>2</td>\n",
       "      <td>512</td>\n",
       "    </tr>\n",
       "  </tbody>\n",
       "</table>\n",
       "</div>"
      ],
      "text/plain": [
       "             Recency  Frequency   Monetary RecencyScore FrequencyScore  \\\n",
       "Customer ID                                                              \n",
       "12346.00000      166         11  372.86000            2              5   \n",
       "12347.00000        4          2 1323.32000            5              2   \n",
       "12348.00000       75          1  222.16000            2              1   \n",
       "12349.00000       44          3 2671.14000            3              3   \n",
       "12351.00000       12          1  300.93000            5              1   \n",
       "\n",
       "            MonetaryScore RFM_SCORE  \n",
       "Customer ID                          \n",
       "12346.00000             2       252  \n",
       "12347.00000             4       524  \n",
       "12348.00000             1       211  \n",
       "12349.00000             5       335  \n",
       "12351.00000             2       512  "
      ]
     },
     "execution_count": 27,
     "metadata": {},
     "output_type": "execute_result"
    }
   ],
   "source": [
    "rfm[\"RFM_SCORE\"] = (rfm['RecencyScore'].astype(str) +\n",
    "                    rfm['FrequencyScore'].astype(str) +\n",
    "                    rfm['MonetaryScore'].astype(str))\n",
    "\n",
    "rfm.head()"
   ]
  },
  {
   "cell_type": "markdown",
   "metadata": {
    "papermill": {
     "duration": 0.114412,
     "end_time": "2021-01-26T07:00:19.397666",
     "exception": false,
     "start_time": "2021-01-26T07:00:19.283254",
     "status": "completed"
    },
    "tags": []
   },
   "source": [
    "display some of the customers with the highest scores:"
   ]
  },
  {
   "cell_type": "code",
   "execution_count": 28,
   "metadata": {
    "execution": {
     "iopub.execute_input": "2021-01-26T07:00:19.639355Z",
     "iopub.status.busy": "2021-01-26T07:00:19.636650Z",
     "iopub.status.idle": "2021-01-26T07:00:19.644251Z",
     "shell.execute_reply": "2021-01-26T07:00:19.643636Z"
    },
    "papermill": {
     "duration": 0.132847,
     "end_time": "2021-01-26T07:00:19.644373",
     "exception": false,
     "start_time": "2021-01-26T07:00:19.511526",
     "status": "completed"
    },
    "tags": []
   },
   "outputs": [
    {
     "data": {
      "text/html": [
       "<div>\n",
       "<style scoped>\n",
       "    .dataframe tbody tr th:only-of-type {\n",
       "        vertical-align: middle;\n",
       "    }\n",
       "\n",
       "    .dataframe tbody tr th {\n",
       "        vertical-align: top;\n",
       "    }\n",
       "\n",
       "    .dataframe thead th {\n",
       "        text-align: right;\n",
       "    }\n",
       "</style>\n",
       "<table border=\"1\" class=\"dataframe\">\n",
       "  <thead>\n",
       "    <tr style=\"text-align: right;\">\n",
       "      <th></th>\n",
       "      <th>Recency</th>\n",
       "      <th>Frequency</th>\n",
       "      <th>Monetary</th>\n",
       "      <th>RecencyScore</th>\n",
       "      <th>FrequencyScore</th>\n",
       "      <th>MonetaryScore</th>\n",
       "      <th>RFM_SCORE</th>\n",
       "    </tr>\n",
       "    <tr>\n",
       "      <th>Customer ID</th>\n",
       "      <th></th>\n",
       "      <th></th>\n",
       "      <th></th>\n",
       "      <th></th>\n",
       "      <th></th>\n",
       "      <th></th>\n",
       "      <th></th>\n",
       "    </tr>\n",
       "  </thead>\n",
       "  <tbody>\n",
       "    <tr>\n",
       "      <th>12415.00000</th>\n",
       "      <td>12</td>\n",
       "      <td>7</td>\n",
       "      <td>19543.84000</td>\n",
       "      <td>5</td>\n",
       "      <td>5</td>\n",
       "      <td>5</td>\n",
       "      <td>555</td>\n",
       "    </tr>\n",
       "    <tr>\n",
       "      <th>12431.00000</th>\n",
       "      <td>10</td>\n",
       "      <td>13</td>\n",
       "      <td>4370.52000</td>\n",
       "      <td>5</td>\n",
       "      <td>5</td>\n",
       "      <td>5</td>\n",
       "      <td>555</td>\n",
       "    </tr>\n",
       "    <tr>\n",
       "      <th>12471.00000</th>\n",
       "      <td>11</td>\n",
       "      <td>49</td>\n",
       "      <td>20139.74000</td>\n",
       "      <td>5</td>\n",
       "      <td>5</td>\n",
       "      <td>5</td>\n",
       "      <td>555</td>\n",
       "    </tr>\n",
       "    <tr>\n",
       "      <th>12472.00000</th>\n",
       "      <td>6</td>\n",
       "      <td>13</td>\n",
       "      <td>11308.48000</td>\n",
       "      <td>5</td>\n",
       "      <td>5</td>\n",
       "      <td>5</td>\n",
       "      <td>555</td>\n",
       "    </tr>\n",
       "    <tr>\n",
       "      <th>12474.00000</th>\n",
       "      <td>15</td>\n",
       "      <td>13</td>\n",
       "      <td>5048.66000</td>\n",
       "      <td>5</td>\n",
       "      <td>5</td>\n",
       "      <td>5</td>\n",
       "      <td>555</td>\n",
       "    </tr>\n",
       "  </tbody>\n",
       "</table>\n",
       "</div>"
      ],
      "text/plain": [
       "             Recency  Frequency    Monetary RecencyScore FrequencyScore  \\\n",
       "Customer ID                                                               \n",
       "12415.00000       12          7 19543.84000            5              5   \n",
       "12431.00000       10         13  4370.52000            5              5   \n",
       "12471.00000       11         49 20139.74000            5              5   \n",
       "12472.00000        6         13 11308.48000            5              5   \n",
       "12474.00000       15         13  5048.66000            5              5   \n",
       "\n",
       "            MonetaryScore RFM_SCORE  \n",
       "Customer ID                          \n",
       "12415.00000             5       555  \n",
       "12431.00000             5       555  \n",
       "12471.00000             5       555  \n",
       "12472.00000             5       555  \n",
       "12474.00000             5       555  "
      ]
     },
     "execution_count": 28,
     "metadata": {},
     "output_type": "execute_result"
    }
   ],
   "source": [
    "rfm[rfm['RFM_SCORE'] == \"555\"].head()"
   ]
  },
  {
   "cell_type": "markdown",
   "metadata": {
    "papermill": {
     "duration": 0.115659,
     "end_time": "2021-01-26T07:00:19.873371",
     "exception": false,
     "start_time": "2021-01-26T07:00:19.757712",
     "status": "completed"
    },
    "tags": []
   },
   "source": [
    "## Naming the RFM Scores"
   ]
  },
  {
   "cell_type": "markdown",
   "metadata": {
    "papermill": {
     "duration": 0.12026,
     "end_time": "2021-01-26T07:00:20.109937",
     "exception": false,
     "start_time": "2021-01-26T07:00:19.989677",
     "status": "completed"
    },
    "tags": []
   },
   "source": [
    "the following dict has been made according to the famous RFM graphic"
   ]
  },
  {
   "cell_type": "code",
   "execution_count": 29,
   "metadata": {
    "execution": {
     "iopub.execute_input": "2021-01-26T07:00:20.348299Z",
     "iopub.status.busy": "2021-01-26T07:00:20.347538Z",
     "iopub.status.idle": "2021-01-26T07:00:20.350926Z",
     "shell.execute_reply": "2021-01-26T07:00:20.350252Z"
    },
    "papermill": {
     "duration": 0.125491,
     "end_time": "2021-01-26T07:00:20.351059",
     "exception": false,
     "start_time": "2021-01-26T07:00:20.225568",
     "status": "completed"
    },
    "tags": []
   },
   "outputs": [],
   "source": [
    "seg_map = {\n",
    "    r'[1-2][1-2]': 'Hibernating',\n",
    "    r'[1-2][3-4]': 'At_Risk',\n",
    "    r'[1-2]5': 'Cant_Loose',\n",
    "    r'3[1-2]': 'About_to_Sleep',\n",
    "    r'33': 'Need_Attention',\n",
    "    r'[3-4][4-5]': 'Loyal_Customers',\n",
    "    r'41': 'Promising',\n",
    "    r'51': 'New_Customers',\n",
    "    r'[4-5][2-3]': 'Potential_Loyalists',\n",
    "    r'5[4-5]': 'Champions'\n",
    "}"
   ]
  },
  {
   "cell_type": "markdown",
   "metadata": {
    "papermill": {
     "duration": 0.113505,
     "end_time": "2021-01-26T07:00:20.579421",
     "exception": false,
     "start_time": "2021-01-26T07:00:20.465916",
     "status": "completed"
    },
    "tags": []
   },
   "source": [
    "we will be using Recency and Frequency scores for customer segmentation. We are assuming that a customer who has recently purchased and who is often purchasing should have high RFM scores."
   ]
  },
  {
   "cell_type": "code",
   "execution_count": 30,
   "metadata": {
    "execution": {
     "iopub.execute_input": "2021-01-26T07:00:20.819049Z",
     "iopub.status.busy": "2021-01-26T07:00:20.814431Z",
     "iopub.status.idle": "2021-01-26T07:00:20.843485Z",
     "shell.execute_reply": "2021-01-26T07:00:20.842830Z"
    },
    "papermill": {
     "duration": 0.148714,
     "end_time": "2021-01-26T07:00:20.843618",
     "exception": false,
     "start_time": "2021-01-26T07:00:20.694904",
     "status": "completed"
    },
    "tags": []
   },
   "outputs": [
    {
     "data": {
      "text/html": [
       "<div>\n",
       "<style scoped>\n",
       "    .dataframe tbody tr th:only-of-type {\n",
       "        vertical-align: middle;\n",
       "    }\n",
       "\n",
       "    .dataframe tbody tr th {\n",
       "        vertical-align: top;\n",
       "    }\n",
       "\n",
       "    .dataframe thead th {\n",
       "        text-align: right;\n",
       "    }\n",
       "</style>\n",
       "<table border=\"1\" class=\"dataframe\">\n",
       "  <thead>\n",
       "    <tr style=\"text-align: right;\">\n",
       "      <th></th>\n",
       "      <th>Recency</th>\n",
       "      <th>Frequency</th>\n",
       "      <th>Monetary</th>\n",
       "      <th>RecencyScore</th>\n",
       "      <th>FrequencyScore</th>\n",
       "      <th>MonetaryScore</th>\n",
       "      <th>RFM_SCORE</th>\n",
       "      <th>Segment</th>\n",
       "    </tr>\n",
       "    <tr>\n",
       "      <th>Customer ID</th>\n",
       "      <th></th>\n",
       "      <th></th>\n",
       "      <th></th>\n",
       "      <th></th>\n",
       "      <th></th>\n",
       "      <th></th>\n",
       "      <th></th>\n",
       "      <th></th>\n",
       "    </tr>\n",
       "  </thead>\n",
       "  <tbody>\n",
       "    <tr>\n",
       "      <th>12346.00000</th>\n",
       "      <td>166</td>\n",
       "      <td>11</td>\n",
       "      <td>372.86000</td>\n",
       "      <td>2</td>\n",
       "      <td>5</td>\n",
       "      <td>2</td>\n",
       "      <td>252</td>\n",
       "      <td>25</td>\n",
       "    </tr>\n",
       "    <tr>\n",
       "      <th>12347.00000</th>\n",
       "      <td>4</td>\n",
       "      <td>2</td>\n",
       "      <td>1323.32000</td>\n",
       "      <td>5</td>\n",
       "      <td>2</td>\n",
       "      <td>4</td>\n",
       "      <td>524</td>\n",
       "      <td>52</td>\n",
       "    </tr>\n",
       "    <tr>\n",
       "      <th>12348.00000</th>\n",
       "      <td>75</td>\n",
       "      <td>1</td>\n",
       "      <td>222.16000</td>\n",
       "      <td>2</td>\n",
       "      <td>1</td>\n",
       "      <td>1</td>\n",
       "      <td>211</td>\n",
       "      <td>21</td>\n",
       "    </tr>\n",
       "    <tr>\n",
       "      <th>12349.00000</th>\n",
       "      <td>44</td>\n",
       "      <td>3</td>\n",
       "      <td>2671.14000</td>\n",
       "      <td>3</td>\n",
       "      <td>3</td>\n",
       "      <td>5</td>\n",
       "      <td>335</td>\n",
       "      <td>33</td>\n",
       "    </tr>\n",
       "    <tr>\n",
       "      <th>12351.00000</th>\n",
       "      <td>12</td>\n",
       "      <td>1</td>\n",
       "      <td>300.93000</td>\n",
       "      <td>5</td>\n",
       "      <td>1</td>\n",
       "      <td>2</td>\n",
       "      <td>512</td>\n",
       "      <td>51</td>\n",
       "    </tr>\n",
       "  </tbody>\n",
       "</table>\n",
       "</div>"
      ],
      "text/plain": [
       "             Recency  Frequency   Monetary RecencyScore FrequencyScore  \\\n",
       "Customer ID                                                              \n",
       "12346.00000      166         11  372.86000            2              5   \n",
       "12347.00000        4          2 1323.32000            5              2   \n",
       "12348.00000       75          1  222.16000            2              1   \n",
       "12349.00000       44          3 2671.14000            3              3   \n",
       "12351.00000       12          1  300.93000            5              1   \n",
       "\n",
       "            MonetaryScore RFM_SCORE Segment  \n",
       "Customer ID                                  \n",
       "12346.00000             2       252      25  \n",
       "12347.00000             4       524      52  \n",
       "12348.00000             1       211      21  \n",
       "12349.00000             5       335      33  \n",
       "12351.00000             2       512      51  "
      ]
     },
     "execution_count": 30,
     "metadata": {},
     "output_type": "execute_result"
    }
   ],
   "source": [
    "rfm['Segment'] = rfm['RecencyScore'].astype(str) + rfm['FrequencyScore'].astype(str)\n",
    "rfm.head()"
   ]
  },
  {
   "cell_type": "markdown",
   "metadata": {
    "papermill": {
     "duration": 0.121933,
     "end_time": "2021-01-26T07:00:21.079944",
     "exception": false,
     "start_time": "2021-01-26T07:00:20.958011",
     "status": "completed"
    },
    "tags": []
   },
   "source": [
    "in the last step, we will convert the metrics into category names"
   ]
  },
  {
   "cell_type": "code",
   "execution_count": 31,
   "metadata": {
    "execution": {
     "iopub.execute_input": "2021-01-26T07:00:21.372998Z",
     "iopub.status.busy": "2021-01-26T07:00:21.363715Z",
     "iopub.status.idle": "2021-01-26T07:00:21.457408Z",
     "shell.execute_reply": "2021-01-26T07:00:21.457978Z"
    },
    "papermill": {
     "duration": 0.228836,
     "end_time": "2021-01-26T07:00:21.458174",
     "exception": false,
     "start_time": "2021-01-26T07:00:21.229338",
     "status": "completed"
    },
    "tags": []
   },
   "outputs": [
    {
     "data": {
      "text/html": [
       "<div>\n",
       "<style scoped>\n",
       "    .dataframe tbody tr th:only-of-type {\n",
       "        vertical-align: middle;\n",
       "    }\n",
       "\n",
       "    .dataframe tbody tr th {\n",
       "        vertical-align: top;\n",
       "    }\n",
       "\n",
       "    .dataframe thead th {\n",
       "        text-align: right;\n",
       "    }\n",
       "</style>\n",
       "<table border=\"1\" class=\"dataframe\">\n",
       "  <thead>\n",
       "    <tr style=\"text-align: right;\">\n",
       "      <th></th>\n",
       "      <th>Recency</th>\n",
       "      <th>Frequency</th>\n",
       "      <th>Monetary</th>\n",
       "      <th>RecencyScore</th>\n",
       "      <th>FrequencyScore</th>\n",
       "      <th>MonetaryScore</th>\n",
       "      <th>RFM_SCORE</th>\n",
       "      <th>Segment</th>\n",
       "    </tr>\n",
       "    <tr>\n",
       "      <th>Customer ID</th>\n",
       "      <th></th>\n",
       "      <th></th>\n",
       "      <th></th>\n",
       "      <th></th>\n",
       "      <th></th>\n",
       "      <th></th>\n",
       "      <th></th>\n",
       "      <th></th>\n",
       "    </tr>\n",
       "  </thead>\n",
       "  <tbody>\n",
       "    <tr>\n",
       "      <th>12346.00000</th>\n",
       "      <td>166</td>\n",
       "      <td>11</td>\n",
       "      <td>372.86000</td>\n",
       "      <td>2</td>\n",
       "      <td>5</td>\n",
       "      <td>2</td>\n",
       "      <td>252</td>\n",
       "      <td>Cant_Loose</td>\n",
       "    </tr>\n",
       "    <tr>\n",
       "      <th>12347.00000</th>\n",
       "      <td>4</td>\n",
       "      <td>2</td>\n",
       "      <td>1323.32000</td>\n",
       "      <td>5</td>\n",
       "      <td>2</td>\n",
       "      <td>4</td>\n",
       "      <td>524</td>\n",
       "      <td>Potential_Loyalists</td>\n",
       "    </tr>\n",
       "    <tr>\n",
       "      <th>12348.00000</th>\n",
       "      <td>75</td>\n",
       "      <td>1</td>\n",
       "      <td>222.16000</td>\n",
       "      <td>2</td>\n",
       "      <td>1</td>\n",
       "      <td>1</td>\n",
       "      <td>211</td>\n",
       "      <td>Hibernating</td>\n",
       "    </tr>\n",
       "    <tr>\n",
       "      <th>12349.00000</th>\n",
       "      <td>44</td>\n",
       "      <td>3</td>\n",
       "      <td>2671.14000</td>\n",
       "      <td>3</td>\n",
       "      <td>3</td>\n",
       "      <td>5</td>\n",
       "      <td>335</td>\n",
       "      <td>Need_Attention</td>\n",
       "    </tr>\n",
       "    <tr>\n",
       "      <th>12351.00000</th>\n",
       "      <td>12</td>\n",
       "      <td>1</td>\n",
       "      <td>300.93000</td>\n",
       "      <td>5</td>\n",
       "      <td>1</td>\n",
       "      <td>2</td>\n",
       "      <td>512</td>\n",
       "      <td>New_Customers</td>\n",
       "    </tr>\n",
       "  </tbody>\n",
       "</table>\n",
       "</div>"
      ],
      "text/plain": [
       "             Recency  Frequency   Monetary RecencyScore FrequencyScore  \\\n",
       "Customer ID                                                              \n",
       "12346.00000      166         11  372.86000            2              5   \n",
       "12347.00000        4          2 1323.32000            5              2   \n",
       "12348.00000       75          1  222.16000            2              1   \n",
       "12349.00000       44          3 2671.14000            3              3   \n",
       "12351.00000       12          1  300.93000            5              1   \n",
       "\n",
       "            MonetaryScore RFM_SCORE              Segment  \n",
       "Customer ID                                               \n",
       "12346.00000             2       252           Cant_Loose  \n",
       "12347.00000             4       524  Potential_Loyalists  \n",
       "12348.00000             1       211          Hibernating  \n",
       "12349.00000             5       335       Need_Attention  \n",
       "12351.00000             2       512        New_Customers  "
      ]
     },
     "execution_count": 31,
     "metadata": {},
     "output_type": "execute_result"
    }
   ],
   "source": [
    "rfm['Segment'] = rfm['Segment'].replace(seg_map, regex=True)\n",
    "rfm.head()"
   ]
  },
  {
   "cell_type": "markdown",
   "metadata": {
    "papermill": {
     "duration": 0.113971,
     "end_time": "2021-01-26T07:00:21.688854",
     "exception": false,
     "start_time": "2021-01-26T07:00:21.574883",
     "status": "completed"
    },
    "tags": []
   },
   "source": [
    "see the number of customers that fall into each category"
   ]
  },
  {
   "cell_type": "code",
   "execution_count": 32,
   "metadata": {
    "execution": {
     "iopub.execute_input": "2021-01-26T07:00:21.928774Z",
     "iopub.status.busy": "2021-01-26T07:00:21.928020Z",
     "iopub.status.idle": "2021-01-26T07:00:21.936566Z",
     "shell.execute_reply": "2021-01-26T07:00:21.937186Z"
    },
    "papermill": {
     "duration": 0.130776,
     "end_time": "2021-01-26T07:00:21.937344",
     "exception": false,
     "start_time": "2021-01-26T07:00:21.806568",
     "status": "completed"
    },
    "tags": []
   },
   "outputs": [
    {
     "data": {
      "text/plain": [
       "Hibernating            1017\n",
       "Loyal_Customers         742\n",
       "Champions               663\n",
       "At_Risk                 611\n",
       "Potential_Loyalists     517\n",
       "About_to_Sleep          343\n",
       "Need_Attention          207\n",
       "Promising                87\n",
       "Cant_Loose               77\n",
       "New_Customers            50\n",
       "Name: Segment, dtype: int64"
      ]
     },
     "execution_count": 32,
     "metadata": {},
     "output_type": "execute_result"
    }
   ],
   "source": [
    "rfm['Segment'].value_counts()"
   ]
  },
  {
   "cell_type": "markdown",
   "metadata": {
    "papermill": {
     "duration": 0.117549,
     "end_time": "2021-01-26T07:00:22.174534",
     "exception": false,
     "start_time": "2021-01-26T07:00:22.056985",
     "status": "completed"
    },
    "tags": []
   },
   "source": [
    "## Time for Action"
   ]
  },
  {
   "cell_type": "markdown",
   "metadata": {
    "papermill": {
     "duration": 0.114676,
     "end_time": "2021-01-26T07:00:22.405094",
     "exception": false,
     "start_time": "2021-01-26T07:00:22.290418",
     "status": "completed"
    },
    "tags": []
   },
   "source": [
    "Now that we have all the scores for the customers and we have been able to categorize them into 10 groups, it's time for action. We will be using metrics for this process, not scores. We will be focusing on the groups that need a better customer relationship and try to figure out what we can do in order to make that specific segment purchase more frequently and become loyal. Thanks to RFM scores of the segments, we know what exactly that segment needs."
   ]
  },
  {
   "cell_type": "code",
   "execution_count": 33,
   "metadata": {
    "execution": {
     "iopub.execute_input": "2021-01-26T07:00:22.638839Z",
     "iopub.status.busy": "2021-01-26T07:00:22.638044Z",
     "iopub.status.idle": "2021-01-26T07:00:22.667421Z",
     "shell.execute_reply": "2021-01-26T07:00:22.666800Z"
    },
    "papermill": {
     "duration": 0.14767,
     "end_time": "2021-01-26T07:00:22.667538",
     "exception": false,
     "start_time": "2021-01-26T07:00:22.519868",
     "status": "completed"
    },
    "tags": []
   },
   "outputs": [
    {
     "data": {
      "text/html": [
       "<div>\n",
       "<style scoped>\n",
       "    .dataframe tbody tr th:only-of-type {\n",
       "        vertical-align: middle;\n",
       "    }\n",
       "\n",
       "    .dataframe tbody tr th {\n",
       "        vertical-align: top;\n",
       "    }\n",
       "\n",
       "    .dataframe thead tr th {\n",
       "        text-align: left;\n",
       "    }\n",
       "\n",
       "    .dataframe thead tr:last-of-type th {\n",
       "        text-align: right;\n",
       "    }\n",
       "</style>\n",
       "<table border=\"1\" class=\"dataframe\">\n",
       "  <thead>\n",
       "    <tr>\n",
       "      <th></th>\n",
       "      <th colspan=\"2\" halign=\"left\">Recency</th>\n",
       "      <th colspan=\"2\" halign=\"left\">Frequency</th>\n",
       "      <th colspan=\"2\" halign=\"left\">Monetary</th>\n",
       "    </tr>\n",
       "    <tr>\n",
       "      <th></th>\n",
       "      <th>mean</th>\n",
       "      <th>count</th>\n",
       "      <th>mean</th>\n",
       "      <th>count</th>\n",
       "      <th>mean</th>\n",
       "      <th>count</th>\n",
       "    </tr>\n",
       "    <tr>\n",
       "      <th>Segment</th>\n",
       "      <th></th>\n",
       "      <th></th>\n",
       "      <th></th>\n",
       "      <th></th>\n",
       "      <th></th>\n",
       "      <th></th>\n",
       "    </tr>\n",
       "  </thead>\n",
       "  <tbody>\n",
       "    <tr>\n",
       "      <th>About_to_Sleep</th>\n",
       "      <td>54.81924</td>\n",
       "      <td>343</td>\n",
       "      <td>1.20117</td>\n",
       "      <td>343</td>\n",
       "      <td>441.32000</td>\n",
       "      <td>343</td>\n",
       "    </tr>\n",
       "    <tr>\n",
       "      <th>At_Risk</th>\n",
       "      <td>153.15548</td>\n",
       "      <td>611</td>\n",
       "      <td>3.07365</td>\n",
       "      <td>611</td>\n",
       "      <td>1188.87832</td>\n",
       "      <td>611</td>\n",
       "    </tr>\n",
       "    <tr>\n",
       "      <th>Cant_Loose</th>\n",
       "      <td>125.11688</td>\n",
       "      <td>77</td>\n",
       "      <td>9.11688</td>\n",
       "      <td>77</td>\n",
       "      <td>4099.45000</td>\n",
       "      <td>77</td>\n",
       "    </tr>\n",
       "    <tr>\n",
       "      <th>Champions</th>\n",
       "      <td>8.11916</td>\n",
       "      <td>663</td>\n",
       "      <td>12.55354</td>\n",
       "      <td>663</td>\n",
       "      <td>6852.26417</td>\n",
       "      <td>663</td>\n",
       "    </tr>\n",
       "    <tr>\n",
       "      <th>Hibernating</th>\n",
       "      <td>215.05605</td>\n",
       "      <td>1017</td>\n",
       "      <td>1.12586</td>\n",
       "      <td>1017</td>\n",
       "      <td>403.18339</td>\n",
       "      <td>1017</td>\n",
       "    </tr>\n",
       "    <tr>\n",
       "      <th>Loyal_Customers</th>\n",
       "      <td>37.28706</td>\n",
       "      <td>742</td>\n",
       "      <td>6.83019</td>\n",
       "      <td>742</td>\n",
       "      <td>2746.06735</td>\n",
       "      <td>742</td>\n",
       "    </tr>\n",
       "    <tr>\n",
       "      <th>Need_Attention</th>\n",
       "      <td>54.26570</td>\n",
       "      <td>207</td>\n",
       "      <td>2.44928</td>\n",
       "      <td>207</td>\n",
       "      <td>1060.35700</td>\n",
       "      <td>207</td>\n",
       "    </tr>\n",
       "    <tr>\n",
       "      <th>New_Customers</th>\n",
       "      <td>9.58000</td>\n",
       "      <td>50</td>\n",
       "      <td>1.00000</td>\n",
       "      <td>50</td>\n",
       "      <td>386.19920</td>\n",
       "      <td>50</td>\n",
       "    </tr>\n",
       "    <tr>\n",
       "      <th>Potential_Loyalists</th>\n",
       "      <td>19.79304</td>\n",
       "      <td>517</td>\n",
       "      <td>2.01741</td>\n",
       "      <td>517</td>\n",
       "      <td>729.51099</td>\n",
       "      <td>517</td>\n",
       "    </tr>\n",
       "    <tr>\n",
       "      <th>Promising</th>\n",
       "      <td>26.74713</td>\n",
       "      <td>87</td>\n",
       "      <td>1.00000</td>\n",
       "      <td>87</td>\n",
       "      <td>367.08678</td>\n",
       "      <td>87</td>\n",
       "    </tr>\n",
       "  </tbody>\n",
       "</table>\n",
       "</div>"
      ],
      "text/plain": [
       "                      Recency       Frequency         Monetary      \n",
       "                         mean count      mean count       mean count\n",
       "Segment                                                             \n",
       "About_to_Sleep       54.81924   343   1.20117   343  441.32000   343\n",
       "At_Risk             153.15548   611   3.07365   611 1188.87832   611\n",
       "Cant_Loose          125.11688    77   9.11688    77 4099.45000    77\n",
       "Champions             8.11916   663  12.55354   663 6852.26417   663\n",
       "Hibernating         215.05605  1017   1.12586  1017  403.18339  1017\n",
       "Loyal_Customers      37.28706   742   6.83019   742 2746.06735   742\n",
       "Need_Attention       54.26570   207   2.44928   207 1060.35700   207\n",
       "New_Customers         9.58000    50   1.00000    50  386.19920    50\n",
       "Potential_Loyalists  19.79304   517   2.01741   517  729.51099   517\n",
       "Promising            26.74713    87   1.00000    87  367.08678    87"
      ]
     },
     "execution_count": 33,
     "metadata": {},
     "output_type": "execute_result"
    }
   ],
   "source": [
    "rfm[[\"Segment\", \"Recency\", \"Frequency\", \"Monetary\"]].groupby(\"Segment\").agg([\"mean\", \"count\"])"
   ]
  },
  {
   "cell_type": "markdown",
   "metadata": {
    "papermill": {
     "duration": 0.119495,
     "end_time": "2021-01-26T07:00:22.903925",
     "exception": false,
     "start_time": "2021-01-26T07:00:22.784430",
     "status": "completed"
    },
    "tags": []
   },
   "source": [
    "take a closer look at the customers that need attention:"
   ]
  },
  {
   "cell_type": "code",
   "execution_count": 34,
   "metadata": {
    "execution": {
     "iopub.execute_input": "2021-01-26T07:00:23.155974Z",
     "iopub.status.busy": "2021-01-26T07:00:23.154944Z",
     "iopub.status.idle": "2021-01-26T07:00:23.159349Z",
     "shell.execute_reply": "2021-01-26T07:00:23.159866Z"
    },
    "papermill": {
     "duration": 0.137809,
     "end_time": "2021-01-26T07:00:23.160025",
     "exception": false,
     "start_time": "2021-01-26T07:00:23.022216",
     "status": "completed"
    },
    "tags": []
   },
   "outputs": [
    {
     "data": {
      "text/html": [
       "<div>\n",
       "<style scoped>\n",
       "    .dataframe tbody tr th:only-of-type {\n",
       "        vertical-align: middle;\n",
       "    }\n",
       "\n",
       "    .dataframe tbody tr th {\n",
       "        vertical-align: top;\n",
       "    }\n",
       "\n",
       "    .dataframe thead th {\n",
       "        text-align: right;\n",
       "    }\n",
       "</style>\n",
       "<table border=\"1\" class=\"dataframe\">\n",
       "  <thead>\n",
       "    <tr style=\"text-align: right;\">\n",
       "      <th></th>\n",
       "      <th>Recency</th>\n",
       "      <th>Frequency</th>\n",
       "      <th>Monetary</th>\n",
       "      <th>RecencyScore</th>\n",
       "      <th>FrequencyScore</th>\n",
       "      <th>MonetaryScore</th>\n",
       "      <th>RFM_SCORE</th>\n",
       "      <th>Segment</th>\n",
       "    </tr>\n",
       "    <tr>\n",
       "      <th>Customer ID</th>\n",
       "      <th></th>\n",
       "      <th></th>\n",
       "      <th></th>\n",
       "      <th></th>\n",
       "      <th></th>\n",
       "      <th></th>\n",
       "      <th></th>\n",
       "      <th></th>\n",
       "    </tr>\n",
       "  </thead>\n",
       "  <tbody>\n",
       "    <tr>\n",
       "      <th>12349.00000</th>\n",
       "      <td>44</td>\n",
       "      <td>3</td>\n",
       "      <td>2671.14000</td>\n",
       "      <td>3</td>\n",
       "      <td>3</td>\n",
       "      <td>5</td>\n",
       "      <td>335</td>\n",
       "      <td>Need_Attention</td>\n",
       "    </tr>\n",
       "    <tr>\n",
       "      <th>12369.00000</th>\n",
       "      <td>50</td>\n",
       "      <td>3</td>\n",
       "      <td>1791.15000</td>\n",
       "      <td>3</td>\n",
       "      <td>3</td>\n",
       "      <td>4</td>\n",
       "      <td>334</td>\n",
       "      <td>Need_Attention</td>\n",
       "    </tr>\n",
       "    <tr>\n",
       "      <th>12371.00000</th>\n",
       "      <td>46</td>\n",
       "      <td>3</td>\n",
       "      <td>2179.42000</td>\n",
       "      <td>3</td>\n",
       "      <td>3</td>\n",
       "      <td>5</td>\n",
       "      <td>335</td>\n",
       "      <td>Need_Attention</td>\n",
       "    </tr>\n",
       "    <tr>\n",
       "      <th>12374.00000</th>\n",
       "      <td>58</td>\n",
       "      <td>3</td>\n",
       "      <td>2246.29000</td>\n",
       "      <td>3</td>\n",
       "      <td>3</td>\n",
       "      <td>5</td>\n",
       "      <td>335</td>\n",
       "      <td>Need_Attention</td>\n",
       "    </tr>\n",
       "    <tr>\n",
       "      <th>12389.00000</th>\n",
       "      <td>39</td>\n",
       "      <td>3</td>\n",
       "      <td>1433.33000</td>\n",
       "      <td>3</td>\n",
       "      <td>3</td>\n",
       "      <td>4</td>\n",
       "      <td>334</td>\n",
       "      <td>Need_Attention</td>\n",
       "    </tr>\n",
       "  </tbody>\n",
       "</table>\n",
       "</div>"
      ],
      "text/plain": [
       "             Recency  Frequency   Monetary RecencyScore FrequencyScore  \\\n",
       "Customer ID                                                              \n",
       "12349.00000       44          3 2671.14000            3              3   \n",
       "12369.00000       50          3 1791.15000            3              3   \n",
       "12371.00000       46          3 2179.42000            3              3   \n",
       "12374.00000       58          3 2246.29000            3              3   \n",
       "12389.00000       39          3 1433.33000            3              3   \n",
       "\n",
       "            MonetaryScore RFM_SCORE         Segment  \n",
       "Customer ID                                          \n",
       "12349.00000             5       335  Need_Attention  \n",
       "12369.00000             4       334  Need_Attention  \n",
       "12371.00000             5       335  Need_Attention  \n",
       "12374.00000             5       335  Need_Attention  \n",
       "12389.00000             4       334  Need_Attention  "
      ]
     },
     "execution_count": 34,
     "metadata": {},
     "output_type": "execute_result"
    }
   ],
   "source": [
    "rfm[rfm[\"Segment\"] == \"Need_Attention\"].head()"
   ]
  },
  {
   "cell_type": "markdown",
   "metadata": {
    "papermill": {
     "duration": 0.1151,
     "end_time": "2021-01-26T07:00:23.392055",
     "exception": false,
     "start_time": "2021-01-26T07:00:23.276955",
     "status": "completed"
    },
    "tags": []
   },
   "source": [
    "**Need_Attention** segment has 207 customers that last purchased nearly 2 months ago, despite the fact that they don't frequently purchase, they spend quite a good amount of money. So we should be focusing on this group. In order to make them transform into a customer that purchases frequently, we can offer them some discount with a time limit of 30 days. So that they would revisit and purchase."
   ]
  },
  {
   "cell_type": "markdown",
   "metadata": {
    "papermill": {
     "duration": 0.162989,
     "end_time": "2021-01-26T07:00:23.670453",
     "exception": false,
     "start_time": "2021-01-26T07:00:23.507464",
     "status": "completed"
    },
    "tags": []
   },
   "source": [
    "**Can't_Loose** segment has purchased for 9 times this year but the last date of this was nearly 4 months, they spend a good amount of money and they used to be our loyal customers, we can't loose them. We should put this 77 customers into our loyalty program, offer them seasonal discounts, make them feel special while purchasing from our company and make them loyal again. We can export the customer id list into an excel file and pass this file to our Marketing Department.  "
   ]
  },
  {
   "cell_type": "code",
   "execution_count": 35,
   "metadata": {
    "execution": {
     "iopub.execute_input": "2021-01-26T07:00:23.907282Z",
     "iopub.status.busy": "2021-01-26T07:00:23.906219Z",
     "iopub.status.idle": "2021-01-26T07:00:23.914434Z",
     "shell.execute_reply": "2021-01-26T07:00:23.914912Z"
    },
    "papermill": {
     "duration": 0.12869,
     "end_time": "2021-01-26T07:00:23.915071",
     "exception": false,
     "start_time": "2021-01-26T07:00:23.786381",
     "status": "completed"
    },
    "tags": []
   },
   "outputs": [],
   "source": [
    "marketing_df = pd.DataFrame()\n",
    "marketing_df[\"Cant_Loose\"] = rfm[rfm[\"Segment\"] == \"Cant_Loose\"].index"
   ]
  },
  {
   "cell_type": "code",
   "execution_count": 36,
   "metadata": {
    "execution": {
     "iopub.execute_input": "2021-01-26T07:00:24.158400Z",
     "iopub.status.busy": "2021-01-26T07:00:24.157360Z",
     "iopub.status.idle": "2021-01-26T07:00:24.167031Z",
     "shell.execute_reply": "2021-01-26T07:00:24.166367Z"
    },
    "papermill": {
     "duration": 0.132618,
     "end_time": "2021-01-26T07:00:24.167181",
     "exception": false,
     "start_time": "2021-01-26T07:00:24.034563",
     "status": "completed"
    },
    "tags": []
   },
   "outputs": [
    {
     "data": {
      "text/html": [
       "<div>\n",
       "<style scoped>\n",
       "    .dataframe tbody tr th:only-of-type {\n",
       "        vertical-align: middle;\n",
       "    }\n",
       "\n",
       "    .dataframe tbody tr th {\n",
       "        vertical-align: top;\n",
       "    }\n",
       "\n",
       "    .dataframe thead th {\n",
       "        text-align: right;\n",
       "    }\n",
       "</style>\n",
       "<table border=\"1\" class=\"dataframe\">\n",
       "  <thead>\n",
       "    <tr style=\"text-align: right;\">\n",
       "      <th></th>\n",
       "      <th>Cant_Loose</th>\n",
       "    </tr>\n",
       "  </thead>\n",
       "  <tbody>\n",
       "    <tr>\n",
       "      <th>0</th>\n",
       "      <td>12346.00000</td>\n",
       "    </tr>\n",
       "    <tr>\n",
       "      <th>1</th>\n",
       "      <td>12380.00000</td>\n",
       "    </tr>\n",
       "    <tr>\n",
       "      <th>2</th>\n",
       "      <td>12482.00000</td>\n",
       "    </tr>\n",
       "    <tr>\n",
       "      <th>3</th>\n",
       "      <td>12510.00000</td>\n",
       "    </tr>\n",
       "    <tr>\n",
       "      <th>4</th>\n",
       "      <td>12891.00000</td>\n",
       "    </tr>\n",
       "  </tbody>\n",
       "</table>\n",
       "</div>"
      ],
      "text/plain": [
       "   Cant_Loose\n",
       "0 12346.00000\n",
       "1 12380.00000\n",
       "2 12482.00000\n",
       "3 12510.00000\n",
       "4 12891.00000"
      ]
     },
     "execution_count": 36,
     "metadata": {},
     "output_type": "execute_result"
    }
   ],
   "source": [
    "marketing_df.head()"
   ]
  },
  {
   "cell_type": "markdown",
   "metadata": {
    "papermill": {
     "duration": 0.117389,
     "end_time": "2021-01-26T07:00:24.402350",
     "exception": false,
     "start_time": "2021-01-26T07:00:24.284961",
     "status": "completed"
    },
    "tags": []
   },
   "source": [
    "change the dtype of Customer ID variable in order to get rid of the decimal part:"
   ]
  },
  {
   "cell_type": "code",
   "execution_count": 37,
   "metadata": {
    "execution": {
     "iopub.execute_input": "2021-01-26T07:00:24.642796Z",
     "iopub.status.busy": "2021-01-26T07:00:24.642026Z",
     "iopub.status.idle": "2021-01-26T07:00:24.651293Z",
     "shell.execute_reply": "2021-01-26T07:00:24.651801Z"
    },
    "papermill": {
     "duration": 0.131938,
     "end_time": "2021-01-26T07:00:24.651956",
     "exception": false,
     "start_time": "2021-01-26T07:00:24.520018",
     "status": "completed"
    },
    "tags": []
   },
   "outputs": [
    {
     "data": {
      "text/html": [
       "<div>\n",
       "<style scoped>\n",
       "    .dataframe tbody tr th:only-of-type {\n",
       "        vertical-align: middle;\n",
       "    }\n",
       "\n",
       "    .dataframe tbody tr th {\n",
       "        vertical-align: top;\n",
       "    }\n",
       "\n",
       "    .dataframe thead th {\n",
       "        text-align: right;\n",
       "    }\n",
       "</style>\n",
       "<table border=\"1\" class=\"dataframe\">\n",
       "  <thead>\n",
       "    <tr style=\"text-align: right;\">\n",
       "      <th></th>\n",
       "      <th>Cant_Loose</th>\n",
       "    </tr>\n",
       "  </thead>\n",
       "  <tbody>\n",
       "    <tr>\n",
       "      <th>0</th>\n",
       "      <td>12346</td>\n",
       "    </tr>\n",
       "    <tr>\n",
       "      <th>1</th>\n",
       "      <td>12380</td>\n",
       "    </tr>\n",
       "    <tr>\n",
       "      <th>2</th>\n",
       "      <td>12482</td>\n",
       "    </tr>\n",
       "    <tr>\n",
       "      <th>3</th>\n",
       "      <td>12510</td>\n",
       "    </tr>\n",
       "    <tr>\n",
       "      <th>4</th>\n",
       "      <td>12891</td>\n",
       "    </tr>\n",
       "  </tbody>\n",
       "</table>\n",
       "</div>"
      ],
      "text/plain": [
       "   Cant_Loose\n",
       "0       12346\n",
       "1       12380\n",
       "2       12482\n",
       "3       12510\n",
       "4       12891"
      ]
     },
     "execution_count": 37,
     "metadata": {},
     "output_type": "execute_result"
    }
   ],
   "source": [
    "marketing_df['Cant_Loose'] = marketing_df['Cant_Loose'].astype(int)\n",
    "marketing_df.head()"
   ]
  },
  {
   "cell_type": "code",
   "execution_count": 38,
   "metadata": {
    "execution": {
     "iopub.execute_input": "2021-01-26T07:00:24.900403Z",
     "iopub.status.busy": "2021-01-26T07:00:24.899601Z",
     "iopub.status.idle": "2021-01-26T07:00:24.904112Z",
     "shell.execute_reply": "2021-01-26T07:00:24.903416Z"
    },
    "papermill": {
     "duration": 0.1338,
     "end_time": "2021-01-26T07:00:24.904266",
     "exception": false,
     "start_time": "2021-01-26T07:00:24.770466",
     "status": "completed"
    },
    "tags": []
   },
   "outputs": [
    {
     "data": {
      "text/plain": [
       "<bound method DataFrame.info of     Cant_Loose\n",
       "0        12346\n",
       "1        12380\n",
       "2        12482\n",
       "3        12510\n",
       "4        12891\n",
       "..         ...\n",
       "72       18051\n",
       "73       18064\n",
       "74       18094\n",
       "75       18251\n",
       "76       18258\n",
       "\n",
       "[77 rows x 1 columns]>"
      ]
     },
     "execution_count": 38,
     "metadata": {},
     "output_type": "execute_result"
    }
   ],
   "source": [
    "marketing_df.info"
   ]
  },
  {
   "cell_type": "code",
   "execution_count": 39,
   "metadata": {
    "execution": {
     "iopub.execute_input": "2021-01-26T07:00:25.153095Z",
     "iopub.status.busy": "2021-01-26T07:00:25.152045Z",
     "iopub.status.idle": "2021-01-26T07:00:25.159605Z",
     "shell.execute_reply": "2021-01-26T07:00:25.158815Z"
    },
    "papermill": {
     "duration": 0.132439,
     "end_time": "2021-01-26T07:00:25.159737",
     "exception": false,
     "start_time": "2021-01-26T07:00:25.027298",
     "status": "completed"
    },
    "tags": []
   },
   "outputs": [],
   "source": [
    "marketing_df.to_csv(\"cant_loose.csv\")"
   ]
  }
 ],
 "metadata": {
  "kernelspec": {
   "display_name": "Python 3",
   "language": "python",
   "name": "python3"
  },
  "language_info": {
   "codemirror_mode": {
    "name": "ipython",
    "version": 3
   },
   "file_extension": ".py",
   "mimetype": "text/x-python",
   "name": "python",
   "nbconvert_exporter": "python",
   "pygments_lexer": "ipython3",
   "version": "3.7.6"
  },
  "papermill": {
   "duration": 233.533405,
   "end_time": "2021-01-26T07:00:25.386964",
   "environment_variables": {},
   "exception": null,
   "input_path": "__notebook__.ipynb",
   "output_path": "__notebook__.ipynb",
   "parameters": {},
   "start_time": "2021-01-26T06:56:31.853559",
   "version": "2.1.0"
  }
 },
 "nbformat": 4,
 "nbformat_minor": 4
}
